{
 "cells": [
  {
   "cell_type": "code",
   "execution_count": 1,
   "metadata": {},
   "outputs": [],
   "source": [
    "from poisson_fem import PoissonFEM\n",
    "import numpy as np\n",
    "import scipy.sparse as sps\n",
    "import scipy.sparse.linalg as lg\n",
    "import time\n",
    "import petsc4py\n",
    "import sys\n",
    "petsc4py.init(sys.argv)\n",
    "from petsc4py import PETSc"
   ]
  },
  {
   "cell_type": "code",
   "execution_count": 2,
   "metadata": {},
   "outputs": [],
   "source": [
    "m = 8\n",
    "mesh = PoissonFEM.RectangularMesh(np.ones(m)/m)\n",
    "# mesh.plot()"
   ]
  },
  {
   "cell_type": "code",
   "execution_count": 3,
   "metadata": {},
   "outputs": [],
   "source": [
    "def origin(x):\n",
    "    return np.abs(x[0]) < np.finfo(float).eps and np.abs(x[1]) < np.finfo(float).eps\n",
    "def essBoundaryFun(x):\n",
    "    return 1.0\n",
    "mesh.setEssentialBoundary(origin, essBoundaryFun)"
   ]
  },
  {
   "cell_type": "code",
   "execution_count": 4,
   "metadata": {},
   "outputs": [],
   "source": [
    "def domainBoundary(x):\n",
    "    # unit square\n",
    "    return np.abs(x[0]) < np.finfo(float).eps or np.abs(x[1]) < np.finfo(float).eps or \\\n",
    "            np.abs(x[0]) > 1.0 - np.finfo(float).eps or np.abs(x[1]) > 1.0 - np.finfo(float).eps\n",
    "mesh.setNaturalBoundary(domainBoundary)"
   ]
  },
  {
   "cell_type": "code",
   "execution_count": 5,
   "metadata": {},
   "outputs": [],
   "source": [
    "#Define boundary flux field\n",
    "def flux(x):\n",
    "    a = np.array([1, 2, 3])\n",
    "    q = np.array([a[0] + a[2]*x[1], a[1] + a[2]*x[0]])\n",
    "    return q"
   ]
  },
  {
   "cell_type": "code",
   "execution_count": 6,
   "metadata": {},
   "outputs": [],
   "source": [
    "rhs = PoissonFEM.RightHandSide(mesh)"
   ]
  },
  {
   "cell_type": "code",
   "execution_count": 7,
   "metadata": {},
   "outputs": [],
   "source": [
    "rhs.setNaturalRHS(mesh, flux)"
   ]
  },
  {
   "cell_type": "code",
   "execution_count": 8,
   "metadata": {},
   "outputs": [],
   "source": [
    "funSpace = PoissonFEM.FunctionSpace(mesh)"
   ]
  },
  {
   "cell_type": "code",
   "execution_count": 9,
   "metadata": {},
   "outputs": [],
   "source": [
    "K = PoissonFEM.StiffnessMatrix(mesh, funSpace)"
   ]
  },
  {
   "cell_type": "code",
   "execution_count": 10,
   "metadata": {},
   "outputs": [],
   "source": [
    "rhs.setRhsStencil(mesh, K)"
   ]
  },
  {
   "cell_type": "code",
   "execution_count": 11,
   "metadata": {},
   "outputs": [],
   "source": [
    "lmbda_np = np.arange(5.0, m**2 + 5.0)\n",
    "lmbda = PETSc.Vec().createSeq(mesh.nCells)\n",
    "rangeCells = range(mesh.nCells)\n",
    "lmbda.setValues(rangeCells, lmbda_np)"
   ]
  },
  {
   "cell_type": "code",
   "execution_count": 12,
   "metadata": {},
   "outputs": [],
   "source": [
    "# Precomputations\n",
    "x = PETSc.Vec().createSeq(mesh.nEq)"
   ]
  },
  {
   "cell_type": "code",
   "execution_count": 13,
   "metadata": {},
   "outputs": [],
   "source": [
    "# Set up solver\n",
    "ksp = PETSc.KSP().create()\n",
    "ksp.setType('preonly')\n",
    "pc = ksp.getPC()\n",
    "pc.setType('cholesky')\n",
    "ksp.setFromOptions() #???"
   ]
  },
  {
   "cell_type": "code",
   "execution_count": 14,
   "metadata": {},
   "outputs": [],
   "source": [
    "N = 1e3"
   ]
  },
  {
   "cell_type": "code",
   "execution_count": 15,
   "metadata": {},
   "outputs": [
    {
     "name": "stdout",
     "output_type": "stream",
     "text": [
      "PETSc time =  3.771090507507324e-05\n"
     ]
    }
   ],
   "source": [
    "start = time.time()\n",
    "for n in range(int(N)):\n",
    "    # Stiffness matrix assembly\n",
    "    K.assemble(lmbda)\n",
    "    # RHS assembly\n",
    "    rhs.assemble(lmbda)\n",
    "    # solving\n",
    "    ksp.setOperators(K.matrix)\n",
    "    ksp.solve(rhs.vector, x)\n",
    "petsc_time = (time.time() - start)/N\n",
    "print('PETSc time = ', petsc_time)"
   ]
  },
  {
   "cell_type": "code",
   "execution_count": 16,
   "metadata": {},
   "outputs": [],
   "source": [
    "# for scipy comparison\n",
    "Kes = K.globStiffStencil.getValuesCSR()\n",
    "Kes = sps.csr_matrix((Kes[2], Kes[1], Kes[0]))"
   ]
  },
  {
   "cell_type": "code",
   "execution_count": 17,
   "metadata": {},
   "outputs": [
    {
     "name": "stdout",
     "output_type": "stream",
     "text": [
      "scipy time =  0.0002895774841308594\n"
     ]
    }
   ],
   "source": [
    "start = time.time()\n",
    "for n in range(int(N)):\n",
    "    Kvecs = Kes @ lmbda.array\n",
    "    K1 = sps.csr_matrix((Kvecs[K.vec_nonzero], K.indices, K.indptr))\n",
    "    rhs.assemble(lmbda)   # for fair comparison\n",
    "    x1 = lg.spsolve(K1, rhs.vector.array)\n",
    "scipy_time = (time.time() - start)/N\n",
    "print('scipy time = ', scipy_time)"
   ]
  },
  {
   "cell_type": "code",
   "execution_count": 18,
   "metadata": {},
   "outputs": [
    {
     "name": "stdout",
     "output_type": "stream",
     "text": [
      "result difference =  1.5062426929228647e-13\n",
      "PETSc speedup =  7.678879187714562\n"
     ]
    }
   ],
   "source": [
    "diff = np.linalg.norm(x.array - x1)/np.linalg.norm(x1)\n",
    "print('result difference = ', diff)\n",
    "print('PETSc speedup = ', scipy_time/petsc_time)"
   ]
  },
  {
   "cell_type": "code",
   "execution_count": 19,
   "metadata": {},
   "outputs": [
    {
     "name": "stdout",
     "output_type": "stream",
     "text": [
      "[1.02278352 1.03570934 1.04495548 1.05272428 1.06002749 1.0675361\n",
      " 1.07593055 1.08577733 1.06292587 1.07902031 1.08924891 1.09710833\n",
      " 1.10395058 1.11052592 1.11736786 1.1249899  1.13438647 1.09232965\n",
      " 1.10428562 1.11421532 1.12259286 1.13015478 1.13740198 1.14472141\n",
      " 1.15248623 1.16097157 1.11139252 1.12170986 1.13110033 1.13969864\n",
      " 1.14774799 1.15550532 1.16319036 1.17098383 1.17901013 1.12553694\n",
      " 1.13495295 1.14399687 1.15266754 1.16101623 1.16911716 1.17704457\n",
      " 1.1848592  1.19259955 1.13660956 1.14548309 1.15433617 1.16309124\n",
      " 1.17168348 1.18006588 1.18820268 1.1960629  1.20362235 1.14543701\n",
      " 1.15398358 1.16280162 1.17173273 1.18061139 1.18930312 1.19769074\n",
      " 1.20565907 1.21311848 1.15238074 1.16076725 1.16976667 1.17902634\n",
      " 1.18829713 1.19738767 1.20612792 1.21433627 1.22177511 1.15728896\n",
      " 1.1659988  1.17547811 1.18525934 1.19506086 1.20467241 1.21390662\n",
      " 1.2225552  1.23031413]\n"
     ]
    }
   ],
   "source": [
    "print(x.array)"
   ]
  },
  {
   "cell_type": "code",
   "execution_count": 20,
   "metadata": {},
   "outputs": [
    {
     "name": "stdout",
     "output_type": "stream",
     "text": [
      "[1.02278352 1.03570934 1.04495548 1.05272428 1.06002749 1.0675361\n",
      " 1.07593055 1.08577733 1.06292587 1.07902031 1.08924891 1.09710833\n",
      " 1.10395058 1.11052592 1.11736786 1.1249899  1.13438647 1.09232965\n",
      " 1.10428562 1.11421532 1.12259286 1.13015478 1.13740198 1.14472141\n",
      " 1.15248623 1.16097157 1.11139252 1.12170986 1.13110033 1.13969864\n",
      " 1.14774799 1.15550532 1.16319036 1.17098383 1.17901013 1.12553694\n",
      " 1.13495295 1.14399687 1.15266754 1.16101623 1.16911716 1.17704457\n",
      " 1.1848592  1.19259955 1.13660956 1.14548309 1.15433617 1.16309124\n",
      " 1.17168348 1.18006588 1.18820268 1.1960629  1.20362235 1.14543701\n",
      " 1.15398358 1.16280162 1.17173273 1.18061139 1.18930312 1.19769074\n",
      " 1.20565907 1.21311848 1.15238074 1.16076725 1.16976667 1.17902634\n",
      " 1.18829713 1.19738767 1.20612792 1.21433627 1.22177511 1.15728896\n",
      " 1.1659988  1.17547811 1.18525934 1.19506086 1.20467241 1.21390662\n",
      " 1.2225552  1.23031413]\n"
     ]
    }
   ],
   "source": [
    "print(x1)"
   ]
  },
  {
   "cell_type": "code",
   "execution_count": null,
   "metadata": {},
   "outputs": [],
   "source": []
  },
  {
   "cell_type": "code",
   "execution_count": null,
   "metadata": {},
   "outputs": [],
   "source": []
  },
  {
   "cell_type": "code",
   "execution_count": null,
   "metadata": {},
   "outputs": [],
   "source": []
  },
  {
   "cell_type": "code",
   "execution_count": null,
   "metadata": {},
   "outputs": [],
   "source": []
  },
  {
   "cell_type": "code",
   "execution_count": null,
   "metadata": {},
   "outputs": [],
   "source": []
  }
 ],
 "metadata": {
  "kernelspec": {
   "display_name": "PyCharm (generative_DR_ROM)",
   "language": "python",
   "name": "pycharm-712517ba"
  },
  "language_info": {
   "codemirror_mode": {
    "name": "ipython",
    "version": 3
   },
   "file_extension": ".py",
   "mimetype": "text/x-python",
   "name": "python",
   "nbconvert_exporter": "python",
   "pygments_lexer": "ipython3",
   "version": "3.7.5"
  }
 },
 "nbformat": 4,
 "nbformat_minor": 2
}

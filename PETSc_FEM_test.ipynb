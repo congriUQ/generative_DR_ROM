{
 "cells": [
  {
   "cell_type": "code",
   "execution_count": 21,
   "metadata": {},
   "outputs": [],
   "source": [
    "from poisson_fem.mesh import PoissonFEM\n",
    "import numpy as np\n",
    "import scipy.sparse as sps\n",
    "import scipy.sparse.linalg as lg\n",
    "import time\n",
    "import petsc4py\n",
    "import sys\n",
    "petsc4py.init(sys.argv)\n",
    "from petsc4py import PETSc"
   ]
  },
  {
   "cell_type": "code",
   "execution_count": 22,
   "metadata": {},
   "outputs": [],
   "source": [
    "m = 8\n",
    "mesh = PoissonFEM.RectangularMesh(np.ones(m)/m)\n",
    "# mesh.plot()"
   ]
  },
  {
   "cell_type": "code",
   "execution_count": 23,
   "metadata": {},
   "outputs": [],
   "source": [
    "def origin(x):\n",
    "    return np.abs(x[0]) < np.finfo(float).eps and np.abs(x[1]) < np.finfo(float).eps\n",
    "def essBoundaryFun(x):\n",
    "    return 1.0\n",
    "mesh.setEssentialBoundary(origin, essBoundaryFun)"
   ]
  },
  {
   "cell_type": "code",
   "execution_count": 24,
   "metadata": {},
   "outputs": [],
   "source": [
    "def domainBoundary(x):\n",
    "    # unit square\n",
    "    return np.abs(x[0]) < np.finfo(float).eps or np.abs(x[1]) < np.finfo(float).eps or \\\n",
    "            np.abs(x[0]) > 1.0 - np.finfo(float).eps or np.abs(x[1]) > 1.0 - np.finfo(float).eps\n",
    "mesh.setNaturalBoundary(domainBoundary)"
   ]
  },
  {
   "cell_type": "code",
   "execution_count": 25,
   "metadata": {},
   "outputs": [],
   "source": [
    "#Define boundary flux field\n",
    "def flux(x):\n",
    "    a = np.array([1, 2, 3])\n",
    "    q = np.array([a[0] + a[2]*x[1], a[1] + a[2]*x[0]])\n",
    "    return q"
   ]
  },
  {
   "cell_type": "code",
   "execution_count": 26,
   "metadata": {},
   "outputs": [],
   "source": [
    "rs = PoissonFEM.RightHandSide(mesh)"
   ]
  },
  {
   "cell_type": "code",
   "execution_count": 27,
   "metadata": {},
   "outputs": [],
   "source": [
    "rs.setNaturalRHS(mesh, flux)"
   ]
  },
  {
   "cell_type": "code",
   "execution_count": 28,
   "metadata": {},
   "outputs": [
    {
     "name": "stdout",
     "output_type": "stream",
     "text": [
      "naturalRHS =  [-0.296875 -0.34375  -0.390625 -0.4375   -0.484375 -0.53125  -0.578125\n",
      " -0.234375 -0.171875  0.        0.        0.        0.        0.\n",
      "  0.        0.        0.171875 -0.21875   0.        0.        0.\n",
      "  0.        0.        0.        0.        0.21875  -0.265625  0.\n",
      "  0.        0.        0.        0.        0.        0.        0.265625\n",
      " -0.3125    0.        0.        0.        0.        0.        0.\n",
      "  0.        0.3125   -0.359375  0.        0.        0.        0.\n",
      "  0.        0.        0.        0.359375 -0.40625   0.        0.\n",
      "  0.        0.        0.        0.        0.        0.40625  -0.453125\n",
      "  0.        0.        0.        0.        0.        0.        0.\n",
      "  0.453125 -0.109375  0.296875  0.34375   0.390625  0.4375    0.484375\n",
      "  0.53125   0.578125  0.546875]\n"
     ]
    }
   ],
   "source": [
    "print('naturalRHS = ', rs.naturalRHS)"
   ]
  },
  {
   "cell_type": "code",
   "execution_count": 29,
   "metadata": {},
   "outputs": [],
   "source": [
    "funSpace = PoissonFEM.FunctionSpace(mesh)"
   ]
  },
  {
   "cell_type": "code",
   "execution_count": 30,
   "metadata": {},
   "outputs": [],
   "source": [
    "K = PoissonFEM.StiffnessMatrix(mesh, funSpace)"
   ]
  },
  {
   "cell_type": "code",
   "execution_count": 31,
   "metadata": {},
   "outputs": [],
   "source": [
    "rs.setRhsStencil(mesh, K)"
   ]
  },
  {
   "cell_type": "code",
   "execution_count": 32,
   "metadata": {},
   "outputs": [
    {
     "name": "stdout",
     "output_type": "stream",
     "text": [
      "diff =  [-0.83333333  0.          0.          0.          0.          0.\n",
      "  0.          0.         -0.83333333 -1.66666667  0.          0.\n",
      "  0.          0.          0.          0.          0.          0.\n",
      "  0.          0.          0.          0.          0.          0.\n",
      "  0.          0.          0.          0.          0.          0.\n",
      "  0.          0.          0.          0.          0.          0.\n",
      "  0.          0.          0.          0.          0.          0.\n",
      "  0.          0.          0.          0.          0.          0.\n",
      "  0.          0.          0.          0.          0.          0.\n",
      "  0.          0.          0.          0.          0.          0.\n",
      "  0.          0.          0.          0.          0.          0.\n",
      "  0.          0.          0.          0.          0.          0.\n",
      "  0.          0.          0.          0.          0.          0.\n",
      "  0.          0.        ]\n"
     ]
    }
   ],
   "source": [
    "x = np.arange(5.0, m**2 + 5.0)\n",
    "rs.assemble(x)\n",
    "diff = rs.naturalRHS - rs.rhs_np\n",
    "print('diff = ', diff)"
   ]
  },
  {
   "cell_type": "code",
   "execution_count": 33,
   "metadata": {},
   "outputs": [],
   "source": [
    "# Precomputations\n",
    "# Kvec = PETSc.Vec().createSeq(mesh.nEq**2)\n",
    "x = PETSc.Vec().createSeq(mesh.nEq)\n",
    "rhs = PETSc.Vec().createSeq(mesh.nEq)"
   ]
  },
  {
   "cell_type": "code",
   "execution_count": 34,
   "metadata": {},
   "outputs": [],
   "source": [
    "# Set up solver\n",
    "ksp = PETSc.KSP().create()\n",
    "ksp.setType('preonly')\n",
    "pc = ksp.getPC()\n",
    "pc.setType('cholesky')\n",
    "ksp.setFromOptions() #???"
   ]
  },
  {
   "cell_type": "code",
   "execution_count": null,
   "metadata": {},
   "outputs": [],
   "source": []
  },
  {
   "cell_type": "code",
   "execution_count": null,
   "metadata": {},
   "outputs": [],
   "source": []
  },
  {
   "cell_type": "code",
   "execution_count": 35,
   "metadata": {},
   "outputs": [],
   "source": [
    "# for scipy comparison\n",
    "Kes = K.globStiffStencil.getValuesCSR()\n",
    "Kes = sps.csr_matrix((Kes[2], Kes[1], Kes[0]))"
   ]
  },
  {
   "cell_type": "code",
   "execution_count": 36,
   "metadata": {},
   "outputs": [],
   "source": [
    "N = 1e2"
   ]
  },
  {
   "cell_type": "code",
   "execution_count": 37,
   "metadata": {},
   "outputs": [
    {
     "name": "stdout",
     "output_type": "stream",
     "text": [
      "PETSc time =  6.815671920776367e-05\n"
     ]
    }
   ],
   "source": [
    "# r1 = range(mesh.nCells)\n",
    "r2 = range(mesh.nEq)\n",
    "lmbda_np = np.ones(mesh.nCells)\n",
    "rhs_np = np.ones(mesh.nEq)\n",
    "start = time.time()\n",
    "for n in range(int(N)):\n",
    "    # Stiffness matrix assembly, lmbda = [1, 1, ..., 1]\n",
    "    rhs.setValues(r2, rhs_np)\n",
    "    K.assemble(lmbda_np)\n",
    "\n",
    "    # solving\n",
    "    ksp.setOperators(K.matrix)\n",
    "    ksp.solve(rhs, x)\n",
    "petsc_time = (time.time() - start)/N\n",
    "print('PETSc time = ', petsc_time)"
   ]
  },
  {
   "cell_type": "code",
   "execution_count": 38,
   "metadata": {},
   "outputs": [
    {
     "name": "stdout",
     "output_type": "stream",
     "text": [
      "scipy time =  0.00030731678009033204\n"
     ]
    }
   ],
   "source": [
    "start = time.time()\n",
    "for n in range(int(N)):\n",
    "    Kvecs = Kes @ np.ones(mesh.nCells)\n",
    "    K1 = sps.csr_matrix((Kvecs[K.vec_nonzero], K.indices, K.indptr))\n",
    "    x1 = lg.spsolve(K1, np.ones(mesh.nEq))\n",
    "scipy_time = (time.time() - start)/N\n",
    "print('scipy time = ', scipy_time)"
   ]
  },
  {
   "cell_type": "code",
   "execution_count": 39,
   "metadata": {},
   "outputs": [
    {
     "name": "stdout",
     "output_type": "stream",
     "text": [
      "result difference =  1.134057704558057e-14\n",
      "PETSc speedup =  4.508972609927589\n"
     ]
    }
   ],
   "source": [
    "diff = np.linalg.norm(x.array - x1)/np.linalg.norm(x1)\n",
    "print('result difference = ', diff)\n",
    "print('PETSc speedup = ', scipy_time/petsc_time)"
   ]
  },
  {
   "cell_type": "code",
   "execution_count": 40,
   "metadata": {},
   "outputs": [
    {
     "data": {
      "text/plain": [
       "True"
      ]
     },
     "execution_count": 40,
     "metadata": {},
     "output_type": "execute_result"
    }
   ],
   "source": [
    "mesh.cells[0].containsEssentialVertex"
   ]
  },
  {
   "cell_type": "code",
   "execution_count": null,
   "metadata": {},
   "outputs": [],
   "source": []
  },
  {
   "cell_type": "code",
   "execution_count": null,
   "metadata": {},
   "outputs": [],
   "source": []
  },
  {
   "cell_type": "code",
   "execution_count": null,
   "metadata": {},
   "outputs": [],
   "source": []
  }
 ],
 "metadata": {
  "kernelspec": {
   "display_name": "PyCharm (generative_DR_ROM)",
   "language": "python",
   "name": "pycharm-712517ba"
  },
  "language_info": {
   "codemirror_mode": {
    "name": "ipython",
    "version": 3
   },
   "file_extension": ".py",
   "mimetype": "text/x-python",
   "name": "python",
   "nbconvert_exporter": "python",
   "pygments_lexer": "ipython3",
   "version": "3.7.5"
  }
 },
 "nbformat": 4,
 "nbformat_minor": 2
}

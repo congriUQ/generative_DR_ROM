{
 "cells": [
  {
   "cell_type": "code",
   "execution_count": 1,
   "metadata": {
    "pycharm": {
     "is_executing": false
    }
   },
   "outputs": [],
   "source": [
    "%matplotlib qt\n",
    "\n",
    "import matplotlib.pyplot as plt\n",
    "from poisson_fem import PoissonFEM\n",
    "import ROM\n",
    "import GenerativeSurrogate as gs\n",
    "import Data as dta\n",
    "import numpy as np\n",
    "import scipy.sparse as sps\n",
    "import scipy.sparse.linalg as lg\n",
    "import time\n",
    "import petsc4py\n",
    "import sys\n",
    "petsc4py.init(sys.argv)\n",
    "from petsc4py import PETSc\n",
    "import torch\n",
    "from torch import optim"
   ]
  },
  {
   "cell_type": "code",
   "execution_count": 2,
   "metadata": {
    "pycharm": {
     "is_executing": false
    }
   },
   "outputs": [],
   "source": [
    "# Some fixed parameters\n",
    "lin_dim_rom = 4                      # Linear number of rom elements\n",
    "a = np.array([1, 2, 3])              # Boundary condition function coefficients\n",
    "dim_z = 30                            # Latent space dimension\n",
    "dtype = torch.float                  # Tensor data type"
   ]
  },
  {
   "cell_type": "code",
   "execution_count": 3,
   "metadata": {
    "pycharm": {
     "is_executing": false
    }
   },
   "outputs": [],
   "source": [
    "# Define mesh and boundary conditions\n",
    "mesh = PoissonFEM.RectangularMesh(np.ones(lin_dim_rom)/lin_dim_rom)\n",
    "# mesh.plot()\n",
    "\n",
    "def origin(x):\n",
    "    return np.abs(x[0]) < np.finfo(float).eps and np.abs(x[1]) < np.finfo(float).eps\n",
    "\n",
    "def essBoundaryFun(x):\n",
    "    return 0.0\n",
    "mesh.setEssentialBoundary(origin, essBoundaryFun)\n",
    "\n",
    "def domainBoundary(x):\n",
    "    # unit square\n",
    "    return np.abs(x[0]) < np.finfo(float).eps or np.abs(x[1]) < np.finfo(float).eps or \\\n",
    "            np.abs(x[0]) > 1.0 - np.finfo(float).eps or np.abs(x[1]) > 1.0 - np.finfo(float).eps\n",
    "mesh.setNaturalBoundary(domainBoundary)\n",
    "\n",
    "def flux(x):\n",
    "    q = np.array([a[0] + a[2]*x[1], a[1] + a[2]*x[0]])\n",
    "    return q"
   ]
  },
  {
   "cell_type": "code",
   "execution_count": 4,
   "metadata": {},
   "outputs": [],
   "source": [
    "#Spepify right hand side and stiffness matrix\n",
    "#Define boundary flux field\n",
    "rhs = PoissonFEM.RightHandSide(mesh)\n",
    "rhs.setNaturalRHS(mesh, flux)\n",
    "funSpace = PoissonFEM.FunctionSpace(mesh)\n",
    "K = PoissonFEM.StiffnessMatrix(mesh, funSpace)\n",
    "rhs.setRhsStencil(mesh, K)"
   ]
  },
  {
   "cell_type": "code",
   "execution_count": 5,
   "metadata": {},
   "outputs": [],
   "source": [
    "# Set up solver\n",
    "ksp = PETSc.KSP().create()\n",
    "ksp.setType('preonly')\n",
    "precond = ksp.getPC()\n",
    "precond.setType('cholesky')\n",
    "ksp.setFromOptions() #???"
   ]
  },
  {
   "cell_type": "code",
   "execution_count": 6,
   "metadata": {},
   "outputs": [],
   "source": [
    "# define rom\n",
    "rom = ROM.ROM(mesh, K, rhs, ksp)"
   ]
  },
  {
   "cell_type": "code",
   "execution_count": 7,
   "metadata": {},
   "outputs": [],
   "source": [
    "trainingData = dta.StokesData(range(256))\n",
    "trainingData.readData(['IMG'])\n",
    "# trainingData.plotMicrostruct(1)"
   ]
  },
  {
   "cell_type": "code",
   "execution_count": 8,
   "metadata": {},
   "outputs": [],
   "source": [
    "model = gs.GenerativeSurrogate(rom, trainingData, dim_z)"
   ]
  },
  {
   "cell_type": "code",
   "execution_count": 9,
   "metadata": {
    "scrolled": false
   },
   "outputs": [
    {
     "name": "stdout",
     "output_type": "stream",
     "text": [
      "step =  0\n",
      "loss =  tensor(11089508., grad_fn=<SubBackward0>)\n",
      "step =  1\n",
      "loss =  tensor(11167658., grad_fn=<SubBackward0>)\n",
      "step =  2\n",
      "loss =  tensor(11076508., grad_fn=<SubBackward0>)\n",
      "step =  3\n",
      "loss =  tensor(11053536., grad_fn=<SubBackward0>)\n",
      "step =  4\n",
      "loss =  tensor(11040736., grad_fn=<SubBackward0>)\n",
      "step =  5\n",
      "loss =  tensor(11052938., grad_fn=<SubBackward0>)\n",
      "step =  6\n",
      "loss =  tensor(11051804., grad_fn=<SubBackward0>)\n",
      "step =  7\n",
      "loss =  tensor(11046284., grad_fn=<SubBackward0>)\n",
      "step =  8\n",
      "loss =  tensor(11050710., grad_fn=<SubBackward0>)\n",
      "step =  9\n",
      "loss =  tensor(10997792., grad_fn=<SubBackward0>)\n",
      "step =  10\n",
      "loss =  tensor(11051414., grad_fn=<SubBackward0>)\n",
      "step =  11\n",
      "loss =  tensor(11075410., grad_fn=<SubBackward0>)\n",
      "step =  12\n",
      "loss =  tensor(11040540., grad_fn=<SubBackward0>)\n",
      "step =  13\n",
      "loss =  tensor(11049240., grad_fn=<SubBackward0>)\n",
      "step =  14\n",
      "loss =  tensor(11040351., grad_fn=<SubBackward0>)\n",
      "step =  15\n",
      "loss =  tensor(11055222., grad_fn=<SubBackward0>)\n",
      "step =  16\n",
      "loss =  tensor(11041384., grad_fn=<SubBackward0>)\n",
      "step =  17\n",
      "loss =  tensor(11044035., grad_fn=<SubBackward0>)\n",
      "step =  18\n",
      "loss =  tensor(11035478., grad_fn=<SubBackward0>)\n",
      "step =  19\n",
      "loss =  tensor(11027440., grad_fn=<SubBackward0>)\n",
      "step =  20\n",
      "loss =  tensor(11022716., grad_fn=<SubBackward0>)\n",
      "step =  21\n",
      "loss =  tensor(11053502., grad_fn=<SubBackward0>)\n",
      "step =  22\n",
      "loss =  tensor(11053540., grad_fn=<SubBackward0>)\n",
      "step =  23\n",
      "loss =  tensor(11052148., grad_fn=<SubBackward0>)\n",
      "step =  24\n",
      "loss =  tensor(11047116., grad_fn=<SubBackward0>)\n",
      "step =  25\n",
      "loss =  tensor(11025448., grad_fn=<SubBackward0>)\n",
      "step =  26\n",
      "loss =  tensor(11058522., grad_fn=<SubBackward0>)\n",
      "step =  27\n",
      "loss =  tensor(11008032., grad_fn=<SubBackward0>)\n",
      "step =  28\n",
      "loss =  tensor(11023320., grad_fn=<SubBackward0>)\n",
      "step =  29\n",
      "loss =  tensor(11056240., grad_fn=<SubBackward0>)\n",
      "step =  30\n",
      "loss =  tensor(11054140., grad_fn=<SubBackward0>)\n",
      "step =  31\n",
      "loss =  tensor(11012854., grad_fn=<SubBackward0>)\n",
      "step =  32\n",
      "loss =  tensor(11019750., grad_fn=<SubBackward0>)\n",
      "step =  33\n",
      "loss =  tensor(11007444., grad_fn=<SubBackward0>)\n",
      "step =  34\n",
      "loss =  tensor(11042852., grad_fn=<SubBackward0>)\n",
      "step =  35\n",
      "loss =  tensor(11052870., grad_fn=<SubBackward0>)\n",
      "step =  36\n",
      "loss =  tensor(10997398., grad_fn=<SubBackward0>)\n",
      "step =  37\n",
      "loss =  tensor(11026108., grad_fn=<SubBackward0>)\n",
      "step =  38\n",
      "loss =  tensor(11014434., grad_fn=<SubBackward0>)\n",
      "step =  39\n",
      "loss =  tensor(11028770., grad_fn=<SubBackward0>)\n",
      "step =  40\n",
      "loss =  tensor(11039748., grad_fn=<SubBackward0>)\n",
      "step =  41\n",
      "loss =  tensor(11021862., grad_fn=<SubBackward0>)\n",
      "step =  42\n",
      "loss =  tensor(11071348., grad_fn=<SubBackward0>)\n",
      "step =  43\n",
      "loss =  tensor(11049530., grad_fn=<SubBackward0>)\n",
      "step =  44\n",
      "loss =  tensor(11048816., grad_fn=<SubBackward0>)\n",
      "step =  45\n",
      "loss =  tensor(11011161., grad_fn=<SubBackward0>)\n",
      "step =  46\n",
      "loss =  tensor(11039819., grad_fn=<SubBackward0>)\n",
      "step =  47\n",
      "loss =  tensor(11071831., grad_fn=<SubBackward0>)\n",
      "step =  48\n",
      "loss =  tensor(11009456., grad_fn=<SubBackward0>)\n",
      "step =  49\n",
      "loss =  tensor(11032157., grad_fn=<SubBackward0>)\n"
     ]
    }
   ],
   "source": [
    "steps = int(50)\n",
    "for s in range(steps):\n",
    "    print('step = ', s)\n",
    "    batchSamples = torch.LongTensor(model.batchSizeN).random_(0, trainingData.nSamples)\n",
    "    model.pfStep(batchSamples)"
   ]
  },
  {
   "cell_type": "code",
   "execution_count": 10,
   "metadata": {},
   "outputs": [],
   "source": [
    "model.plotInputReconstruction()"
   ]
  },
  {
   "cell_type": "code",
   "execution_count": 11,
   "metadata": {},
   "outputs": [
    {
     "data": {
      "text/plain": [
       "Text(0.5, 0.7, 'Untrained, N = 2048')"
      ]
     },
     "execution_count": 11,
     "metadata": {},
     "output_type": "execute_result"
    }
   ],
   "source": [
    "f = plt.gcf()\n",
    "f.suptitle('Untrained, N = 2048', fontsize=32, y=.7)"
   ]
  },
  {
   "cell_type": "code",
   "execution_count": null,
   "metadata": {},
   "outputs": [],
   "source": []
  },
  {
   "cell_type": "code",
   "execution_count": null,
   "metadata": {},
   "outputs": [],
   "source": []
  },
  {
   "cell_type": "code",
   "execution_count": null,
   "metadata": {},
   "outputs": [],
   "source": []
  },
  {
   "cell_type": "code",
   "execution_count": null,
   "metadata": {},
   "outputs": [],
   "source": []
  },
  {
   "cell_type": "code",
   "execution_count": null,
   "metadata": {},
   "outputs": [],
   "source": []
  },
  {
   "cell_type": "code",
   "execution_count": null,
   "metadata": {},
   "outputs": [],
   "source": []
  },
  {
   "cell_type": "code",
   "execution_count": null,
   "metadata": {},
   "outputs": [],
   "source": []
  },
  {
   "cell_type": "code",
   "execution_count": null,
   "metadata": {},
   "outputs": [],
   "source": []
  },
  {
   "cell_type": "code",
   "execution_count": null,
   "metadata": {},
   "outputs": [],
   "source": []
  },
  {
   "cell_type": "code",
   "execution_count": null,
   "metadata": {},
   "outputs": [],
   "source": []
  },
  {
   "cell_type": "code",
   "execution_count": null,
   "metadata": {},
   "outputs": [],
   "source": []
  }
 ],
 "metadata": {
  "kernelspec": {
   "display_name": "PyCharm (generative_DR_ROM)",
   "language": "python",
   "name": "pycharm-712517ba"
  },
  "language_info": {
   "codemirror_mode": {
    "name": "ipython",
    "version": 3
   },
   "file_extension": ".py",
   "mimetype": "text/x-python",
   "name": "python",
   "nbconvert_exporter": "python",
   "pygments_lexer": "ipython3",
   "version": "3.7.5"
  }
 },
 "nbformat": 4,
 "nbformat_minor": 2
}

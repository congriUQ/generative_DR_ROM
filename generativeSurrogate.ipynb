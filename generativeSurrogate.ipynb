{
 "cells": [
  {
   "cell_type": "code",
   "execution_count": 1,
   "metadata": {
    "pycharm": {
     "is_executing": false
    }
   },
   "outputs": [
    {
     "name": "stderr",
     "output_type": "stream",
     "text": [
      "/home/constantin/anaconda3/envs/genDRROM/lib/python3.7/site-packages/tensorboard/compat/tensorflow_stub/dtypes.py:541: FutureWarning: Passing (type, 1) or '1type' as a synonym of type is deprecated; in a future version of numpy, it will be understood as (type, (1,)) / '(1,)type'.\n",
      "  _np_qint8 = np.dtype([(\"qint8\", np.int8, 1)])\n",
      "/home/constantin/anaconda3/envs/genDRROM/lib/python3.7/site-packages/tensorboard/compat/tensorflow_stub/dtypes.py:542: FutureWarning: Passing (type, 1) or '1type' as a synonym of type is deprecated; in a future version of numpy, it will be understood as (type, (1,)) / '(1,)type'.\n",
      "  _np_quint8 = np.dtype([(\"quint8\", np.uint8, 1)])\n",
      "/home/constantin/anaconda3/envs/genDRROM/lib/python3.7/site-packages/tensorboard/compat/tensorflow_stub/dtypes.py:543: FutureWarning: Passing (type, 1) or '1type' as a synonym of type is deprecated; in a future version of numpy, it will be understood as (type, (1,)) / '(1,)type'.\n",
      "  _np_qint16 = np.dtype([(\"qint16\", np.int16, 1)])\n",
      "/home/constantin/anaconda3/envs/genDRROM/lib/python3.7/site-packages/tensorboard/compat/tensorflow_stub/dtypes.py:544: FutureWarning: Passing (type, 1) or '1type' as a synonym of type is deprecated; in a future version of numpy, it will be understood as (type, (1,)) / '(1,)type'.\n",
      "  _np_quint16 = np.dtype([(\"quint16\", np.uint16, 1)])\n",
      "/home/constantin/anaconda3/envs/genDRROM/lib/python3.7/site-packages/tensorboard/compat/tensorflow_stub/dtypes.py:545: FutureWarning: Passing (type, 1) or '1type' as a synonym of type is deprecated; in a future version of numpy, it will be understood as (type, (1,)) / '(1,)type'.\n",
      "  _np_qint32 = np.dtype([(\"qint32\", np.int32, 1)])\n",
      "/home/constantin/anaconda3/envs/genDRROM/lib/python3.7/site-packages/tensorboard/compat/tensorflow_stub/dtypes.py:550: FutureWarning: Passing (type, 1) or '1type' as a synonym of type is deprecated; in a future version of numpy, it will be understood as (type, (1,)) / '(1,)type'.\n",
      "  np_resource = np.dtype([(\"resource\", np.ubyte, 1)])\n"
     ]
    }
   ],
   "source": [
    "%matplotlib qt\n",
    "\n",
    "import matplotlib.pyplot as plt\n",
    "from poisson_fem import PoissonFEM\n",
    "import ROM\n",
    "import GenerativeSurrogate as gs\n",
    "import Data as dta\n",
    "import numpy as np\n",
    "import scipy.sparse as sps\n",
    "import scipy.sparse.linalg as lg\n",
    "import time\n",
    "import petsc4py\n",
    "import sys\n",
    "petsc4py.init(sys.argv)\n",
    "from petsc4py import PETSc\n",
    "import torch\n",
    "from torch import optim"
   ]
  },
  {
   "cell_type": "code",
   "execution_count": 2,
   "metadata": {
    "pycharm": {
     "is_executing": false
    }
   },
   "outputs": [],
   "source": [
    "# Some fixed parameters\n",
    "lin_dim_rom = 4                      # Linear number of rom elements\n",
    "a = np.array([1, 2, 3])              # Boundary condition function coefficients\n",
    "dim_z = 30                            # Latent space dimension\n",
    "dtype = torch.float                  # Tensor data type"
   ]
  },
  {
   "cell_type": "code",
   "execution_count": 3,
   "metadata": {
    "pycharm": {
     "is_executing": false
    }
   },
   "outputs": [],
   "source": [
    "# Define mesh and boundary conditions\n",
    "mesh = PoissonFEM.RectangularMesh(np.ones(lin_dim_rom)/lin_dim_rom)\n",
    "# mesh.plot()\n",
    "\n",
    "def origin(x):\n",
    "    return np.abs(x[0]) < np.finfo(float).eps and np.abs(x[1]) < np.finfo(float).eps\n",
    "\n",
    "def essBoundaryFun(x):\n",
    "    return 0.0\n",
    "mesh.setEssentialBoundary(origin, essBoundaryFun)\n",
    "\n",
    "def domainBoundary(x):\n",
    "    # unit square\n",
    "    return np.abs(x[0]) < np.finfo(float).eps or np.abs(x[1]) < np.finfo(float).eps or \\\n",
    "            np.abs(x[0]) > 1.0 - np.finfo(float).eps or np.abs(x[1]) > 1.0 - np.finfo(float).eps\n",
    "mesh.setNaturalBoundary(domainBoundary)\n",
    "\n",
    "def flux(x):\n",
    "    q = np.array([a[0] + a[2]*x[1], a[1] + a[2]*x[0]])\n",
    "    return q"
   ]
  },
  {
   "cell_type": "code",
   "execution_count": 4,
   "metadata": {},
   "outputs": [],
   "source": [
    "#Spepify right hand side and stiffness matrix\n",
    "#Define boundary flux field\n",
    "rhs = PoissonFEM.RightHandSide(mesh)\n",
    "rhs.setNaturalRHS(mesh, flux)\n",
    "funSpace = PoissonFEM.FunctionSpace(mesh)\n",
    "K = PoissonFEM.StiffnessMatrix(mesh, funSpace)\n",
    "rhs.setRhsStencil(mesh, K)"
   ]
  },
  {
   "cell_type": "code",
   "execution_count": 5,
   "metadata": {},
   "outputs": [],
   "source": [
    "# Set up solver\n",
    "ksp = PETSc.KSP().create()\n",
    "ksp.setType('preonly')\n",
    "precond = ksp.getPC()\n",
    "precond.setType('cholesky')\n",
    "ksp.setFromOptions() #???"
   ]
  },
  {
   "cell_type": "code",
   "execution_count": 6,
   "metadata": {},
   "outputs": [],
   "source": [
    "# define rom\n",
    "rom = ROM.ROM(mesh, K, rhs, ksp)"
   ]
  },
  {
   "cell_type": "code",
   "execution_count": 7,
   "metadata": {},
   "outputs": [],
   "source": [
    "trainingData = dta.StokesData(range(4096))\n",
    "trainingData.readData(['IMG'])\n",
    "# trainingData.plotMicrostruct(1)\n",
    "trainingData.reshapeInputImg()"
   ]
  },
  {
   "cell_type": "code",
   "execution_count": 8,
   "metadata": {},
   "outputs": [],
   "source": [
    "model = gs.GenerativeSurrogate(rom, trainingData, dim_z)"
   ]
  },
  {
   "cell_type": "code",
   "execution_count": 9,
   "metadata": {
    "scrolled": true
   },
   "outputs": [
    {
     "name": "stdout",
     "output_type": "stream",
     "text": [
      "step =  0\n",
      "loss =  tensor(11750302., grad_fn=<SubBackward0>)\n",
      "step =  1\n",
      "loss =  tensor(11209172., grad_fn=<SubBackward0>)\n",
      "step =  2\n",
      "loss =  tensor(11060626., grad_fn=<SubBackward0>)\n",
      "step =  3\n",
      "loss =  tensor(10982057., grad_fn=<SubBackward0>)\n",
      "step =  4\n",
      "loss =  tensor(10942635., grad_fn=<SubBackward0>)\n",
      "step =  5\n",
      "loss =  tensor(10887964., grad_fn=<SubBackward0>)\n",
      "step =  6\n",
      "loss =  tensor(10873980., grad_fn=<SubBackward0>)\n",
      "step =  7\n",
      "loss =  tensor(10837051., grad_fn=<SubBackward0>)\n",
      "step =  8\n",
      "loss =  tensor(10788564., grad_fn=<SubBackward0>)\n",
      "step =  9\n",
      "loss =  tensor(10775338., grad_fn=<SubBackward0>)\n",
      "step =  10\n",
      "loss =  tensor(10754140., grad_fn=<SubBackward0>)\n",
      "step =  11\n",
      "loss =  tensor(10753859., grad_fn=<SubBackward0>)\n",
      "step =  12\n",
      "loss =  tensor(10739063., grad_fn=<SubBackward0>)\n",
      "step =  13\n",
      "loss =  tensor(10715000., grad_fn=<SubBackward0>)\n",
      "step =  14\n",
      "loss =  tensor(10706018., grad_fn=<SubBackward0>)\n",
      "step =  15\n",
      "loss =  tensor(10739767., grad_fn=<SubBackward0>)\n",
      "step =  16\n",
      "loss =  tensor(10731711., grad_fn=<SubBackward0>)\n",
      "step =  17\n",
      "loss =  tensor(10684604., grad_fn=<SubBackward0>)\n",
      "step =  18\n",
      "loss =  tensor(10684832., grad_fn=<SubBackward0>)\n",
      "step =  19\n",
      "loss =  tensor(10704593., grad_fn=<SubBackward0>)\n",
      "step =  20\n",
      "loss =  tensor(10671058., grad_fn=<SubBackward0>)\n",
      "step =  21\n",
      "loss =  tensor(10703504., grad_fn=<SubBackward0>)\n",
      "step =  22\n",
      "loss =  tensor(10682329., grad_fn=<SubBackward0>)\n",
      "step =  23\n",
      "loss =  tensor(10703509., grad_fn=<SubBackward0>)\n",
      "step =  24\n",
      "loss =  tensor(10674769., grad_fn=<SubBackward0>)\n",
      "step =  25\n",
      "loss =  tensor(10677594., grad_fn=<SubBackward0>)\n",
      "step =  26\n",
      "loss =  tensor(10674406., grad_fn=<SubBackward0>)\n",
      "step =  27\n",
      "loss =  tensor(10632162., grad_fn=<SubBackward0>)\n",
      "step =  28\n",
      "loss =  tensor(10665274., grad_fn=<SubBackward0>)\n",
      "step =  29\n",
      "loss =  tensor(10657367., grad_fn=<SubBackward0>)\n",
      "step =  30\n",
      "loss =  tensor(10673574., grad_fn=<SubBackward0>)\n",
      "step =  31\n",
      "loss =  tensor(10667375., grad_fn=<SubBackward0>)\n",
      "step =  32\n",
      "loss =  tensor(10688260., grad_fn=<SubBackward0>)\n",
      "step =  33\n",
      "loss =  tensor(10676096., grad_fn=<SubBackward0>)\n",
      "step =  34\n",
      "loss =  tensor(10656282., grad_fn=<SubBackward0>)\n",
      "step =  35\n",
      "loss =  tensor(10679496., grad_fn=<SubBackward0>)\n",
      "step =  36\n",
      "loss =  tensor(10661916., grad_fn=<SubBackward0>)\n",
      "step =  37\n",
      "loss =  tensor(10669537., grad_fn=<SubBackward0>)\n",
      "step =  38\n",
      "loss =  tensor(10637746., grad_fn=<SubBackward0>)\n",
      "step =  39\n",
      "loss =  tensor(10631626., grad_fn=<SubBackward0>)\n",
      "step =  40\n",
      "loss =  tensor(10667424., grad_fn=<SubBackward0>)\n",
      "step =  41\n",
      "loss =  tensor(10668900., grad_fn=<SubBackward0>)\n",
      "step =  42\n",
      "loss =  tensor(10636078., grad_fn=<SubBackward0>)\n",
      "step =  43\n",
      "loss =  tensor(10623032., grad_fn=<SubBackward0>)\n",
      "step =  44\n",
      "loss =  tensor(10666810., grad_fn=<SubBackward0>)\n",
      "step =  45\n",
      "loss =  tensor(10640586., grad_fn=<SubBackward0>)\n",
      "step =  46\n",
      "loss =  tensor(10658748., grad_fn=<SubBackward0>)\n",
      "step =  47\n",
      "loss =  tensor(10657373., grad_fn=<SubBackward0>)\n",
      "step =  48\n",
      "loss =  tensor(10671340., grad_fn=<SubBackward0>)\n",
      "step =  49\n",
      "loss =  tensor(10638308., grad_fn=<SubBackward0>)\n"
     ]
    }
   ],
   "source": [
    "steps = int(50)\n",
    "for s in range(steps):\n",
    "    print('step = ', s)\n",
    "    batchSamples = torch.LongTensor(model.batchSizeN).random_(0, trainingData.nSamples)\n",
    "    model.pfStep(batchSamples)"
   ]
  },
  {
   "cell_type": "code",
   "execution_count": 10,
   "metadata": {},
   "outputs": [],
   "source": [
    "model.writer.close()\n",
    "model.plotInputReconstruction()"
   ]
  },
  {
   "cell_type": "code",
   "execution_count": 11,
   "metadata": {},
   "outputs": [
    {
     "data": {
      "text/plain": [
       "Text(0.5, 0.7, 'Untrained, N = 1184')"
      ]
     },
     "execution_count": 11,
     "metadata": {},
     "output_type": "execute_result"
    }
   ],
   "source": [
    "f = plt.gcf()\n",
    "f.suptitle('Untrained, N = 1184', fontsize=32, y=.7)"
   ]
  },
  {
   "cell_type": "code",
   "execution_count": 22,
   "metadata": {
    "scrolled": true
   },
   "outputs": [],
   "source": [
    "x = torch.distributions.multivariate_normal.MultivariateNormal(torch.tensor([1.0, 2.0]), torch.eye(2))"
   ]
  },
  {
   "cell_type": "code",
   "execution_count": 26,
   "metadata": {},
   "outputs": [],
   "source": [
    "y = x.rsample((3, 3))"
   ]
  },
  {
   "cell_type": "code",
   "execution_count": 27,
   "metadata": {},
   "outputs": [
    {
     "data": {
      "text/plain": [
       "torch.Size([3, 3, 2])"
      ]
     },
     "execution_count": 27,
     "metadata": {},
     "output_type": "execute_result"
    }
   ],
   "source": [
    "y.shape"
   ]
  },
  {
   "cell_type": "code",
   "execution_count": null,
   "metadata": {},
   "outputs": [],
   "source": []
  },
  {
   "cell_type": "code",
   "execution_count": null,
   "metadata": {},
   "outputs": [],
   "source": []
  },
  {
   "cell_type": "code",
   "execution_count": null,
   "metadata": {},
   "outputs": [],
   "source": []
  },
  {
   "cell_type": "code",
   "execution_count": null,
   "metadata": {},
   "outputs": [],
   "source": []
  },
  {
   "cell_type": "code",
   "execution_count": null,
   "metadata": {},
   "outputs": [],
   "source": []
  },
  {
   "cell_type": "code",
   "execution_count": null,
   "metadata": {},
   "outputs": [],
   "source": []
  },
  {
   "cell_type": "code",
   "execution_count": null,
   "metadata": {},
   "outputs": [],
   "source": []
  }
 ],
 "metadata": {
  "kernelspec": {
   "display_name": "PyCharm (generative_DR_ROM)",
   "language": "python",
   "name": "pycharm-712517ba"
  },
  "language_info": {
   "codemirror_mode": {
    "name": "ipython",
    "version": 3
   },
   "file_extension": ".py",
   "mimetype": "text/x-python",
   "name": "python",
   "nbconvert_exporter": "python",
   "pygments_lexer": "ipython3",
   "version": "3.7.5"
  }
 },
 "nbformat": 4,
 "nbformat_minor": 2
}

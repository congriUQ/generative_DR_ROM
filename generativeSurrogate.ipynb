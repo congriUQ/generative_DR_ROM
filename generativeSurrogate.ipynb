{
 "cells": [
  {
   "cell_type": "code",
   "execution_count": 1,
   "metadata": {
    "pycharm": {
     "is_executing": false
    }
   },
   "outputs": [
    {
     "name": "stderr",
     "output_type": "stream",
     "text": [
      "/home/constantin/anaconda3/envs/genDRROM/lib/python3.7/site-packages/tensorboard/compat/tensorflow_stub/dtypes.py:541: FutureWarning: Passing (type, 1) or '1type' as a synonym of type is deprecated; in a future version of numpy, it will be understood as (type, (1,)) / '(1,)type'.\n",
      "  _np_qint8 = np.dtype([(\"qint8\", np.int8, 1)])\n",
      "/home/constantin/anaconda3/envs/genDRROM/lib/python3.7/site-packages/tensorboard/compat/tensorflow_stub/dtypes.py:542: FutureWarning: Passing (type, 1) or '1type' as a synonym of type is deprecated; in a future version of numpy, it will be understood as (type, (1,)) / '(1,)type'.\n",
      "  _np_quint8 = np.dtype([(\"quint8\", np.uint8, 1)])\n",
      "/home/constantin/anaconda3/envs/genDRROM/lib/python3.7/site-packages/tensorboard/compat/tensorflow_stub/dtypes.py:543: FutureWarning: Passing (type, 1) or '1type' as a synonym of type is deprecated; in a future version of numpy, it will be understood as (type, (1,)) / '(1,)type'.\n",
      "  _np_qint16 = np.dtype([(\"qint16\", np.int16, 1)])\n",
      "/home/constantin/anaconda3/envs/genDRROM/lib/python3.7/site-packages/tensorboard/compat/tensorflow_stub/dtypes.py:544: FutureWarning: Passing (type, 1) or '1type' as a synonym of type is deprecated; in a future version of numpy, it will be understood as (type, (1,)) / '(1,)type'.\n",
      "  _np_quint16 = np.dtype([(\"quint16\", np.uint16, 1)])\n",
      "/home/constantin/anaconda3/envs/genDRROM/lib/python3.7/site-packages/tensorboard/compat/tensorflow_stub/dtypes.py:545: FutureWarning: Passing (type, 1) or '1type' as a synonym of type is deprecated; in a future version of numpy, it will be understood as (type, (1,)) / '(1,)type'.\n",
      "  _np_qint32 = np.dtype([(\"qint32\", np.int32, 1)])\n",
      "/home/constantin/anaconda3/envs/genDRROM/lib/python3.7/site-packages/tensorboard/compat/tensorflow_stub/dtypes.py:550: FutureWarning: Passing (type, 1) or '1type' as a synonym of type is deprecated; in a future version of numpy, it will be understood as (type, (1,)) / '(1,)type'.\n",
      "  np_resource = np.dtype([(\"resource\", np.ubyte, 1)])\n"
     ]
    }
   ],
   "source": [
    "%matplotlib qt\n",
    "\n",
    "import matplotlib.pyplot as plt\n",
    "from poisson_fem import PoissonFEM\n",
    "import ROM\n",
    "import GenerativeSurrogate as gs\n",
    "import Data as dta\n",
    "import numpy as np\n",
    "import scipy.sparse as sps\n",
    "import scipy.sparse.linalg as lg\n",
    "import time\n",
    "import petsc4py\n",
    "import sys\n",
    "petsc4py.init(sys.argv)\n",
    "from petsc4py import PETSc\n",
    "import torch\n",
    "from torch import optim"
   ]
  },
  {
   "cell_type": "code",
   "execution_count": 2,
   "metadata": {
    "pycharm": {
     "is_executing": false
    }
   },
   "outputs": [],
   "source": [
    "# Some fixed parameters\n",
    "lin_dim_rom = 4                      # Linear number of rom elements\n",
    "a = np.array([1, 2, 3])              # Boundary condition function coefficients\n",
    "dim_z = 30                            # Latent space dimension\n",
    "dtype = torch.float                  # Tensor data type"
   ]
  },
  {
   "cell_type": "code",
   "execution_count": 3,
   "metadata": {
    "pycharm": {
     "is_executing": false
    }
   },
   "outputs": [],
   "source": [
    "# Define mesh and boundary conditions\n",
    "mesh = PoissonFEM.RectangularMesh(np.ones(lin_dim_rom)/lin_dim_rom)\n",
    "# mesh.plot()\n",
    "\n",
    "def origin(x):\n",
    "    return np.abs(x[0]) < np.finfo(float).eps and np.abs(x[1]) < np.finfo(float).eps\n",
    "\n",
    "def essBoundaryFun(x):\n",
    "    return 0.0\n",
    "mesh.setEssentialBoundary(origin, essBoundaryFun)\n",
    "\n",
    "def domainBoundary(x):\n",
    "    # unit square\n",
    "    return np.abs(x[0]) < np.finfo(float).eps or np.abs(x[1]) < np.finfo(float).eps or \\\n",
    "            np.abs(x[0]) > 1.0 - np.finfo(float).eps or np.abs(x[1]) > 1.0 - np.finfo(float).eps\n",
    "mesh.setNaturalBoundary(domainBoundary)\n",
    "\n",
    "def flux(x):\n",
    "    q = np.array([a[0] + a[2]*x[1], a[1] + a[2]*x[0]])\n",
    "    return q"
   ]
  },
  {
   "cell_type": "code",
   "execution_count": 4,
   "metadata": {},
   "outputs": [],
   "source": [
    "# Set up solver\n",
    "ksp = PETSc.KSP().create()\n",
    "ksp.setType('preonly')\n",
    "precond = ksp.getPC()\n",
    "precond.setType('cholesky')\n",
    "ksp.setFromOptions() #???"
   ]
  },
  {
   "cell_type": "code",
   "execution_count": 5,
   "metadata": {},
   "outputs": [],
   "source": [
    "#Spepify right hand side and stiffness matrix\n",
    "#Define boundary flux field\n",
    "rhs = PoissonFEM.RightHandSide(mesh)\n",
    "rhs.setNaturalRHS(mesh, flux)\n",
    "funSpace = PoissonFEM.FunctionSpace(mesh)\n",
    "K = PoissonFEM.StiffnessMatrix(mesh, funSpace, ksp)\n",
    "rhs.setRhsStencil(mesh, K)"
   ]
  },
  {
   "cell_type": "code",
   "execution_count": 6,
   "metadata": {},
   "outputs": [],
   "source": [
    "# define rom\n",
    "rom = ROM.ROM(mesh, K, rhs)"
   ]
  },
  {
   "cell_type": "code",
   "execution_count": 7,
   "metadata": {},
   "outputs": [],
   "source": [
    "trainingData = dta.StokesData(range(256))\n",
    "trainingData.readData(['IMG'])\n",
    "# trainingData.plotMicrostruct(1)\n",
    "trainingData.reshapeInputImg()"
   ]
  },
  {
   "cell_type": "code",
   "execution_count": 8,
   "metadata": {},
   "outputs": [],
   "source": [
    "model = gs.GenerativeSurrogate(rom, trainingData, dim_z)"
   ]
  },
  {
   "cell_type": "code",
   "execution_count": 9,
   "metadata": {
    "scrolled": false
   },
   "outputs": [
    {
     "name": "stdout",
     "output_type": "stream",
     "text": [
      "step =  0\n",
      "loss_pf =  tensor(11633338., grad_fn=<SubBackward0>)\n",
      "step =  1\n",
      "loss_pf =  tensor(11155332., grad_fn=<SubBackward0>)\n",
      "step =  2\n",
      "loss_pf =  tensor(11041564., grad_fn=<SubBackward0>)\n",
      "step =  3\n",
      "loss_pf =  tensor(10911280., grad_fn=<SubBackward0>)\n",
      "step =  4\n",
      "loss_pf =  tensor(10784490., grad_fn=<SubBackward0>)\n",
      "step =  5\n",
      "loss_pf =  tensor(10654291., grad_fn=<SubBackward0>)\n",
      "step =  6\n",
      "loss_pf =  tensor(10504382., grad_fn=<SubBackward0>)\n",
      "step =  7\n",
      "loss_pf =  tensor(10336110., grad_fn=<SubBackward0>)\n",
      "step =  8\n",
      "loss_pf =  tensor(10127802., grad_fn=<SubBackward0>)\n",
      "step =  9\n",
      "loss_pf =  tensor(9893294., grad_fn=<SubBackward0>)\n",
      "step =  10\n",
      "loss_pf =  tensor(9649530., grad_fn=<SubBackward0>)\n",
      "step =  11\n",
      "loss_pf =  tensor(9416518., grad_fn=<SubBackward0>)\n",
      "step =  12\n",
      "loss_pf =  tensor(9239682., grad_fn=<SubBackward0>)\n",
      "step =  13\n",
      "loss_pf =  tensor(9083782., grad_fn=<SubBackward0>)\n",
      "step =  14\n",
      "loss_pf =  tensor(8854896., grad_fn=<SubBackward0>)\n",
      "step =  15\n",
      "loss_pf =  tensor(8611730., grad_fn=<SubBackward0>)\n",
      "step =  16\n",
      "loss_pf =  tensor(8452319., grad_fn=<SubBackward0>)\n",
      "step =  17\n",
      "loss_pf =  tensor(8281671.5000, grad_fn=<SubBackward0>)\n",
      "step =  18\n",
      "loss_pf =  tensor(8003988., grad_fn=<SubBackward0>)\n",
      "step =  19\n",
      "loss_pf =  tensor(7607264., grad_fn=<SubBackward0>)\n",
      "step =  20\n",
      "loss_pf =  tensor(7233048.5000, grad_fn=<SubBackward0>)\n",
      "step =  21\n",
      "loss_pf =  tensor(6829800., grad_fn=<SubBackward0>)\n",
      "step =  22\n",
      "loss_pf =  tensor(6398129., grad_fn=<SubBackward0>)\n",
      "step =  23\n",
      "loss_pf =  tensor(5947324., grad_fn=<SubBackward0>)\n",
      "step =  24\n",
      "loss_pf =  tensor(5488582.5000, grad_fn=<SubBackward0>)\n",
      "step =  25\n",
      "loss_pf =  tensor(5035138., grad_fn=<SubBackward0>)\n",
      "step =  26\n",
      "loss_pf =  tensor(4585561., grad_fn=<SubBackward0>)\n",
      "step =  27\n",
      "loss_pf =  tensor(4143658.5000, grad_fn=<SubBackward0>)\n",
      "step =  28\n",
      "loss_pf =  tensor(3709820.5000, grad_fn=<SubBackward0>)\n",
      "step =  29\n",
      "loss_pf =  tensor(3289912., grad_fn=<SubBackward0>)\n",
      "step =  30\n",
      "loss_pf =  tensor(2891149.5000, grad_fn=<SubBackward0>)\n",
      "step =  31\n",
      "loss_pf =  tensor(2516294., grad_fn=<SubBackward0>)\n",
      "step =  32\n",
      "loss_pf =  tensor(2163330., grad_fn=<SubBackward0>)\n",
      "step =  33\n",
      "loss_pf =  tensor(1835405.2500, grad_fn=<SubBackward0>)\n",
      "step =  34\n",
      "loss_pf =  tensor(1537483.7500, grad_fn=<SubBackward0>)\n",
      "step =  35\n",
      "loss_pf =  tensor(1270553.3750, grad_fn=<SubBackward0>)\n",
      "step =  36\n",
      "loss_pf =  tensor(1036141.7500, grad_fn=<SubBackward0>)\n",
      "step =  37\n",
      "loss_pf =  tensor(835404.9375, grad_fn=<SubBackward0>)\n",
      "step =  38\n",
      "loss_pf =  tensor(667549.6250, grad_fn=<SubBackward0>)\n",
      "step =  39\n",
      "loss_pf =  tensor(530758.8750, grad_fn=<SubBackward0>)\n",
      "step =  40\n",
      "loss_pf =  tensor(421356.1875, grad_fn=<SubBackward0>)\n",
      "step =  41\n",
      "loss_pf =  tensor(335026.8125, grad_fn=<SubBackward0>)\n",
      "step =  42\n",
      "loss_pf =  tensor(268621.1250, grad_fn=<SubBackward0>)\n",
      "step =  43\n",
      "loss_pf =  tensor(217151.9375, grad_fn=<SubBackward0>)\n",
      "step =  44\n",
      "loss_pf =  tensor(177213., grad_fn=<SubBackward0>)\n",
      "step =  45\n",
      "loss_pf =  tensor(146264.3750, grad_fn=<SubBackward0>)\n",
      "step =  46\n",
      "loss_pf =  tensor(121913.4062, grad_fn=<SubBackward0>)\n",
      "step =  47\n",
      "loss_pf =  tensor(102548.4844, grad_fn=<SubBackward0>)\n",
      "step =  48\n",
      "loss_pf =  tensor(87021.0625, grad_fn=<SubBackward0>)\n",
      "step =  49\n",
      "loss_pf =  tensor(74584.4219, grad_fn=<SubBackward0>)\n"
     ]
    }
   ],
   "source": [
    "steps = int(50)\n",
    "for s in range(steps):\n",
    "    print('step = ', s)\n",
    "    batchSamples_pf = torch.multinomial(torch.ones(trainingData.nSamplesIn), model.batchSizeN_pf)\n",
    "#     batchSamples_pc = torch.multinomial(torch.ones(trainingData.nSamplesOut), model.batchSizeN_pc)\n",
    "    model.optLatentDistStep()\n",
    "    model.pfStep(batchSamples_pf)\n",
    "#     model.pcStep(batchSamples_pc)\n",
    "    "
   ]
  },
  {
   "cell_type": "code",
   "execution_count": 10,
   "metadata": {},
   "outputs": [
    {
     "data": {
      "text/plain": [
       "Text(0.5, 0.7, 'Untrained, N = 1184')"
      ]
     },
     "execution_count": 10,
     "metadata": {},
     "output_type": "execute_result"
    }
   ],
   "source": [
    "model.plotInputReconstruction()\n",
    "f = plt.gcf()\n",
    "f.suptitle('Untrained, N = 1184', fontsize=32, y=.7)"
   ]
  },
  {
   "cell_type": "code",
   "execution_count": 11,
   "metadata": {
    "scrolled": true
   },
   "outputs": [
    {
     "data": {
      "text/plain": [
       "Text(0.5, 0.7, 'N = 256')"
      ]
     },
     "execution_count": 11,
     "metadata": {},
     "output_type": "execute_result"
    }
   ],
   "source": [
    "f.suptitle('N = 256', fontsize=32, y=.7)"
   ]
  },
  {
   "cell_type": "code",
   "execution_count": 12,
   "metadata": {},
   "outputs": [
    {
     "data": {
      "text/plain": [
       "tensor([[ 5.1906, -6.0039,  0.7463,  ..., -0.6863,  2.1015,  1.7864],\n",
       "        [ 1.4645, -4.0327, -1.4917,  ..., -8.2840, -0.4410, -3.1420],\n",
       "        [-4.9203,  7.5589, -1.0194,  ..., -8.9325, -1.6319,  7.5968],\n",
       "        ...,\n",
       "        [ 0.6648,  1.4951,  4.3544,  ...,  3.4628, -3.4711, -2.3891],\n",
       "        [ 1.3101,  3.6759, -6.0487,  ...,  2.2782,  1.3084,  7.7367],\n",
       "        [-0.3935,  0.1130, -3.5781,  ...,  4.7696, -0.1121,  7.8719]],\n",
       "       requires_grad=True)"
      ]
     },
     "execution_count": 12,
     "metadata": {},
     "output_type": "execute_result"
    }
   ],
   "source": [
    "model.z_mean"
   ]
  },
  {
   "cell_type": "code",
   "execution_count": 13,
   "metadata": {},
   "outputs": [],
   "source": [
    "sample = model.pfNet(model.z_mean[0, :])"
   ]
  },
  {
   "cell_type": "code",
   "execution_count": 14,
   "metadata": {},
   "outputs": [
    {
     "data": {
      "text/plain": [
       "torch.Size([65536])"
      ]
     },
     "execution_count": 14,
     "metadata": {},
     "output_type": "execute_result"
    }
   ],
   "source": [
    "sample.shape"
   ]
  },
  {
   "cell_type": "code",
   "execution_count": 15,
   "metadata": {},
   "outputs": [
    {
     "data": {
      "text/plain": [
       "<Figure size 640x480 with 0 Axes>"
      ]
     },
     "execution_count": 15,
     "metadata": {},
     "output_type": "execute_result"
    }
   ],
   "source": [
    "plt.figure()"
   ]
  },
  {
   "cell_type": "code",
   "execution_count": 16,
   "metadata": {},
   "outputs": [
    {
     "data": {
      "text/plain": [
       "<matplotlib.image.AxesImage at 0x7f2f177a9d10>"
      ]
     },
     "execution_count": 16,
     "metadata": {},
     "output_type": "execute_result"
    }
   ],
   "source": [
    "plt.imshow(torch.reshape(sample, (model.data.imgResolution, model.data.imgResolution)).detach().numpy() > .5,\n",
    "                     cmap='binary')"
   ]
  },
  {
   "cell_type": "code",
   "execution_count": 17,
   "metadata": {},
   "outputs": [
    {
     "data": {
      "text/plain": [
       "<matplotlib.image.AxesImage at 0x7f2f176f1550>"
      ]
     },
     "execution_count": 17,
     "metadata": {},
     "output_type": "execute_result"
    }
   ],
   "source": [
    "plt.figure()\n",
    "plt.imshow(torch.reshape(sample, (model.data.imgResolution, model.data.imgResolution)).detach().numpy())"
   ]
  },
  {
   "cell_type": "code",
   "execution_count": 18,
   "metadata": {},
   "outputs": [],
   "source": [
    "plt.figure()\n",
    "trainingData.plotMicrostruct(0)"
   ]
  },
  {
   "cell_type": "code",
   "execution_count": 19,
   "metadata": {},
   "outputs": [],
   "source": [
    "f = rom.getAutogradFun"
   ]
  },
  {
   "cell_type": "code",
   "execution_count": 22,
   "metadata": {},
   "outputs": [
    {
     "ename": "AttributeError",
     "evalue": "'function' object has no attribute 'forward'",
     "output_type": "error",
     "traceback": [
      "\u001b[0;31m---------------------------------------------------------------------------\u001b[0m",
      "\u001b[0;31mAttributeError\u001b[0m                            Traceback (most recent call last)",
      "\u001b[0;32m<ipython-input-22-48e4098c020e>\u001b[0m in \u001b[0;36m<module>\u001b[0;34m\u001b[0m\n\u001b[0;32m----> 1\u001b[0;31m \u001b[0mf\u001b[0m\u001b[0;34m.\u001b[0m\u001b[0mforward\u001b[0m\u001b[0;34m(\u001b[0m\u001b[0mtorch\u001b[0m\u001b[0;34m.\u001b[0m\u001b[0mones\u001b[0m\u001b[0;34m(\u001b[0m\u001b[0;36m16\u001b[0m\u001b[0;34m)\u001b[0m\u001b[0;34m)\u001b[0m\u001b[0;34m\u001b[0m\u001b[0;34m\u001b[0m\u001b[0m\n\u001b[0m",
      "\u001b[0;31mAttributeError\u001b[0m: 'function' object has no attribute 'forward'"
     ]
    }
   ],
   "source": [
    "f.forward(torch.ones(16))"
   ]
  },
  {
   "cell_type": "code",
   "execution_count": 12,
   "metadata": {},
   "outputs": [],
   "source": [
    "x = [x for x in range(10, 20)]"
   ]
  },
  {
   "cell_type": "code",
   "execution_count": 14,
   "metadata": {},
   "outputs": [
    {
     "name": "stdout",
     "output_type": "stream",
     "text": [
      "i =  0\n",
      "xx =  10\n",
      "i =  1\n",
      "xx =  11\n",
      "i =  2\n",
      "xx =  12\n",
      "i =  3\n",
      "xx =  13\n",
      "i =  4\n",
      "xx =  14\n",
      "i =  5\n",
      "xx =  15\n",
      "i =  6\n",
      "xx =  16\n",
      "i =  7\n",
      "xx =  17\n",
      "i =  8\n",
      "xx =  18\n",
      "i =  9\n",
      "xx =  19\n"
     ]
    }
   ],
   "source": [
    "for i, xx in enumerate(x):\n",
    "    print('i = ', i)\n",
    "    print('xx = ', xx)"
   ]
  },
  {
   "cell_type": "code",
   "execution_count": 11,
   "metadata": {},
   "outputs": [
    {
     "data": {
      "text/plain": [
       "[range(10, 20)]"
      ]
     },
     "execution_count": 11,
     "metadata": {},
     "output_type": "execute_result"
    }
   ],
   "source": []
  },
  {
   "cell_type": "code",
   "execution_count": null,
   "metadata": {},
   "outputs": [],
   "source": []
  }
 ],
 "metadata": {
  "kernelspec": {
   "display_name": "PyCharm (generative_DR_ROM)",
   "language": "python",
   "name": "pycharm-712517ba"
  },
  "language_info": {
   "codemirror_mode": {
    "name": "ipython",
    "version": 3
   },
   "file_extension": ".py",
   "mimetype": "text/x-python",
   "name": "python",
   "nbconvert_exporter": "python",
   "pygments_lexer": "ipython3",
   "version": "3.7.5"
  }
 },
 "nbformat": 4,
 "nbformat_minor": 2
}

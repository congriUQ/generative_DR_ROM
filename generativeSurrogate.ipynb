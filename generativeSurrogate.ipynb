{
 "cells": [
  {
   "cell_type": "code",
   "execution_count": 1,
   "metadata": {},
   "outputs": [],
   "source": [
    "from poisson_fem import PoissonFEM\n",
    "import ROM\n",
    "import GenerativeSurrogate as gs\n",
    "import numpy as np\n",
    "import scipy.sparse as sps\n",
    "import scipy.sparse.linalg as lg\n",
    "import time\n",
    "import petsc4py\n",
    "import sys\n",
    "petsc4py.init(sys.argv)\n",
    "from petsc4py import PETSc"
   ]
  },
  {
   "cell_type": "code",
   "execution_count": 2,
   "metadata": {},
   "outputs": [],
   "source": [
    "# Some fixed parameters\n",
    "rom_dim = 4                         # Linear number of rom elements\n",
    "a = np.array([1, 2, 3])              # Boundary condition function coefficients\n",
    "z_dim = 2                            # Latent space dimension"
   ]
  },
  {
   "cell_type": "code",
   "execution_count": 3,
   "metadata": {},
   "outputs": [],
   "source": [
    "# Define mesh and boundary conditions\n",
    "mesh = PoissonFEM.RectangularMesh(np.ones(rom_dim)/rom_dim)\n",
    "# mesh.plot()\n",
    "\n",
    "def origin(x):\n",
    "    return np.abs(x[0]) < np.finfo(float).eps and np.abs(x[1]) < np.finfo(float).eps\n",
    "\n",
    "def essBoundaryFun(x):\n",
    "    return 0.0\n",
    "mesh.setEssentialBoundary(origin, essBoundaryFun)\n",
    "\n",
    "def domainBoundary(x):\n",
    "    # unit square\n",
    "    return np.abs(x[0]) < np.finfo(float).eps or np.abs(x[1]) < np.finfo(float).eps or \\\n",
    "            np.abs(x[0]) > 1.0 - np.finfo(float).eps or np.abs(x[1]) > 1.0 - np.finfo(float).eps\n",
    "mesh.setNaturalBoundary(domainBoundary)\n",
    "\n",
    "def flux(x):\n",
    "    q = np.array([a[0] + a[2]*x[1], a[1] + a[2]*x[0]])\n",
    "    return q"
   ]
  },
  {
   "cell_type": "code",
   "execution_count": 4,
   "metadata": {},
   "outputs": [],
   "source": [
    "#Spepify right hand side and stiffness matrix\n",
    "#Define boundary flux field\n",
    "rhs = PoissonFEM.RightHandSide(mesh)\n",
    "rhs.setNaturalRHS(mesh, flux)\n",
    "funSpace = PoissonFEM.FunctionSpace(mesh)\n",
    "K = PoissonFEM.StiffnessMatrix(mesh, funSpace)\n",
    "rhs.setRhsStencil(mesh, K)"
   ]
  },
  {
   "cell_type": "code",
   "execution_count": 5,
   "metadata": {},
   "outputs": [],
   "source": [
    "# Set up solver\n",
    "ksp = PETSc.KSP().create()\n",
    "ksp.setType('preonly')\n",
    "pc = ksp.getPC()\n",
    "pc.setType('cholesky')\n",
    "ksp.setFromOptions() #???"
   ]
  },
  {
   "cell_type": "code",
   "execution_count": 6,
   "metadata": {},
   "outputs": [],
   "source": [
    "# define rom\n",
    "rom = ROM.ROM(mesh, K, rhs, ksp)"
   ]
  },
  {
   "cell_type": "code",
   "execution_count": 7,
   "metadata": {},
   "outputs": [],
   "source": [
    "# Test rom -- this can be removed\n",
    "# Effective diffusivities -- this should come from pc\n",
    "\n",
    "# lmbda = PETSc.Vec().createSeq(mesh.nCells)\n",
    "# lmbda.setValues(range(mesh.nCells), np.arange(5.0, rom_dim**2 + 5.0))\n",
    "# rom.solve(lmbda)\n",
    "# print('solution = ', rom.solution.array)"
   ]
  },
  {
   "cell_type": "code",
   "execution_count": 8,
   "metadata": {},
   "outputs": [],
   "source": [
    "pc = gs.PC(z_dim, rom.mesh.nCells)\n",
    "model = gs.GenerativeSurrogate(rom, pc, z_dim)\n",
    "\n",
    "z = model.pz.sample()\n",
    "lmbda = PETSc.Vec().createSeq(model.rom.mesh.nCells)\n",
    "lmbda.setValues(model.rom.stiffnessMatrix.rangeCells, model.pc(z).detach().numpy())\n",
    "model.rom.solve(lmbda)"
   ]
  },
  {
   "cell_type": "code",
   "execution_count": 9,
   "metadata": {
    "scrolled": true
   },
   "outputs": [
    {
     "data": {
      "image/png": "[encoded data removed]",
      "text/plain": [
       "<Figure size 432x288 with 1 Axes>"
      ]
     },
     "metadata": {
      "needs_background": "light"
     },
     "output_type": "display_data"
    }
   ],
   "source": [
    "# model.rom.solution.array\n",
    "rom.plotSolution()"
   ]
  },
  {
   "cell_type": "code",
   "execution_count": null,
   "metadata": {},
   "outputs": [],
   "source": []
  },
  {
   "cell_type": "code",
   "execution_count": null,
   "metadata": {},
   "outputs": [],
   "source": []
  },
  {
   "cell_type": "code",
   "execution_count": null,
   "metadata": {},
   "outputs": [],
   "source": []
  }
 ],
 "metadata": {
  "kernelspec": {
   "display_name": "PyCharm (generative_DR_ROM)",
   "language": "python",
   "name": "pycharm-712517ba"
  },
  "language_info": {
   "codemirror_mode": {
    "name": "ipython",
    "version": 3
   },
   "file_extension": ".py",
   "mimetype": "text/x-python",
   "name": "python",
   "nbconvert_exporter": "python",
   "pygments_lexer": "ipython3",
   "version": "3.7.5"
  }
 },
 "nbformat": 4,
 "nbformat_minor": 2
}

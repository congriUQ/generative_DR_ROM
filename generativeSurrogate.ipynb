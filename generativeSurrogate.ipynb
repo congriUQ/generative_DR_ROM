{
 "cells": [
  {
   "cell_type": "code",
   "execution_count": 1,
   "metadata": {
    "pycharm": {
     "is_executing": false
    },
    "scrolled": true
   },
   "outputs": [
    {
     "name": "stderr",
     "output_type": "stream",
     "text": [
      "/home/constantin/anaconda3/envs/genDRROM/lib/python3.7/site-packages/tensorboard/compat/tensorflow_stub/dtypes.py:541: FutureWarning: Passing (type, 1) or '1type' as a synonym of type is deprecated; in a future version of numpy, it will be understood as (type, (1,)) / '(1,)type'.\n",
      "  _np_qint8 = np.dtype([(\"qint8\", np.int8, 1)])\n",
      "/home/constantin/anaconda3/envs/genDRROM/lib/python3.7/site-packages/tensorboard/compat/tensorflow_stub/dtypes.py:542: FutureWarning: Passing (type, 1) or '1type' as a synonym of type is deprecated; in a future version of numpy, it will be understood as (type, (1,)) / '(1,)type'.\n",
      "  _np_quint8 = np.dtype([(\"quint8\", np.uint8, 1)])\n",
      "/home/constantin/anaconda3/envs/genDRROM/lib/python3.7/site-packages/tensorboard/compat/tensorflow_stub/dtypes.py:543: FutureWarning: Passing (type, 1) or '1type' as a synonym of type is deprecated; in a future version of numpy, it will be understood as (type, (1,)) / '(1,)type'.\n",
      "  _np_qint16 = np.dtype([(\"qint16\", np.int16, 1)])\n",
      "/home/constantin/anaconda3/envs/genDRROM/lib/python3.7/site-packages/tensorboard/compat/tensorflow_stub/dtypes.py:544: FutureWarning: Passing (type, 1) or '1type' as a synonym of type is deprecated; in a future version of numpy, it will be understood as (type, (1,)) / '(1,)type'.\n",
      "  _np_quint16 = np.dtype([(\"quint16\", np.uint16, 1)])\n",
      "/home/constantin/anaconda3/envs/genDRROM/lib/python3.7/site-packages/tensorboard/compat/tensorflow_stub/dtypes.py:545: FutureWarning: Passing (type, 1) or '1type' as a synonym of type is deprecated; in a future version of numpy, it will be understood as (type, (1,)) / '(1,)type'.\n",
      "  _np_qint32 = np.dtype([(\"qint32\", np.int32, 1)])\n",
      "/home/constantin/anaconda3/envs/genDRROM/lib/python3.7/site-packages/tensorboard/compat/tensorflow_stub/dtypes.py:550: FutureWarning: Passing (type, 1) or '1type' as a synonym of type is deprecated; in a future version of numpy, it will be understood as (type, (1,)) / '(1,)type'.\n",
      "  np_resource = np.dtype([(\"resource\", np.ubyte, 1)])\n"
     ]
    }
   ],
   "source": [
    "%matplotlib qt\n",
    "\n",
    "import matplotlib.pyplot as plt\n",
    "from mpl_toolkits import mplot3d\n",
    "from poisson_fem import PoissonFEM\n",
    "import ROM\n",
    "import GenerativeSurrogate as gs\n",
    "import Data as dta\n",
    "import numpy as np\n",
    "import scipy.sparse as sps\n",
    "import scipy.sparse.linalg as lg\n",
    "import time\n",
    "import petsc4py\n",
    "import sys\n",
    "petsc4py.init(sys.argv)\n",
    "from petsc4py import PETSc\n",
    "import torch\n",
    "from torch import optim"
   ]
  },
  {
   "cell_type": "code",
   "execution_count": 2,
   "metadata": {
    "pycharm": {
     "is_executing": false
    }
   },
   "outputs": [],
   "source": [
    "# Some parameters\n",
    "lin_dim_rom = 4                      # Linear number of rom elements\n",
    "a = np.array([1, 1, 0])              # Boundary condition function coefficients\n",
    "dtype = torch.float                  # Tensor data type\n",
    "supervised_samples = {n for n in range(16)}\n",
    "unsupervised_samples = {n for n in range(16, 16)}"
   ]
  },
  {
   "cell_type": "code",
   "execution_count": 3,
   "metadata": {
    "pycharm": {
     "is_executing": false
    }
   },
   "outputs": [],
   "source": [
    "# Define mesh and boundary conditions\n",
    "mesh = PoissonFEM.RectangularMesh(np.ones(lin_dim_rom)/lin_dim_rom)\n",
    "# mesh.plot()\n",
    "\n",
    "def origin(x):\n",
    "    return np.abs(x[0]) < np.finfo(float).eps and np.abs(x[1]) < np.finfo(float).eps\n",
    "\n",
    "def ess_boundary_fun(x):\n",
    "    return 0.0\n",
    "mesh.set_essential_boundary(origin, ess_boundary_fun)\n",
    "\n",
    "def domain_boundary(x):\n",
    "    # unit square\n",
    "    return np.abs(x[0]) < np.finfo(float).eps or np.abs(x[1]) < np.finfo(float).eps or \\\n",
    "            np.abs(x[0]) > 1.0 - np.finfo(float).eps or np.abs(x[1]) > 1.0 - np.finfo(float).eps\n",
    "mesh.set_natural_boundary(domain_boundary)\n",
    "\n",
    "def flux(x):\n",
    "    q = np.array([a[0] + a[2]*x[1], a[1] + a[2]*x[0]])\n",
    "    return q"
   ]
  },
  {
   "cell_type": "code",
   "execution_count": 4,
   "metadata": {},
   "outputs": [],
   "source": [
    "#Specify right hand side and stiffness matrix\n",
    "rhs = PoissonFEM.RightHandSide(mesh)\n",
    "rhs.set_natural_rhs(mesh, flux)\n",
    "K = PoissonFEM.StiffnessMatrix(mesh)\n",
    "rhs.set_rhs_stencil(mesh, K)"
   ]
  },
  {
   "cell_type": "code",
   "execution_count": 5,
   "metadata": {},
   "outputs": [],
   "source": [
    "trainingData = dta.StokesData(supervised_samples, unsupervised_samples)\n",
    "trainingData.read_data()\n",
    "# trainingData.plotMicrostruct(1)\n",
    "trainingData.reshape_microstructure_image()"
   ]
  },
  {
   "cell_type": "code",
   "execution_count": 6,
   "metadata": {},
   "outputs": [],
   "source": [
    "# define rom\n",
    "rom = ROM.ROM(mesh, K, rhs, trainingData.output_resolution**2)"
   ]
  },
  {
   "cell_type": "code",
   "execution_count": 7,
   "metadata": {},
   "outputs": [],
   "source": [
    "model = gs.GenerativeSurrogate(rom, trainingData)\n",
    "# model = gs.GenerativeSurrogate()\n",
    "# model.load()"
   ]
  },
  {
   "cell_type": "code",
   "execution_count": null,
   "metadata": {
    "scrolled": false
   },
   "outputs": [
    {
     "name": "stdout",
     "output_type": "stream",
     "text": [
      "sample ==  0\n",
      "loss_lambda_c =  45945471369216.0\n",
      "loss_lambda_c =  4139495194624.0\n",
      "loss_lambda_c =  923278901248.0\n",
      "loss_lambda_c =  561463427072.0\n",
      "loss_lambda_c =  448313819136.0\n",
      "loss_lambda_c =  411477934080.0\n",
      "loss_lambda_c =  395287527424.0\n",
      "loss_lambda_c =  385235648512.0\n",
      "loss_lambda_c =  378070237184.0\n",
      "loss_lambda_c =  372650147840.0\n",
      "loss_lambda_c =  368317300736.0\n",
      "loss_lambda_c =  364676907008.0\n",
      "loss_lambda_c =  361510764544.0\n",
      "loss_lambda_c =  358703693824.0\n",
      "loss_lambda_c =  356194189312.0\n",
      "loss_lambda_c =  353945321472.0\n",
      "loss_lambda_c =  351929892864.0\n",
      "loss_lambda_c =  350125228032.0\n",
      "loss_lambda_c =  348509372416.0\n",
      "loss_lambda_c =  347061354496.0\n",
      "loss_lambda_c =  345759711232.0\n",
      "loss_lambda_c =  344585175040.0\n",
      "loss_lambda_c =  343519232000.0\n",
      "loss_lambda_c =  342545399808.0\n",
      "loss_lambda_c =  341650309120.0\n",
      "loss_lambda_c =  340822392832.0\n",
      "loss_lambda_c =  340052836352.0\n",
      "loss_lambda_c =  339334496256.0\n",
      "loss_lambda_c =  338662195200.0\n",
      "loss_lambda_c =  338031804416.0\n",
      "loss_lambda_c =  337440014336.0\n",
      "loss_lambda_c =  336884137984.0\n",
      "loss_lambda_c =  336362274816.0\n",
      "loss_lambda_c =  335872327680.0\n",
      "loss_lambda_c =  335412690944.0\n",
      "loss_lambda_c =  334981824512.0\n",
      "loss_lambda_c =  334578188288.0\n",
      "loss_lambda_c =  334200569856.0\n",
      "loss_lambda_c =  333847527424.0\n",
      "loss_lambda_c =  333517750272.0\n",
      "loss_lambda_c =  333210025984.0\n",
      "loss_lambda_c =  332923076608.0\n",
      "loss_lambda_c =  332655755264.0\n",
      "loss_lambda_c =  332406849536.0\n",
      "loss_lambda_c =  332175310848.0\n",
      "loss_lambda_c =  331960025088.0\n",
      "Epoch  4512: reducing learning rate of group 0 to 1.0000e-03.\n",
      "Epoch  4529: reducing learning rate of group 0 to 1.0000e-04.\n",
      "Epoch  4545: reducing learning rate of group 0 to 1.0000e-05.\n",
      "Epoch  4561: reducing learning rate of group 0 to 1.0000e-06.\n",
      "Epoch  4577: reducing learning rate of group 0 to 1.0000e-07.\n",
      "sample ==  1\n",
      "loss_lambda_c =  20042003513344.0\n",
      "loss_lambda_c =  1741277888512.0\n",
      "loss_lambda_c =  618455367680.0\n",
      "loss_lambda_c =  425732308992.0\n",
      "loss_lambda_c =  324178444288.0\n",
      "loss_lambda_c =  270387216384.0\n",
      "loss_lambda_c =  243141001216.0\n",
      "loss_lambda_c =  227216670720.0\n",
      "loss_lambda_c =  216820039680.0\n",
      "loss_lambda_c =  209715544064.0\n",
      "loss_lambda_c =  204786139136.0\n",
      "loss_lambda_c =  201343762432.0\n",
      "loss_lambda_c =  198916374528.0\n",
      "loss_lambda_c =  197172396032.0\n",
      "loss_lambda_c =  195882319872.0\n",
      "loss_lambda_c =  194891448320.0\n",
      "loss_lambda_c =  194098102272.0\n",
      "loss_lambda_c =  193436844032.0\n",
      "loss_lambda_c =  192865796096.0\n",
      "loss_lambda_c =  192358416384.0\n",
      "loss_lambda_c =  191897583616.0\n",
      "loss_lambda_c =  191472500736.0\n",
      "loss_lambda_c =  191076188160.0\n",
      "loss_lambda_c =  190704517120.0\n",
      "loss_lambda_c =  190355374080.0\n",
      "loss_lambda_c =  190027595776.0\n",
      "loss_lambda_c =  189721083904.0\n",
      "loss_lambda_c =  189436264448.0\n",
      "loss_lambda_c =  189173579776.0\n",
      "loss_lambda_c =  188933521408.0\n",
      "loss_lambda_c =  188716269568.0\n",
      "loss_lambda_c =  188521742336.0\n",
      "loss_lambda_c =  188349284352.0\n",
      "loss_lambda_c =  188197896192.0\n",
      "loss_lambda_c =  188066365440.0\n",
      "Epoch  3448: reducing learning rate of group 0 to 1.0000e-03.\n",
      "Epoch  3465: reducing learning rate of group 0 to 1.0000e-04.\n",
      "Epoch  3481: reducing learning rate of group 0 to 1.0000e-05.\n",
      "Epoch  3497: reducing learning rate of group 0 to 1.0000e-06.\n",
      "loss_lambda_c =  188006596608.0\n",
      "Epoch  3513: reducing learning rate of group 0 to 1.0000e-07.\n",
      "sample ==  2\n",
      "loss_lambda_c =  655100825567232.0\n",
      "loss_lambda_c =  364406701555712.0\n",
      "loss_lambda_c =  4999086604288.0\n",
      "loss_lambda_c =  3214919598080.0\n",
      "loss_lambda_c =  2535269335040.0\n",
      "loss_lambda_c =  2161407426560.0\n",
      "loss_lambda_c =  1937626497024.0\n",
      "loss_lambda_c =  1799184056320.0\n",
      "loss_lambda_c =  1711220588544.0\n",
      "loss_lambda_c =  1653035368448.0\n",
      "loss_lambda_c =  1611971821568.0\n",
      "loss_lambda_c =  1580644958208.0\n",
      "loss_lambda_c =  1555004391424.0\n",
      "loss_lambda_c =  1532925575168.0\n",
      "loss_lambda_c =  1513302130688.0\n",
      "loss_lambda_c =  1495542136832.0\n",
      "loss_lambda_c =  1479295631360.0\n",
      "loss_lambda_c =  1464321572864.0\n",
      "loss_lambda_c =  1450444980224.0\n",
      "loss_lambda_c =  1437527048192.0\n",
      "loss_lambda_c =  1425456496640.0\n",
      "loss_lambda_c =  1414147473408.0\n",
      "loss_lambda_c =  1403532869632.0\n",
      "loss_lambda_c =  1393563009024.0\n",
      "loss_lambda_c =  1384197914624.0\n",
      "loss_lambda_c =  1375407439872.0\n",
      "loss_lambda_c =  1367162748928.0\n",
      "loss_lambda_c =  1359438413824.0\n",
      "loss_lambda_c =  1352207040512.0\n",
      "loss_lambda_c =  1345442414592.0\n",
      "loss_lambda_c =  1339114913792.0\n",
      "loss_lambda_c =  1333195440128.0\n",
      "loss_lambda_c =  1327655813120.0\n",
      "loss_lambda_c =  1322468507648.0\n",
      "loss_lambda_c =  1317606653952.0\n",
      "loss_lambda_c =  1313046134784.0\n",
      "loss_lambda_c =  1308763619328.0\n",
      "loss_lambda_c =  1304737873920.0\n",
      "loss_lambda_c =  1300950155264.0\n",
      "loss_lambda_c =  1297383161856.0\n",
      "loss_lambda_c =  1294020640768.0\n",
      "loss_lambda_c =  1290848567296.0\n",
      "loss_lambda_c =  1287853441024.0\n",
      "loss_lambda_c =  1285023858688.0\n",
      "loss_lambda_c =  1282348941312.0\n",
      "loss_lambda_c =  1279819382784.0\n",
      "loss_lambda_c =  1277425614848.0\n",
      "loss_lambda_c =  1275160035328.0\n",
      "loss_lambda_c =  1273015042048.0\n",
      "loss_lambda_c =  1270983950336.0\n",
      "loss_lambda_c =  1269060468736.0\n",
      "loss_lambda_c =  1267238436864.0\n",
      "loss_lambda_c =  1265512218624.0\n",
      "loss_lambda_c =  1263876702208.0\n",
      "loss_lambda_c =  1262327169024.0\n",
      "loss_lambda_c =  1260858507264.0\n",
      "loss_lambda_c =  1259466915840.0\n",
      "loss_lambda_c =  1258147938304.0\n",
      "loss_lambda_c =  1256897118208.0\n",
      "loss_lambda_c =  1255711440896.0\n",
      "loss_lambda_c =  1254586843136.0\n",
      "loss_lambda_c =  1253519917056.0\n",
      "loss_lambda_c =  1252507779072.0\n",
      "loss_lambda_c =  1251547152384.0\n",
      "loss_lambda_c =  1250634891264.0\n",
      "loss_lambda_c =  1249768898560.0\n",
      "loss_lambda_c =  1248946028544.0\n",
      "Epoch  6672: reducing learning rate of group 0 to 1.0000e-03.\n",
      "Epoch  6689: reducing learning rate of group 0 to 1.0000e-04.\n",
      "loss_lambda_c =  1248357646336.0\n",
      "Epoch  6705: reducing learning rate of group 0 to 1.0000e-05.\n",
      "Epoch  6721: reducing learning rate of group 0 to 1.0000e-06.\n",
      "Epoch  6737: reducing learning rate of group 0 to 1.0000e-07.\n",
      "sample ==  3\n",
      "loss_lambda_c =  779831037919232.0\n",
      "loss_lambda_c =  457802510237696.0\n",
      "loss_lambda_c =  8252726181888.0\n",
      "loss_lambda_c =  4307662929920.0\n",
      "loss_lambda_c =  2946399731712.0\n",
      "loss_lambda_c =  2390544613376.0\n",
      "loss_lambda_c =  2145362640896.0\n",
      "loss_lambda_c =  2017698775040.0\n",
      "loss_lambda_c =  1939679608832.0\n",
      "loss_lambda_c =  1885470720000.0\n",
      "loss_lambda_c =  1843736608768.0\n",
      "loss_lambda_c =  1809258119168.0\n",
      "loss_lambda_c =  1779708723200.0\n",
      "loss_lambda_c =  1754105249792.0\n",
      "loss_lambda_c =  1732042555392.0\n",
      "loss_lambda_c =  1713309745152.0\n",
      "loss_lambda_c =  1697706541056.0\n",
      "loss_lambda_c =  1684974993408.0\n",
      "loss_lambda_c =  1674792271872.0\n",
      "loss_lambda_c =  1666797666304.0\n",
      "loss_lambda_c =  1660624830464.0\n",
      "loss_lambda_c =  1655926554624.0\n",
      "loss_lambda_c =  1652394688512.0\n",
      "loss_lambda_c =  1649766170624.0\n",
      "loss_lambda_c =  1647824601088.0\n",
      "loss_lambda_c =  1646395392000.0\n",
      "Epoch  2569: reducing learning rate of group 0 to 1.0000e-03.\n",
      "Epoch  2586: reducing learning rate of group 0 to 1.0000e-04.\n",
      "loss_lambda_c =  1645609091072.0\n",
      "Epoch  2602: reducing learning rate of group 0 to 1.0000e-05.\n",
      "Epoch  2618: reducing learning rate of group 0 to 1.0000e-06.\n",
      "Epoch  2634: reducing learning rate of group 0 to 1.0000e-07.\n",
      "sample ==  4\n",
      "loss_lambda_c =  695270513836032.0\n",
      "loss_lambda_c =  394248335654912.0\n",
      "loss_lambda_c =  5739891916800.0\n",
      "loss_lambda_c =  3373041713152.0\n",
      "loss_lambda_c =  2711733403648.0\n",
      "loss_lambda_c =  2321675190272.0\n",
      "loss_lambda_c =  2022750158848.0\n",
      "loss_lambda_c =  1782233169920.0\n",
      "loss_lambda_c =  1589906767872.0\n",
      "loss_lambda_c =  1439012093952.0\n",
      "loss_lambda_c =  1322057990144.0\n",
      "loss_lambda_c =  1231320252416.0\n",
      "loss_lambda_c =  1160313569280.0\n",
      "loss_lambda_c =  1104269410304.0\n",
      "loss_lambda_c =  1059814113280.0\n",
      "loss_lambda_c =  1024501481472.0\n",
      "loss_lambda_c =  996482351104.0\n",
      "loss_lambda_c =  974291664896.0\n",
      "loss_lambda_c =  956747022336.0\n",
      "loss_lambda_c =  942887141376.0\n",
      "loss_lambda_c =  931936468992.0\n",
      "loss_lambda_c =  923275755520.0\n",
      "loss_lambda_c =  916415578112.0\n",
      "loss_lambda_c =  910972354560.0\n",
      "loss_lambda_c =  906646650880.0\n",
      "loss_lambda_c =  903203520512.0\n",
      "loss_lambda_c =  900456382464.0\n",
      "loss_lambda_c =  898260729856.0\n",
      "loss_lambda_c =  896501022720.0\n",
      "loss_lambda_c =  895086493696.0\n",
      "loss_lambda_c =  893945511936.0\n",
      "loss_lambda_c =  893022044160.0\n",
      "loss_lambda_c =  892271329280.0\n",
      "loss_lambda_c =  891658305536.0\n",
      "Epoch  3311: reducing learning rate of group 0 to 1.0000e-03.\n",
      "Epoch  3328: reducing learning rate of group 0 to 1.0000e-04.\n",
      "Epoch  3344: reducing learning rate of group 0 to 1.0000e-05.\n",
      "Epoch  3360: reducing learning rate of group 0 to 1.0000e-06.\n",
      "Epoch  3376: reducing learning rate of group 0 to 1.0000e-07.\n",
      "sample ==  5\n",
      "loss_lambda_c =  1371030736076800.0\n"
     ]
    },
    {
     "name": "stdout",
     "output_type": "stream",
     "text": [
      "loss_lambda_c =  925712152264704.0\n",
      "loss_lambda_c =  30223475146752.0\n",
      "loss_lambda_c =  7318841851904.0\n",
      "loss_lambda_c =  4420921720832.0\n",
      "loss_lambda_c =  3408171892736.0\n",
      "loss_lambda_c =  2892631638016.0\n",
      "loss_lambda_c =  2578068013056.0\n",
      "loss_lambda_c =  2366744297472.0\n",
      "loss_lambda_c =  2212946771968.0\n",
      "loss_lambda_c =  2093711622144.0\n",
      "loss_lambda_c =  1997346832384.0\n",
      "loss_lambda_c =  1917687300096.0\n",
      "loss_lambda_c =  1851227373568.0\n",
      "loss_lambda_c =  1795720216576.0\n",
      "loss_lambda_c =  1749485879296.0\n",
      "loss_lambda_c =  1711120711680.0\n",
      "loss_lambda_c =  1679374680064.0\n",
      "loss_lambda_c =  1653124628480.0\n",
      "loss_lambda_c =  1631374016512.0\n",
      "loss_lambda_c =  1613271007232.0\n",
      "loss_lambda_c =  1598082383872.0\n",
      "loss_lambda_c =  1585231953920.0\n",
      "loss_lambda_c =  1574266339328.0\n",
      "loss_lambda_c =  1564847243264.0\n",
      "loss_lambda_c =  1556718419968.0\n",
      "loss_lambda_c =  1549694533632.0\n",
      "loss_lambda_c =  1543633240064.0\n",
      "loss_lambda_c =  1538422472704.0\n",
      "loss_lambda_c =  1533967728640.0\n",
      "loss_lambda_c =  1530184859648.0\n",
      "loss_lambda_c =  1526998499328.0\n",
      "loss_lambda_c =  1524337344512.0\n",
      "loss_lambda_c =  1522134417408.0\n",
      "loss_lambda_c =  1520328507392.0\n",
      "loss_lambda_c =  1518862336000.0\n",
      "loss_lambda_c =  1517683736576.0\n",
      "Epoch  3665: reducing learning rate of group 0 to 1.0000e-03.\n",
      "Epoch  3682: reducing learning rate of group 0 to 1.0000e-04.\n",
      "Epoch  3698: reducing learning rate of group 0 to 1.0000e-05.\n",
      "loss_lambda_c =  1517024575488.0\n",
      "Epoch  3714: reducing learning rate of group 0 to 1.0000e-06.\n",
      "Epoch  3730: reducing learning rate of group 0 to 1.0000e-07.\n",
      "sample ==  6\n",
      "loss_lambda_c =  361779456638976.0\n",
      "loss_lambda_c =  160311432708096.0\n",
      "loss_lambda_c =  1923191013376.0\n",
      "loss_lambda_c =  1323714740224.0\n",
      "loss_lambda_c =  1040929980416.0\n",
      "loss_lambda_c =  901963186176.0\n",
      "loss_lambda_c =  837452955648.0\n",
      "loss_lambda_c =  806936903680.0\n",
      "loss_lambda_c =  791011917824.0\n",
      "loss_lambda_c =  781400539136.0\n",
      "loss_lambda_c =  774668353536.0\n",
      "loss_lambda_c =  769397882880.0\n",
      "loss_lambda_c =  765006708736.0\n",
      "loss_lambda_c =  761242058752.0\n",
      "loss_lambda_c =  757980594176.0\n",
      "loss_lambda_c =  755141771264.0\n",
      "loss_lambda_c =  752665231360.0\n",
      "loss_lambda_c =  750497497088.0\n",
      "loss_lambda_c =  748591120384.0\n",
      "loss_lambda_c =  746904879104.0\n",
      "loss_lambda_c =  745404825600.0\n",
      "loss_lambda_c =  744058257408.0\n",
      "loss_lambda_c =  742838829056.0\n",
      "loss_lambda_c =  741728059392.0\n",
      "loss_lambda_c =  740709498880.0\n",
      "loss_lambda_c =  739770695680.0\n",
      "loss_lambda_c =  738903326720.0\n",
      "loss_lambda_c =  738100248576.0\n",
      "loss_lambda_c =  737356677120.0\n",
      "loss_lambda_c =  736669073408.0\n",
      "loss_lambda_c =  736034816000.0\n",
      "loss_lambda_c =  735452135424.0\n",
      "loss_lambda_c =  734918868992.0\n",
      "loss_lambda_c =  734432788480.0\n",
      "Epoch  3332: reducing learning rate of group 0 to 1.0000e-03.\n",
      "Epoch  3349: reducing learning rate of group 0 to 1.0000e-04.\n",
      "Epoch  3365: reducing learning rate of group 0 to 1.0000e-05.\n",
      "Epoch  3381: reducing learning rate of group 0 to 1.0000e-06.\n",
      "Epoch  3397: reducing learning rate of group 0 to 1.0000e-07.\n",
      "sample ==  7\n",
      "loss_lambda_c =  163783980875776.0\n",
      "loss_lambda_c =  46187407212544.0\n",
      "loss_lambda_c =  1723096760320.0\n",
      "loss_lambda_c =  1320100167680.0\n",
      "loss_lambda_c =  1114209386496.0\n",
      "loss_lambda_c =  1001174532096.0\n",
      "loss_lambda_c =  925683941376.0\n",
      "loss_lambda_c =  869147017216.0\n",
      "loss_lambda_c =  825124585472.0\n",
      "loss_lambda_c =  789787574272.0\n",
      "loss_lambda_c =  760251416576.0\n",
      "loss_lambda_c =  734408867840.0\n",
      "loss_lambda_c =  710834126848.0\n",
      "loss_lambda_c =  688679157760.0\n",
      "loss_lambda_c =  667548778496.0\n",
      "loss_lambda_c =  647363166208.0\n",
      "loss_lambda_c =  628197425152.0\n",
      "loss_lambda_c =  610151694336.0\n",
      "loss_lambda_c =  593301864448.0\n",
      "loss_lambda_c =  577723891712.0\n",
      "loss_lambda_c =  563513655296.0\n",
      "loss_lambda_c =  550754582528.0\n",
      "loss_lambda_c =  539460239360.0\n",
      "loss_lambda_c =  529549656064.0\n",
      "loss_lambda_c =  520868036608.0\n",
      "loss_lambda_c =  513235877888.0\n",
      "loss_lambda_c =  506492026880.0\n",
      "loss_lambda_c =  500512653312.0\n",
      "loss_lambda_c =  495210856448.0\n",
      "loss_lambda_c =  490526277632.0\n",
      "loss_lambda_c =  486416121856.0\n",
      "loss_lambda_c =  482844246016.0\n"
     ]
    }
   ],
   "source": [
    "# optimize lambdac first\n",
    "# lambdac_iterations = 3e4\n",
    "# for k in range(model.data.n_supervised_samples):\n",
    "#     print('sample = ', k)\n",
    "#     lr_init = 1e-2\n",
    "#     model.lambdacOpt.param_groups[0]['lr'] = lr_init\n",
    "#     lambdac_iter = 0\n",
    "#     while lambdac_iter < lambdac_iterations and model.lambdacOpt.param_groups[0]['lr'] > 1e-4 * lr_init:\n",
    "#         model.lambdac_step(k, lambdac_iter)\n",
    "#         lambdac_iter += 1\n",
    "for n in range(model.data.n_supervised_samples):\n",
    "    print('sample == ', n)\n",
    "    model.log_lambdac_mean[n].max_iter = 3e4\n",
    "    model.log_lambdac_mean[n].converge(model, model.data.n_supervised_samples, mode=n)"
   ]
  },
  {
   "cell_type": "code",
   "execution_count": null,
   "metadata": {
    "scrolled": false
   },
   "outputs": [],
   "source": [
    "model.fit(n_steps=50, with_precisions=False, z_iterations=200, thetac_iterations=10000, lambdac_iterations=500)"
   ]
  },
  {
   "cell_type": "code",
   "execution_count": null,
   "metadata": {
    "scrolled": true
   },
   "outputs": [],
   "source": [
    "model.fit(n_steps=50, z_iterations=100, with_precisions=True, lambdac_iterations=1000)"
   ]
  },
  {
   "cell_type": "code",
   "execution_count": null,
   "metadata": {
    "scrolled": true
   },
   "outputs": [],
   "source": [
    "model.log_lambdac_mean"
   ]
  },
  {
   "cell_type": "code",
   "execution_count": null,
   "metadata": {},
   "outputs": [],
   "source": [
    "# model = gs.GenerativeSurrogate()\n",
    "# model.load()"
   ]
  },
  {
   "cell_type": "code",
   "execution_count": null,
   "metadata": {},
   "outputs": [],
   "source": [
    "test_samples = {n for n in range(0, 4)}\n",
    "testData = dta.StokesData(unsupervised_samples=test_samples)\n",
    "testData.read_data()\n",
    "# trainingData.plotMicrostruct(1)\n",
    "testData.reshape_microstructure_image()"
   ]
  },
  {
   "cell_type": "code",
   "execution_count": null,
   "metadata": {
    "scrolled": false
   },
   "outputs": [],
   "source": [
    "uf_pred, Z = model.predict(testData, max_iterations=1000)"
   ]
  },
  {
   "cell_type": "code",
   "execution_count": null,
   "metadata": {},
   "outputs": [],
   "source": [
    "uf_pred[0]"
   ]
  },
  {
   "cell_type": "code",
   "execution_count": null,
   "metadata": {
    "scrolled": false
   },
   "outputs": [],
   "source": [
    "model.fit(n_steps=10)"
   ]
  },
  {
   "cell_type": "code",
   "execution_count": null,
   "metadata": {},
   "outputs": [],
   "source": [
    "x = np.outer(np.linspace(0, 1, 129), np.ones(129))\n",
    "y = x.copy().T # transpose"
   ]
  },
  {
   "cell_type": "code",
   "execution_count": null,
   "metadata": {},
   "outputs": [],
   "source": [
    "fig = plt.figure()"
   ]
  },
  {
   "cell_type": "code",
   "execution_count": null,
   "metadata": {},
   "outputs": [],
   "source": [
    "ax = plt.axes(projection='3d')"
   ]
  },
  {
   "cell_type": "code",
   "execution_count": null,
   "metadata": {},
   "outputs": [],
   "source": [
    "ax.plot_surface(x, y, np.reshape(uf_pred[0], (129, 129)),cmap='viridis', edgecolor='none')"
   ]
  },
  {
   "cell_type": "code",
   "execution_count": null,
   "metadata": {},
   "outputs": [],
   "source": [
    "pp = np.reshape(model.data.P[0, :], (129, 129))"
   ]
  },
  {
   "cell_type": "code",
   "execution_count": null,
   "metadata": {},
   "outputs": [],
   "source": [
    "ax.plot_surface(x, y, pp.detach().numpy())"
   ]
  },
  {
   "cell_type": "code",
   "execution_count": null,
   "metadata": {},
   "outputs": [],
   "source": [
    "model.plot_input_reconstruction()"
   ]
  },
  {
   "cell_type": "code",
   "execution_count": null,
   "metadata": {},
   "outputs": [],
   "source": [
    "model.plot_generated_microstructures()"
   ]
  },
  {
   "cell_type": "code",
   "execution_count": null,
   "metadata": {},
   "outputs": [],
   "source": [
    "model.lambdacOpt.param_groups[0]['lr']"
   ]
  },
  {
   "cell_type": "code",
   "execution_count": null,
   "metadata": {},
   "outputs": [],
   "source": [
    "model.data.P[-1, :]"
   ]
  },
  {
   "cell_type": "code",
   "execution_count": null,
   "metadata": {},
   "outputs": [],
   "source": [
    "model.rom.interpolated_solution.array"
   ]
  },
  {
   "cell_type": "code",
   "execution_count": null,
   "metadata": {},
   "outputs": [],
   "source": [
    "model.data.P[-1, :]"
   ]
  },
  {
   "cell_type": "code",
   "execution_count": null,
   "metadata": {},
   "outputs": [],
   "source": [
    "model.log_lambdac_mean"
   ]
  },
  {
   "cell_type": "code",
   "execution_count": null,
   "metadata": {},
   "outputs": [],
   "source": [
    "model.taucf"
   ]
  },
  {
   "cell_type": "code",
   "execution_count": null,
   "metadata": {},
   "outputs": [],
   "source": [
    "uf_pred = model.rom_autograd(torch.exp(model.log_lambdac_mean[0, :]) + 1e-12)"
   ]
  },
  {
   "cell_type": "code",
   "execution_count": null,
   "metadata": {},
   "outputs": [],
   "source": [
    "uf_pred"
   ]
  },
  {
   "cell_type": "code",
   "execution_count": null,
   "metadata": {},
   "outputs": [],
   "source": [
    "model.lambdacOpt.param_groups"
   ]
  },
  {
   "cell_type": "code",
   "execution_count": null,
   "metadata": {},
   "outputs": [],
   "source": [
    "x = model.log_lambdac_mean.split(1)"
   ]
  },
  {
   "cell_type": "code",
   "execution_count": null,
   "metadata": {},
   "outputs": [],
   "source": [
    "x[0]"
   ]
  },
  {
   "cell_type": "code",
   "execution_count": null,
   "metadata": {},
   "outputs": [],
   "source": [
    "model.log_lambdac_mean"
   ]
  },
  {
   "cell_type": "code",
   "execution_count": null,
   "metadata": {},
   "outputs": [],
   "source": [
    "from torch import optim\n",
    "x = optim.Adam([])"
   ]
  },
  {
   "cell_type": "code",
   "execution_count": null,
   "metadata": {},
   "outputs": [],
   "source": [
    "x = gs.LogLambdacParam()"
   ]
  },
  {
   "cell_type": "code",
   "execution_count": null,
   "metadata": {},
   "outputs": [],
   "source": [
    "x.loss(5)"
   ]
  },
  {
   "cell_type": "code",
   "execution_count": null,
   "metadata": {},
   "outputs": [],
   "source": [
    "x"
   ]
  },
  {
   "cell_type": "code",
   "execution_count": null,
   "metadata": {},
   "outputs": [],
   "source": [
    "lst = []"
   ]
  },
  {
   "cell_type": "code",
   "execution_count": null,
   "metadata": {},
   "outputs": [],
   "source": [
    "lst.append(gs.LogLambdacParam())"
   ]
  },
  {
   "cell_type": "code",
   "execution_count": null,
   "metadata": {},
   "outputs": [],
   "source": [
    "x = 5\n",
    "isinstance(x, int)"
   ]
  },
  {
   "cell_type": "code",
   "execution_count": null,
   "metadata": {},
   "outputs": [],
   "source": []
  }
 ],
 "metadata": {
  "kernelspec": {
   "display_name": "PyCharm (generative_DR_ROM)",
   "language": "python",
   "name": "pycharm-712517ba"
  },
  "language_info": {
   "codemirror_mode": {
    "name": "ipython",
    "version": 3
   },
   "file_extension": ".py",
   "mimetype": "text/x-python",
   "name": "python",
   "nbconvert_exporter": "python",
   "pygments_lexer": "ipython3",
   "version": "3.7.5"
  }
 },
 "nbformat": 4,
 "nbformat_minor": 2
}

{
 "cells": [
  {
   "cell_type": "code",
   "execution_count": 1,
   "metadata": {
    "pycharm": {
     "is_executing": false
    }
   },
   "outputs": [
    {
     "name": "stderr",
     "output_type": "stream",
     "text": [
      "/home/constantin/anaconda3/envs/genDRROM/lib/python3.7/site-packages/tensorboard/compat/tensorflow_stub/dtypes.py:541: FutureWarning: Passing (type, 1) or '1type' as a synonym of type is deprecated; in a future version of numpy, it will be understood as (type, (1,)) / '(1,)type'.\n",
      "  _np_qint8 = np.dtype([(\"qint8\", np.int8, 1)])\n",
      "/home/constantin/anaconda3/envs/genDRROM/lib/python3.7/site-packages/tensorboard/compat/tensorflow_stub/dtypes.py:542: FutureWarning: Passing (type, 1) or '1type' as a synonym of type is deprecated; in a future version of numpy, it will be understood as (type, (1,)) / '(1,)type'.\n",
      "  _np_quint8 = np.dtype([(\"quint8\", np.uint8, 1)])\n",
      "/home/constantin/anaconda3/envs/genDRROM/lib/python3.7/site-packages/tensorboard/compat/tensorflow_stub/dtypes.py:543: FutureWarning: Passing (type, 1) or '1type' as a synonym of type is deprecated; in a future version of numpy, it will be understood as (type, (1,)) / '(1,)type'.\n",
      "  _np_qint16 = np.dtype([(\"qint16\", np.int16, 1)])\n",
      "/home/constantin/anaconda3/envs/genDRROM/lib/python3.7/site-packages/tensorboard/compat/tensorflow_stub/dtypes.py:544: FutureWarning: Passing (type, 1) or '1type' as a synonym of type is deprecated; in a future version of numpy, it will be understood as (type, (1,)) / '(1,)type'.\n",
      "  _np_quint16 = np.dtype([(\"quint16\", np.uint16, 1)])\n",
      "/home/constantin/anaconda3/envs/genDRROM/lib/python3.7/site-packages/tensorboard/compat/tensorflow_stub/dtypes.py:545: FutureWarning: Passing (type, 1) or '1type' as a synonym of type is deprecated; in a future version of numpy, it will be understood as (type, (1,)) / '(1,)type'.\n",
      "  _np_qint32 = np.dtype([(\"qint32\", np.int32, 1)])\n",
      "/home/constantin/anaconda3/envs/genDRROM/lib/python3.7/site-packages/tensorboard/compat/tensorflow_stub/dtypes.py:550: FutureWarning: Passing (type, 1) or '1type' as a synonym of type is deprecated; in a future version of numpy, it will be understood as (type, (1,)) / '(1,)type'.\n",
      "  np_resource = np.dtype([(\"resource\", np.ubyte, 1)])\n"
     ]
    }
   ],
   "source": [
    "%matplotlib qt\n",
    "\n",
    "import matplotlib.pyplot as plt\n",
    "from poisson_fem import PoissonFEM\n",
    "import ROM\n",
    "import GenerativeSurrogate as gs\n",
    "import Data as dta\n",
    "import numpy as np\n",
    "import scipy.sparse as sps\n",
    "import scipy.sparse.linalg as lg\n",
    "import time\n",
    "import petsc4py\n",
    "import sys\n",
    "petsc4py.init(sys.argv)\n",
    "from petsc4py import PETSc\n",
    "import torch\n",
    "from torch import optim"
   ]
  },
  {
   "cell_type": "code",
   "execution_count": 2,
   "metadata": {
    "pycharm": {
     "is_executing": false
    }
   },
   "outputs": [],
   "source": [
    "# Some fixed parameters\n",
    "lin_dim_rom = 4                      # Linear number of rom elements\n",
    "a = np.array([1, 2, 3])              # Boundary condition function coefficients\n",
    "dim_z = 30                            # Latent space dimension\n",
    "dtype = torch.float                  # Tensor data type"
   ]
  },
  {
   "cell_type": "code",
   "execution_count": 3,
   "metadata": {
    "pycharm": {
     "is_executing": false
    }
   },
   "outputs": [],
   "source": [
    "# Define mesh and boundary conditions\n",
    "mesh = PoissonFEM.RectangularMesh(np.ones(lin_dim_rom)/lin_dim_rom)\n",
    "# mesh.plot()\n",
    "\n",
    "def origin(x):\n",
    "    return np.abs(x[0]) < np.finfo(float).eps and np.abs(x[1]) < np.finfo(float).eps\n",
    "\n",
    "def essBoundaryFun(x):\n",
    "    return 0.0\n",
    "mesh.setEssentialBoundary(origin, essBoundaryFun)\n",
    "\n",
    "def domainBoundary(x):\n",
    "    # unit square\n",
    "    return np.abs(x[0]) < np.finfo(float).eps or np.abs(x[1]) < np.finfo(float).eps or \\\n",
    "            np.abs(x[0]) > 1.0 - np.finfo(float).eps or np.abs(x[1]) > 1.0 - np.finfo(float).eps\n",
    "mesh.setNaturalBoundary(domainBoundary)\n",
    "\n",
    "def flux(x):\n",
    "    q = np.array([a[0] + a[2]*x[1], a[1] + a[2]*x[0]])\n",
    "    return q"
   ]
  },
  {
   "cell_type": "code",
   "execution_count": 4,
   "metadata": {},
   "outputs": [],
   "source": [
    "# Set up solver\n",
    "ksp = PETSc.KSP().create()\n",
    "ksp.setType('preonly')\n",
    "precond = ksp.getPC()\n",
    "precond.setType('cholesky')\n",
    "ksp.setFromOptions() #???"
   ]
  },
  {
   "cell_type": "code",
   "execution_count": 5,
   "metadata": {},
   "outputs": [],
   "source": [
    "#Spepify right hand side and stiffness matrix\n",
    "#Define boundary flux field\n",
    "rhs = PoissonFEM.RightHandSide(mesh)\n",
    "rhs.setNaturalRHS(mesh, flux)\n",
    "funSpace = PoissonFEM.FunctionSpace(mesh)\n",
    "K = PoissonFEM.StiffnessMatrix(mesh, funSpace, ksp)\n",
    "rhs.setRhsStencil(mesh, K)"
   ]
  },
  {
   "cell_type": "code",
   "execution_count": 6,
   "metadata": {},
   "outputs": [],
   "source": [
    "# define rom\n",
    "rom = ROM.ROM(mesh, K, rhs)"
   ]
  },
  {
   "cell_type": "code",
   "execution_count": 7,
   "metadata": {},
   "outputs": [],
   "source": [
    "trainingData = dta.StokesData(range(256))\n",
    "trainingData.readData(['IMG'])\n",
    "# trainingData.plotMicrostruct(1)\n",
    "trainingData.reshapeInputImg()"
   ]
  },
  {
   "cell_type": "code",
   "execution_count": 8,
   "metadata": {},
   "outputs": [],
   "source": [
    "model = gs.GenerativeSurrogate(rom, trainingData, dim_z)"
   ]
  },
  {
   "cell_type": "code",
   "execution_count": 24,
   "metadata": {
    "scrolled": false
   },
   "outputs": [
    {
     "name": "stdout",
     "output_type": "stream",
     "text": [
      "step =  0\n",
      "loss_pf =  tensor(3346.8145, grad_fn=<SubBackward0>)\n",
      "step =  1\n",
      "loss_pf =  tensor(3338.9922, grad_fn=<SubBackward0>)\n",
      "step =  2\n",
      "loss_pf =  tensor(3331.2234, grad_fn=<SubBackward0>)\n",
      "step =  3\n",
      "loss_pf =  tensor(3323.5146, grad_fn=<SubBackward0>)\n",
      "step =  4\n",
      "loss_pf =  tensor(3315.8589, grad_fn=<SubBackward0>)\n",
      "step =  5\n",
      "loss_pf =  tensor(3308.2622, grad_fn=<SubBackward0>)\n",
      "step =  6\n",
      "loss_pf =  tensor(3300.7168, grad_fn=<SubBackward0>)\n",
      "step =  7\n",
      "loss_pf =  tensor(3293.2251, grad_fn=<SubBackward0>)\n",
      "step =  8\n",
      "loss_pf =  tensor(3285.7888, grad_fn=<SubBackward0>)\n",
      "step =  9\n",
      "loss_pf =  tensor(3278.3989, grad_fn=<SubBackward0>)\n",
      "step =  10\n",
      "loss_pf =  tensor(3271.0630, grad_fn=<SubBackward0>)\n",
      "step =  11\n",
      "loss_pf =  tensor(3263.7769, grad_fn=<SubBackward0>)\n",
      "step =  12\n",
      "loss_pf =  tensor(3256.5439, grad_fn=<SubBackward0>)\n",
      "step =  13\n",
      "loss_pf =  tensor(3249.3586, grad_fn=<SubBackward0>)\n",
      "step =  14\n",
      "loss_pf =  tensor(3242.2271, grad_fn=<SubBackward0>)\n",
      "step =  15\n",
      "loss_pf =  tensor(3235.1431, grad_fn=<SubBackward0>)\n",
      "step =  16\n",
      "loss_pf =  tensor(3228.1050, grad_fn=<SubBackward0>)\n",
      "step =  17\n",
      "loss_pf =  tensor(3221.1165, grad_fn=<SubBackward0>)\n",
      "step =  18\n",
      "loss_pf =  tensor(3214.1738, grad_fn=<SubBackward0>)\n",
      "step =  19\n",
      "loss_pf =  tensor(3207.2825, grad_fn=<SubBackward0>)\n",
      "step =  20\n",
      "loss_pf =  tensor(3200.4321, grad_fn=<SubBackward0>)\n",
      "step =  21\n",
      "loss_pf =  tensor(3193.6294, grad_fn=<SubBackward0>)\n",
      "step =  22\n",
      "loss_pf =  tensor(3186.8735, grad_fn=<SubBackward0>)\n",
      "step =  23\n",
      "loss_pf =  tensor(3180.1604, grad_fn=<SubBackward0>)\n",
      "step =  24\n",
      "loss_pf =  tensor(3173.4958, grad_fn=<SubBackward0>)\n",
      "step =  25\n",
      "loss_pf =  tensor(3166.8706, grad_fn=<SubBackward0>)\n",
      "step =  26\n",
      "loss_pf =  tensor(3160.2896, grad_fn=<SubBackward0>)\n",
      "step =  27\n",
      "loss_pf =  tensor(3153.7544, grad_fn=<SubBackward0>)\n",
      "step =  28\n",
      "loss_pf =  tensor(3147.2605, grad_fn=<SubBackward0>)\n",
      "step =  29\n",
      "loss_pf =  tensor(3140.8069, grad_fn=<SubBackward0>)\n",
      "step =  30\n",
      "loss_pf =  tensor(3134.3970, grad_fn=<SubBackward0>)\n",
      "step =  31\n",
      "loss_pf =  tensor(3128.0283, grad_fn=<SubBackward0>)\n",
      "step =  32\n",
      "loss_pf =  tensor(3121.6987, grad_fn=<SubBackward0>)\n",
      "step =  33\n",
      "loss_pf =  tensor(3115.4116, grad_fn=<SubBackward0>)\n",
      "step =  34\n",
      "loss_pf =  tensor(3109.1631, grad_fn=<SubBackward0>)\n",
      "step =  35\n",
      "loss_pf =  tensor(3102.9539, grad_fn=<SubBackward0>)\n",
      "step =  36\n",
      "loss_pf =  tensor(3096.7798, grad_fn=<SubBackward0>)\n",
      "step =  37\n",
      "loss_pf =  tensor(3090.6509, grad_fn=<SubBackward0>)\n",
      "step =  38\n",
      "loss_pf =  tensor(3084.5537, grad_fn=<SubBackward0>)\n",
      "step =  39\n",
      "loss_pf =  tensor(3078.4976, grad_fn=<SubBackward0>)\n",
      "step =  40\n",
      "loss_pf =  tensor(3072.4785, grad_fn=<SubBackward0>)\n",
      "step =  41\n",
      "loss_pf =  tensor(3066.5000, grad_fn=<SubBackward0>)\n",
      "step =  42\n",
      "loss_pf =  tensor(3060.5552, grad_fn=<SubBackward0>)\n",
      "step =  43\n",
      "loss_pf =  tensor(3054.6489, grad_fn=<SubBackward0>)\n",
      "step =  44\n",
      "loss_pf =  tensor(3048.7744, grad_fn=<SubBackward0>)\n",
      "step =  45\n",
      "loss_pf =  tensor(3042.9380, grad_fn=<SubBackward0>)\n",
      "step =  46\n",
      "loss_pf =  tensor(3037.1367, grad_fn=<SubBackward0>)\n",
      "step =  47\n",
      "loss_pf =  tensor(3031.3728, grad_fn=<SubBackward0>)\n",
      "step =  48\n",
      "loss_pf =  tensor(3025.6418, grad_fn=<SubBackward0>)\n",
      "step =  49\n",
      "loss_pf =  tensor(3019.9482, grad_fn=<SubBackward0>)\n"
     ]
    }
   ],
   "source": [
    "steps = int(50)\n",
    "for s in range(steps):\n",
    "    print('step = ', s)\n",
    "    batchSamples_pf = torch.multinomial(torch.ones(trainingData.nSamplesIn), model.batchSizeN_pf)\n",
    "#     batchSamples_pc = torch.multinomial(torch.ones(trainingData.nSamplesOut), model.batchSizeN_pc)\n",
    "    model.optLatentDistStep()\n",
    "    model.pfStep(batchSamples_pf)\n",
    "#     model.pcStep(batchSamples_pc)\n",
    "    "
   ]
  },
  {
   "cell_type": "code",
   "execution_count": 27,
   "metadata": {},
   "outputs": [
    {
     "data": {
      "text/plain": [
       "Text(0.5, 0.7, 'Untrained, N = 1184')"
      ]
     },
     "execution_count": 27,
     "metadata": {},
     "output_type": "execute_result"
    }
   ],
   "source": [
    "model.plotInputReconstruction()\n",
    "f = plt.gcf()\n",
    "f.suptitle('Untrained, N = 1184', fontsize=32, y=.7)"
   ]
  },
  {
   "cell_type": "code",
   "execution_count": 26,
   "metadata": {
    "scrolled": true
   },
   "outputs": [
    {
     "data": {
      "text/plain": [
       "Text(0.5, 0.7, 'N = 256')"
      ]
     },
     "execution_count": 26,
     "metadata": {},
     "output_type": "execute_result"
    }
   ],
   "source": [
    "f.suptitle('N = 256', fontsize=32, y=.7)"
   ]
  },
  {
   "cell_type": "code",
   "execution_count": 12,
   "metadata": {},
   "outputs": [
    {
     "data": {
      "text/plain": [
       "tensor([[ -2.2437,   8.7265,  -5.8289,  ...,   6.3580,   1.9284,   4.2061],\n",
       "        [  3.0961,   1.2469,   0.3156,  ...,   1.5052,  -3.7843,  -2.6156],\n",
       "        [  4.8751,   3.7017,  -0.9524,  ...,   6.5499,   1.3157,  -9.9536],\n",
       "        ...,\n",
       "        [ -2.4814,  -5.0901,  -0.2269,  ...,  -3.6274,   0.5880,  -2.2263],\n",
       "        [  3.1659,  -8.4665,  -2.6156,  ...,   7.3822,   8.8450,  -0.4655],\n",
       "        [  9.6971, -10.2827,  -0.8787,  ...,  -4.2116,   0.7959,  -1.9728]],\n",
       "       requires_grad=True)"
      ]
     },
     "execution_count": 12,
     "metadata": {},
     "output_type": "execute_result"
    }
   ],
   "source": [
    "model.z_mean"
   ]
  },
  {
   "cell_type": "code",
   "execution_count": 29,
   "metadata": {},
   "outputs": [],
   "source": [
    "sample = model.pfNet(model.z_mean[0, :])"
   ]
  },
  {
   "cell_type": "code",
   "execution_count": 30,
   "metadata": {},
   "outputs": [
    {
     "data": {
      "text/plain": [
       "torch.Size([65536])"
      ]
     },
     "execution_count": 30,
     "metadata": {},
     "output_type": "execute_result"
    }
   ],
   "source": [
    "sample.shape"
   ]
  },
  {
   "cell_type": "code",
   "execution_count": 31,
   "metadata": {},
   "outputs": [
    {
     "data": {
      "text/plain": [
       "<Figure size 640x480 with 0 Axes>"
      ]
     },
     "execution_count": 31,
     "metadata": {},
     "output_type": "execute_result"
    }
   ],
   "source": [
    "plt.figure()"
   ]
  },
  {
   "cell_type": "code",
   "execution_count": 32,
   "metadata": {},
   "outputs": [
    {
     "data": {
      "text/plain": [
       "<matplotlib.image.AxesImage at 0x7f30fb676310>"
      ]
     },
     "execution_count": 32,
     "metadata": {},
     "output_type": "execute_result"
    }
   ],
   "source": [
    "plt.imshow(torch.reshape(sample, (model.data.imgResolution, model.data.imgResolution)).detach().numpy() > .5,\n",
    "                     cmap='binary')"
   ]
  },
  {
   "cell_type": "code",
   "execution_count": 35,
   "metadata": {},
   "outputs": [
    {
     "data": {
      "text/plain": [
       "<matplotlib.image.AxesImage at 0x7f30fb443c10>"
      ]
     },
     "execution_count": 35,
     "metadata": {},
     "output_type": "execute_result"
    }
   ],
   "source": [
    "plt.figure()\n",
    "plt.imshow(torch.reshape(sample, (model.data.imgResolution, model.data.imgResolution)).detach().numpy())"
   ]
  },
  {
   "cell_type": "code",
   "execution_count": 36,
   "metadata": {},
   "outputs": [],
   "source": [
    "plt.figure()\n",
    "trainingData.plotMicrostruct(0)"
   ]
  },
  {
   "cell_type": "code",
   "execution_count": null,
   "metadata": {},
   "outputs": [],
   "source": []
  }
 ],
 "metadata": {
  "kernelspec": {
   "display_name": "PyCharm (generative_DR_ROM)",
   "language": "python",
   "name": "pycharm-712517ba"
  },
  "language_info": {
   "codemirror_mode": {
    "name": "ipython",
    "version": 3
   },
   "file_extension": ".py",
   "mimetype": "text/x-python",
   "name": "python",
   "nbconvert_exporter": "python",
   "pygments_lexer": "ipython3",
   "version": "3.7.5"
  }
 },
 "nbformat": 4,
 "nbformat_minor": 2
}

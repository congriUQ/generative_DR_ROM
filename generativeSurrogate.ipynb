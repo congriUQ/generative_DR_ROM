{
 "cells": [
  {
   "cell_type": "code",
   "execution_count": 1,
   "metadata": {
    "pycharm": {
     "is_executing": false
    }
   },
   "outputs": [
    {
     "name": "stderr",
     "output_type": "stream",
     "text": [
      "/home/constantin/anaconda3/envs/genDRROM/lib/python3.7/site-packages/tensorboard/compat/tensorflow_stub/dtypes.py:541: FutureWarning: Passing (type, 1) or '1type' as a synonym of type is deprecated; in a future version of numpy, it will be understood as (type, (1,)) / '(1,)type'.\n",
      "  _np_qint8 = np.dtype([(\"qint8\", np.int8, 1)])\n",
      "/home/constantin/anaconda3/envs/genDRROM/lib/python3.7/site-packages/tensorboard/compat/tensorflow_stub/dtypes.py:542: FutureWarning: Passing (type, 1) or '1type' as a synonym of type is deprecated; in a future version of numpy, it will be understood as (type, (1,)) / '(1,)type'.\n",
      "  _np_quint8 = np.dtype([(\"quint8\", np.uint8, 1)])\n",
      "/home/constantin/anaconda3/envs/genDRROM/lib/python3.7/site-packages/tensorboard/compat/tensorflow_stub/dtypes.py:543: FutureWarning: Passing (type, 1) or '1type' as a synonym of type is deprecated; in a future version of numpy, it will be understood as (type, (1,)) / '(1,)type'.\n",
      "  _np_qint16 = np.dtype([(\"qint16\", np.int16, 1)])\n",
      "/home/constantin/anaconda3/envs/genDRROM/lib/python3.7/site-packages/tensorboard/compat/tensorflow_stub/dtypes.py:544: FutureWarning: Passing (type, 1) or '1type' as a synonym of type is deprecated; in a future version of numpy, it will be understood as (type, (1,)) / '(1,)type'.\n",
      "  _np_quint16 = np.dtype([(\"quint16\", np.uint16, 1)])\n",
      "/home/constantin/anaconda3/envs/genDRROM/lib/python3.7/site-packages/tensorboard/compat/tensorflow_stub/dtypes.py:545: FutureWarning: Passing (type, 1) or '1type' as a synonym of type is deprecated; in a future version of numpy, it will be understood as (type, (1,)) / '(1,)type'.\n",
      "  _np_qint32 = np.dtype([(\"qint32\", np.int32, 1)])\n",
      "/home/constantin/anaconda3/envs/genDRROM/lib/python3.7/site-packages/tensorboard/compat/tensorflow_stub/dtypes.py:550: FutureWarning: Passing (type, 1) or '1type' as a synonym of type is deprecated; in a future version of numpy, it will be understood as (type, (1,)) / '(1,)type'.\n",
      "  np_resource = np.dtype([(\"resource\", np.ubyte, 1)])\n"
     ]
    }
   ],
   "source": [
    "%matplotlib qt\n",
    "\n",
    "import matplotlib.pyplot as plt\n",
    "from poisson_fem import PoissonFEM\n",
    "import ROM\n",
    "import GenerativeSurrogate as gs\n",
    "import Data as dta\n",
    "import numpy as np\n",
    "import scipy.sparse as sps\n",
    "import scipy.sparse.linalg as lg\n",
    "import time\n",
    "import petsc4py\n",
    "import sys\n",
    "petsc4py.init(sys.argv)\n",
    "from petsc4py import PETSc\n",
    "import torch\n",
    "from torch import optim"
   ]
  },
  {
   "cell_type": "code",
   "execution_count": 2,
   "metadata": {
    "pycharm": {
     "is_executing": false
    }
   },
   "outputs": [],
   "source": [
    "# Some parameters\n",
    "lin_dim_rom = 4                      # Linear number of rom elements\n",
    "a = np.array([1, 1, 0])              # Boundary condition function coefficients\n",
    "dim_z = 30                            # Latent space dimension\n",
    "dtype = torch.float                  # Tensor data type\n",
    "supervised_samples = {n for n in range(4)}\n",
    "unsupervised_samples = {n for n in range(4, 144)}"
   ]
  },
  {
   "cell_type": "code",
   "execution_count": 3,
   "metadata": {
    "pycharm": {
     "is_executing": false
    }
   },
   "outputs": [],
   "source": [
    "# Define mesh and boundary conditions\n",
    "mesh = PoissonFEM.RectangularMesh(np.ones(lin_dim_rom)/lin_dim_rom)\n",
    "# mesh.plot()\n",
    "\n",
    "def origin(x):\n",
    "    return np.abs(x[0]) < np.finfo(float).eps and np.abs(x[1]) < np.finfo(float).eps\n",
    "\n",
    "def ess_boundary_fun(x):\n",
    "    return 0.0\n",
    "mesh.set_essential_boundary(origin, ess_boundary_fun)\n",
    "\n",
    "def domain_boundary(x):\n",
    "    # unit square\n",
    "    return np.abs(x[0]) < np.finfo(float).eps or np.abs(x[1]) < np.finfo(float).eps or \\\n",
    "            np.abs(x[0]) > 1.0 - np.finfo(float).eps or np.abs(x[1]) > 1.0 - np.finfo(float).eps\n",
    "mesh.set_natural_boundary(domain_boundary)\n",
    "\n",
    "def flux(x):\n",
    "    q = np.array([a[0] + a[2]*x[1], a[1] + a[2]*x[0]])\n",
    "    return q"
   ]
  },
  {
   "cell_type": "code",
   "execution_count": 4,
   "metadata": {},
   "outputs": [],
   "source": [
    "# Set up solver\n",
    "ksp = PETSc.KSP().create()\n",
    "ksp.setType('preonly')\n",
    "precond = ksp.getPC()\n",
    "precond.setType('cholesky')\n",
    "ksp.setFromOptions() #???"
   ]
  },
  {
   "cell_type": "code",
   "execution_count": 5,
   "metadata": {},
   "outputs": [],
   "source": [
    "#Spepify right hand side and stiffness matrix\n",
    "#Define boundary flux field\n",
    "rhs = PoissonFEM.RightHandSide(mesh)\n",
    "rhs.set_natural_rhs(mesh, flux)\n",
    "funSpace = PoissonFEM.FunctionSpace(mesh)\n",
    "K = PoissonFEM.StiffnessMatrix(mesh, funSpace, ksp)\n",
    "rhs.set_rhs_stencil(mesh, K)"
   ]
  },
  {
   "cell_type": "code",
   "execution_count": 6,
   "metadata": {},
   "outputs": [],
   "source": [
    "trainingData = dta.StokesData(supervised_samples, unsupervised_samples)\n"
   ]
  },
  {
   "cell_type": "code",
   "execution_count": 7,
   "metadata": {
    "scrolled": false
   },
   "outputs": [],
   "source": [
    "trainingData.read_data()"
   ]
  },
  {
   "cell_type": "code",
   "execution_count": 8,
   "metadata": {},
   "outputs": [],
   "source": [
    "# trainingData.plotMicrostruct(1)\n",
    "trainingData.reshape_microstructure_image()"
   ]
  },
  {
   "cell_type": "code",
   "execution_count": 9,
   "metadata": {},
   "outputs": [],
   "source": [
    "# define rom\n",
    "rom = ROM.ROM(mesh, K, rhs, trainingData.output_resolution**2)"
   ]
  },
  {
   "cell_type": "code",
   "execution_count": 10,
   "metadata": {},
   "outputs": [],
   "source": [
    "model = gs.GenerativeSurrogate(rom, trainingData, dim_z)"
   ]
  },
  {
   "cell_type": "code",
   "execution_count": null,
   "metadata": {
    "scrolled": false
   },
   "outputs": [
    {
     "name": "stdout",
     "output_type": "stream",
     "text": [
      "step =  0\n",
      "sample =  tensor([2])\n",
      "diff =  tensor(1.2975e+08, grad_fn=<SumBackward0>)\n",
      "step =  1\n",
      "sample =  tensor([0])\n",
      "diff =  tensor(62662432., grad_fn=<SumBackward0>)\n",
      "step =  2\n",
      "sample =  tensor([2])\n",
      "diff =  tensor(1.2993e+08, grad_fn=<SumBackward0>)\n",
      "step =  3\n",
      "sample =  tensor([0])\n",
      "diff =  tensor(62622500., grad_fn=<SumBackward0>)\n",
      "step =  4\n",
      "sample =  tensor([2])\n",
      "diff =  tensor(1.2901e+08, grad_fn=<SumBackward0>)\n",
      "step =  5\n",
      "sample =  tensor([3])\n",
      "diff =  tensor(1.4214e+08, grad_fn=<SumBackward0>)\n",
      "step =  6\n",
      "sample =  tensor([0])\n",
      "diff =  tensor(62561728., grad_fn=<SumBackward0>)\n",
      "step =  7\n",
      "sample =  tensor([2])\n",
      "diff =  tensor(1.2730e+08, grad_fn=<SumBackward0>)\n",
      "step =  8\n",
      "sample =  tensor([2])\n",
      "diff =  tensor(1.2696e+08, grad_fn=<SumBackward0>)\n",
      "step =  9\n",
      "sample =  tensor([3])\n",
      "diff =  tensor(1.4186e+08, grad_fn=<SumBackward0>)\n",
      "step =  10\n",
      "sample =  tensor([3])\n",
      "diff =  tensor(1.4178e+08, grad_fn=<SumBackward0>)\n",
      "step =  11\n",
      "sample =  tensor([1])\n",
      "diff =  tensor(49693336., grad_fn=<SumBackward0>)\n",
      "step =  12\n",
      "sample =  tensor([1])\n",
      "diff =  tensor(49632608., grad_fn=<SumBackward0>)\n",
      "step =  13\n",
      "sample =  tensor([3])\n",
      "diff =  tensor(1.4152e+08, grad_fn=<SumBackward0>)\n",
      "step =  14\n",
      "sample =  tensor([3])\n",
      "diff =  tensor(1.4141e+08, grad_fn=<SumBackward0>)\n",
      "step =  15\n",
      "sample =  tensor([0])\n",
      "diff =  tensor(62413824., grad_fn=<SumBackward0>)\n",
      "step =  16\n",
      "sample =  tensor([0])\n",
      "diff =  tensor(62387328., grad_fn=<SumBackward0>)\n",
      "step =  17\n",
      "sample =  tensor([0])\n",
      "diff =  tensor(62348372., grad_fn=<SumBackward0>)\n",
      "step =  18\n",
      "sample =  tensor([0])\n",
      "diff =  tensor(62302576., grad_fn=<SumBackward0>)\n",
      "step =  19\n",
      "sample =  tensor([2])\n",
      "diff =  tensor(1.2952e+08, grad_fn=<SumBackward0>)\n",
      "step =  20\n",
      "sample =  tensor([0])\n",
      "diff =  tensor(62215832., grad_fn=<SumBackward0>)\n",
      "step =  21\n",
      "sample =  tensor([2])\n",
      "diff =  tensor(1.2840e+08, grad_fn=<SumBackward0>)\n",
      "step =  22\n",
      "sample =  tensor([2])\n",
      "diff =  tensor(1.2734e+08, grad_fn=<SumBackward0>)\n",
      "step =  23\n",
      "sample =  tensor([0])\n",
      "diff =  tensor(62115404., grad_fn=<SumBackward0>)\n",
      "step =  24\n",
      "sample =  tensor([2])\n",
      "diff =  tensor(1.2554e+08, grad_fn=<SumBackward0>)\n",
      "step =  25\n",
      "sample =  tensor([2])\n",
      "diff =  tensor(1.2518e+08, grad_fn=<SumBackward0>)\n",
      "step =  26\n",
      "sample =  tensor([3])\n",
      "diff =  tensor(1.4055e+08, grad_fn=<SumBackward0>)\n",
      "step =  27\n",
      "sample =  tensor([1])\n",
      "diff =  tensor(49096124., grad_fn=<SumBackward0>)\n",
      "step =  28\n",
      "sample =  tensor([0])\n",
      "diff =  tensor(61992028., grad_fn=<SumBackward0>)\n",
      "step =  29\n",
      "sample =  tensor([3])\n",
      "diff =  tensor(1.4040e+08, grad_fn=<SumBackward0>)\n",
      "step =  30\n",
      "sample =  tensor([3])\n",
      "diff =  tensor(1.4034e+08, grad_fn=<SumBackward0>)\n",
      "step =  31\n",
      "sample =  tensor([0])\n",
      "diff =  tensor(61936436., grad_fn=<SumBackward0>)\n",
      "step =  32\n",
      "sample =  tensor([1])\n",
      "diff =  tensor(48982996., grad_fn=<SumBackward0>)\n",
      "step =  33\n",
      "sample =  tensor([2])\n",
      "diff =  tensor(1.2812e+08, grad_fn=<SumBackward0>)\n",
      "step =  34\n",
      "sample =  tensor([2])\n",
      "diff =  tensor(1.2760e+08, grad_fn=<SumBackward0>)\n",
      "step =  35\n",
      "sample =  tensor([3])\n",
      "diff =  tensor(1.4002e+08, grad_fn=<SumBackward0>)\n",
      "step =  36\n",
      "sample =  tensor([3])\n",
      "diff =  tensor(1.3994e+08, grad_fn=<SumBackward0>)\n",
      "step =  37\n",
      "sample =  tensor([1])\n",
      "diff =  tensor(48967816., grad_fn=<SumBackward0>)\n",
      "step =  38\n",
      "sample =  tensor([2])\n",
      "diff =  tensor(1.2437e+08, grad_fn=<SumBackward0>)\n",
      "step =  39\n",
      "sample =  tensor([3])\n",
      "diff =  tensor(1.3968e+08, grad_fn=<SumBackward0>)\n",
      "step =  40\n",
      "sample =  tensor([1])\n",
      "diff =  tensor(48840960., grad_fn=<SumBackward0>)\n",
      "step =  41\n",
      "sample =  tensor([3])\n",
      "diff =  tensor(1.3951e+08, grad_fn=<SumBackward0>)\n",
      "step =  42\n",
      "sample =  tensor([0])\n",
      "diff =  tensor(61828652., grad_fn=<SumBackward0>)\n",
      "step =  43\n",
      "sample =  tensor([1])\n",
      "diff =  tensor(48630684., grad_fn=<SumBackward0>)\n",
      "step =  44\n",
      "sample =  tensor([3])\n",
      "diff =  tensor(1.3926e+08, grad_fn=<SumBackward0>)\n",
      "step =  45\n",
      "sample =  tensor([0])\n",
      "diff =  tensor(61780616., grad_fn=<SumBackward0>)\n",
      "step =  46\n",
      "sample =  tensor([3])\n",
      "diff =  tensor(1.3909e+08, grad_fn=<SumBackward0>)\n",
      "step =  47\n",
      "sample =  tensor([0])\n",
      "diff =  tensor(61740244., grad_fn=<SumBackward0>)\n",
      "step =  48\n",
      "sample =  tensor([1])\n",
      "diff =  tensor(48356124., grad_fn=<SumBackward0>)\n",
      "step =  49\n",
      "sample =  tensor([2])\n",
      "diff =  tensor(1.2707e+08, grad_fn=<SumBackward0>)\n",
      "step =  50\n",
      "sample =  tensor([3])\n",
      "diff =  tensor(1.3878e+08, grad_fn=<SumBackward0>)\n",
      "step =  51\n",
      "sample =  tensor([2])\n",
      "diff =  tensor(1.2611e+08, grad_fn=<SumBackward0>)\n",
      "step =  52\n",
      "sample =  tensor([2])\n",
      "diff =  tensor(1.2515e+08, grad_fn=<SumBackward0>)\n",
      "step =  53\n",
      "sample =  tensor([1])\n",
      "diff =  tensor(48172724., grad_fn=<SumBackward0>)\n",
      "step =  54\n",
      "sample =  tensor([3])\n",
      "diff =  tensor(1.3850e+08, grad_fn=<SumBackward0>)\n",
      "step =  55\n",
      "sample =  tensor([3])\n",
      "diff =  tensor(1.3842e+08, grad_fn=<SumBackward0>)\n",
      "step =  56\n",
      "sample =  tensor([2])\n",
      "diff =  tensor(1.2334e+08, grad_fn=<SumBackward0>)\n",
      "step =  57\n",
      "sample =  tensor([2])\n",
      "diff =  tensor(1.2345e+08, grad_fn=<SumBackward0>)\n",
      "step =  58\n",
      "sample =  tensor([3])\n",
      "diff =  tensor(1.3817e+08, grad_fn=<SumBackward0>)\n",
      "step =  59\n",
      "sample =  tensor([1])\n",
      "diff =  tensor(48031600., grad_fn=<SumBackward0>)\n",
      "step =  60\n",
      "sample =  tensor([3])\n",
      "diff =  tensor(1.3801e+08, grad_fn=<SumBackward0>)\n",
      "step =  61\n",
      "sample =  tensor([0])\n",
      "diff =  tensor(61606752., grad_fn=<SumBackward0>)\n",
      "step =  62\n",
      "sample =  tensor([1])\n",
      "diff =  tensor(47941612., grad_fn=<SumBackward0>)\n",
      "step =  63\n",
      "sample =  tensor([3])\n",
      "diff =  tensor(1.3778e+08, grad_fn=<SumBackward0>)\n",
      "step =  64\n",
      "sample =  tensor([2])\n",
      "diff =  tensor(1.2417e+08, grad_fn=<SumBackward0>)\n",
      "step =  65\n",
      "sample =  tensor([1])\n",
      "diff =  tensor(47817072., grad_fn=<SumBackward0>)\n",
      "step =  66\n",
      "sample =  tensor([3])\n",
      "diff =  tensor(1.3756e+08, grad_fn=<SumBackward0>)\n",
      "step =  67\n"
     ]
    }
   ],
   "source": [
    "steps = int(100)\n",
    "for s in range(steps):\n",
    "    print('step = ', s)\n",
    "    batch_samples_pf = torch.multinomial(torch.ones(trainingData.n_unsupervised_samples), model.batch_size_N_unsupervised)\n",
    "#     batch_samples_pc = torch.multinomial(torch.ones(trainingData.n_samples_out), model.batch_size_N_pc)\n",
    "    batch_samples_pcf = torch.multinomial(torch.ones(trainingData.n_supervised_samples), model.batch_size_N_supervised)\n",
    "    model.opt_latent_dist_step()\n",
    "    model.pf_step(batch_samples_pf)\n",
    "    model.pcf_step(batch_samples_pcf)\n",
    "#     model.pc_step(batch_samples_pc)\n",
    "    "
   ]
  },
  {
   "cell_type": "code",
   "execution_count": 12,
   "metadata": {},
   "outputs": [
    {
     "data": {
      "text/plain": [
       "array([ 53.24942671, 105.91572576, 158.84696312, 211.71958271,\n",
       "        53.05594236, 106.0977366 , 159.12522025, 211.76108684,\n",
       "       264.50919405, 106.09265139, 158.89392044, 211.5547029 ,\n",
       "       264.1299385 , 317.23180586, 158.90472958, 211.59141329,\n",
       "       264.53025464, 317.36284888, 370.22461768, 211.62851269,\n",
       "       264.42649461, 317.42541766, 370.17035072, 423.34344122])"
      ]
     },
     "execution_count": 12,
     "metadata": {},
     "output_type": "execute_result"
    }
   ],
   "source": [
    "model.rom.solution.array"
   ]
  },
  {
   "cell_type": "code",
   "execution_count": 13,
   "metadata": {},
   "outputs": [],
   "source": [
    "model.rom.set_full_solution()"
   ]
  },
  {
   "cell_type": "code",
   "execution_count": 14,
   "metadata": {},
   "outputs": [
    {
     "data": {
      "text/plain": [
       "array([  0.        ,  53.24942671, 105.91572576, 158.84696312,\n",
       "       211.71958271,  53.05594236, 106.0977366 , 159.12522025,\n",
       "       211.76108684, 264.50919405, 106.09265139, 158.89392044,\n",
       "       211.5547029 , 264.1299385 , 317.23180586, 158.90472958,\n",
       "       211.59141329, 264.53025464, 317.36284888, 370.22461768,\n",
       "       211.62851269, 264.42649461, 317.42541766, 370.17035072,\n",
       "       423.34344122])"
      ]
     },
     "execution_count": 14,
     "metadata": {},
     "output_type": "execute_result"
    }
   ],
   "source": [
    "model.rom.full_solution.array"
   ]
  },
  {
   "cell_type": "code",
   "execution_count": 17,
   "metadata": {},
   "outputs": [
    {
     "data": {
      "text/plain": [
       "array([  0.        ,   1.66404458,   3.32808917, ..., 420.02012307,\n",
       "       421.68178215, 423.34344122])"
      ]
     },
     "execution_count": 17,
     "metadata": {},
     "output_type": "execute_result"
    }
   ],
   "source": [
    "model.rom.interpolated_solution.array"
   ]
  },
  {
   "cell_type": "code",
   "execution_count": 19,
   "metadata": {},
   "outputs": [
    {
     "data": {
      "text/plain": [
       "<matplotlib.image.AxesImage at 0x7f4ef2ea7250>"
      ]
     },
     "execution_count": 19,
     "metadata": {},
     "output_type": "execute_result"
    }
   ],
   "source": [
    "plt.imshow(np.reshape(model.rom.interpolated_solution.array, (129, 129)))"
   ]
  },
  {
   "cell_type": "code",
   "execution_count": 20,
   "metadata": {
    "scrolled": true
   },
   "outputs": [
    {
     "data": {
      "text/plain": [
       "<matplotlib.colorbar.Colorbar at 0x7f4ef2532e50>"
      ]
     },
     "execution_count": 20,
     "metadata": {},
     "output_type": "execute_result"
    }
   ],
   "source": [
    "plt.colorbar()"
   ]
  },
  {
   "cell_type": "code",
   "execution_count": 21,
   "metadata": {},
   "outputs": [
    {
     "data": {
      "text/plain": [
       "<Figure size 640x480 with 0 Axes>"
      ]
     },
     "execution_count": 21,
     "metadata": {},
     "output_type": "execute_result"
    }
   ],
   "source": [
    "plt.figure()"
   ]
  },
  {
   "cell_type": "code",
   "execution_count": 22,
   "metadata": {},
   "outputs": [
    {
     "data": {
      "text/plain": [
       "<matplotlib.image.AxesImage at 0x7f4ef2523a50>"
      ]
     },
     "execution_count": 22,
     "metadata": {},
     "output_type": "execute_result"
    }
   ],
   "source": [
    "plt.imshow(torch.reshape(trainingData.P[0], (129, 129)))"
   ]
  },
  {
   "cell_type": "code",
   "execution_count": 23,
   "metadata": {},
   "outputs": [
    {
     "data": {
      "text/plain": [
       "<matplotlib.colorbar.Colorbar at 0x7f4ef2381e10>"
      ]
     },
     "execution_count": 23,
     "metadata": {},
     "output_type": "execute_result"
    }
   ],
   "source": [
    "plt.colorbar()"
   ]
  },
  {
   "cell_type": "code",
   "execution_count": 24,
   "metadata": {},
   "outputs": [
    {
     "data": {
      "text/plain": [
       "<Figure size 640x480 with 0 Axes>"
      ]
     },
     "execution_count": 24,
     "metadata": {},
     "output_type": "execute_result"
    }
   ],
   "source": [
    "plt.figure()"
   ]
  },
  {
   "cell_type": "code",
   "execution_count": 25,
   "metadata": {
    "scrolled": true
   },
   "outputs": [
    {
     "data": {
      "text/plain": [
       "<matplotlib.image.AxesImage at 0x7f4ef214b4d0>"
      ]
     },
     "execution_count": 25,
     "metadata": {},
     "output_type": "execute_result"
    }
   ],
   "source": [
    "plt.imshow(torch.reshape(trainingData.P[1], (129, 129)))"
   ]
  },
  {
   "cell_type": "code",
   "execution_count": 26,
   "metadata": {},
   "outputs": [
    {
     "data": {
      "text/plain": [
       "<matplotlib.colorbar.Colorbar at 0x7f4ef2176f90>"
      ]
     },
     "execution_count": 26,
     "metadata": {},
     "output_type": "execute_result"
    }
   ],
   "source": [
    "plt.colorbar()"
   ]
  },
  {
   "cell_type": "code",
   "execution_count": 27,
   "metadata": {},
   "outputs": [],
   "source": [
    "from mpl_toolkits.mplot3d import Axes3D  # noqa: F401 unused import\n",
    "from matplotlib import cm"
   ]
  },
  {
   "cell_type": "code",
   "execution_count": 28,
   "metadata": {},
   "outputs": [],
   "source": [
    "fig = plt.figure()\n",
    "ax = fig.gca(projection='3d')"
   ]
  },
  {
   "cell_type": "code",
   "execution_count": 29,
   "metadata": {
    "scrolled": true
   },
   "outputs": [],
   "source": [
    "X, Y = np.meshgrid(np.linspace(0, 1, 129), np.linspace(0, 1, 129))\n",
    "Z = torch.reshape(trainingData.P[1], (129, 129))\n",
    "surf = ax.plot_surface(X, Y, np.transpose(Z.detach().numpy()), cmap='inferno')"
   ]
  },
  {
   "cell_type": "code",
   "execution_count": 33,
   "metadata": {},
   "outputs": [],
   "source": [
    "Z2 = np.reshape(model.rom.interpolated_solution.array, (129, 129))\n",
    "surf2 = ax.plot_surface(X, Y, Z2)"
   ]
  },
  {
   "cell_type": "code",
   "execution_count": null,
   "metadata": {},
   "outputs": [],
   "source": []
  },
  {
   "cell_type": "code",
   "execution_count": null,
   "metadata": {},
   "outputs": [],
   "source": []
  }
 ],
 "metadata": {
  "kernelspec": {
   "display_name": "PyCharm (generative_DR_ROM)",
   "language": "python",
   "name": "pycharm-712517ba"
  },
  "language_info": {
   "codemirror_mode": {
    "name": "ipython",
    "version": 3
   },
   "file_extension": ".py",
   "mimetype": "text/x-python",
   "name": "python",
   "nbconvert_exporter": "python",
   "pygments_lexer": "ipython3",
   "version": "3.7.5"
  }
 },
 "nbformat": 4,
 "nbformat_minor": 2
}

{
 "cells": [
  {
   "cell_type": "code",
   "execution_count": 1,
   "metadata": {},
   "outputs": [],
   "source": [
    "from poisson_fem import PoissonFEM\n",
    "import ROM\n",
    "import GenerativeSurrogate as gs\n",
    "import Data as dta\n",
    "import numpy as np\n",
    "import scipy.sparse as sps\n",
    "import scipy.sparse.linalg as lg\n",
    "import time\n",
    "import petsc4py\n",
    "import sys\n",
    "petsc4py.init(sys.argv)\n",
    "from petsc4py import PETSc\n",
    "import torch\n",
    "from torch import optim"
   ]
  },
  {
   "cell_type": "code",
   "execution_count": 2,
   "metadata": {},
   "outputs": [],
   "source": [
    "# Some fixed parameters\n",
    "lin_dim_rom = 4                      # Linear number of rom elements\n",
    "a = np.array([1, 2, 3])              # Boundary condition function coefficients\n",
    "dim_z = 3                            # Latent space dimension\n",
    "dtype = torch.float                  # Tensor data type"
   ]
  },
  {
   "cell_type": "code",
   "execution_count": 3,
   "metadata": {},
   "outputs": [],
   "source": [
    "# Define mesh and boundary conditions\n",
    "mesh = PoissonFEM.RectangularMesh(np.ones(lin_dim_rom)/lin_dim_rom)\n",
    "# mesh.plot()\n",
    "\n",
    "def origin(x):\n",
    "    return np.abs(x[0]) < np.finfo(float).eps and np.abs(x[1]) < np.finfo(float).eps\n",
    "\n",
    "def essBoundaryFun(x):\n",
    "    return 0.0\n",
    "mesh.setEssentialBoundary(origin, essBoundaryFun)\n",
    "\n",
    "def domainBoundary(x):\n",
    "    # unit square\n",
    "    return np.abs(x[0]) < np.finfo(float).eps or np.abs(x[1]) < np.finfo(float).eps or \\\n",
    "            np.abs(x[0]) > 1.0 - np.finfo(float).eps or np.abs(x[1]) > 1.0 - np.finfo(float).eps\n",
    "mesh.setNaturalBoundary(domainBoundary)\n",
    "\n",
    "def flux(x):\n",
    "    q = np.array([a[0] + a[2]*x[1], a[1] + a[2]*x[0]])\n",
    "    return q"
   ]
  },
  {
   "cell_type": "code",
   "execution_count": 4,
   "metadata": {},
   "outputs": [],
   "source": [
    "#Spepify right hand side and stiffness matrix\n",
    "#Define boundary flux field\n",
    "rhs = PoissonFEM.RightHandSide(mesh)\n",
    "rhs.setNaturalRHS(mesh, flux)\n",
    "funSpace = PoissonFEM.FunctionSpace(mesh)\n",
    "K = PoissonFEM.StiffnessMatrix(mesh, funSpace)\n",
    "rhs.setRhsStencil(mesh, K)"
   ]
  },
  {
   "cell_type": "code",
   "execution_count": 5,
   "metadata": {},
   "outputs": [],
   "source": [
    "# Set up solver\n",
    "ksp = PETSc.KSP().create()\n",
    "ksp.setType('preonly')\n",
    "precond = ksp.getPC()\n",
    "precond.setType('cholesky')\n",
    "ksp.setFromOptions() #???"
   ]
  },
  {
   "cell_type": "code",
   "execution_count": 6,
   "metadata": {},
   "outputs": [],
   "source": [
    "# define rom\n",
    "rom = ROM.ROM(mesh, K, rhs, ksp)"
   ]
  },
  {
   "cell_type": "code",
   "execution_count": 7,
   "metadata": {},
   "outputs": [],
   "source": [
    "trainingData = dta.StokesData(range(16))\n",
    "trainingData.readData(['M'])\n",
    "trainingData.input2img()\n",
    "# trainingData.plotMicrostruct(1)"
   ]
  },
  {
   "cell_type": "code",
   "execution_count": 8,
   "metadata": {},
   "outputs": [],
   "source": [
    "model = gs.GenerativeSurrogate(rom, trainingData, dim_z)\n"
   ]
  },
  {
   "cell_type": "code",
   "execution_count": 9,
   "metadata": {},
   "outputs": [
    {
     "name": "stdout",
     "output_type": "stream",
     "text": [
      "loss =  tensor(196504.9375, grad_fn=<SubBackward0>)\n",
      "loss =  tensor(196290.9062, grad_fn=<SubBackward0>)\n",
      "loss =  tensor(196066.9375, grad_fn=<SubBackward0>)\n",
      "loss =  tensor(195854.2188, grad_fn=<SubBackward0>)\n",
      "loss =  tensor(195652.5469, grad_fn=<SubBackward0>)\n",
      "loss =  tensor(195432.4062, grad_fn=<SubBackward0>)\n",
      "loss =  tensor(195231.6094, grad_fn=<SubBackward0>)\n",
      "loss =  tensor(195012.2656, grad_fn=<SubBackward0>)\n",
      "loss =  tensor(194801.4531, grad_fn=<SubBackward0>)\n",
      "loss =  tensor(194594.3750, grad_fn=<SubBackward0>)\n",
      "loss =  tensor(194396.8906, grad_fn=<SubBackward0>)\n",
      "loss =  tensor(194182.9375, grad_fn=<SubBackward0>)\n",
      "loss =  tensor(193972.4062, grad_fn=<SubBackward0>)\n",
      "loss =  tensor(193771.4375, grad_fn=<SubBackward0>)\n",
      "loss =  tensor(193576.3125, grad_fn=<SubBackward0>)\n",
      "loss =  tensor(193355.3594, grad_fn=<SubBackward0>)\n",
      "loss =  tensor(193169.5000, grad_fn=<SubBackward0>)\n",
      "loss =  tensor(192964.4844, grad_fn=<SubBackward0>)\n",
      "loss =  tensor(192769.1875, grad_fn=<SubBackward0>)\n",
      "loss =  tensor(192580.6562, grad_fn=<SubBackward0>)\n",
      "loss =  tensor(192369.9688, grad_fn=<SubBackward0>)\n",
      "loss =  tensor(192179.1250, grad_fn=<SubBackward0>)\n",
      "loss =  tensor(191984.6875, grad_fn=<SubBackward0>)\n",
      "loss =  tensor(191790.5156, grad_fn=<SubBackward0>)\n",
      "loss =  tensor(191594.6875, grad_fn=<SubBackward0>)\n",
      "loss =  tensor(191413.4688, grad_fn=<SubBackward0>)\n",
      "loss =  tensor(191217.9375, grad_fn=<SubBackward0>)\n",
      "loss =  tensor(191030.2812, grad_fn=<SubBackward0>)\n",
      "loss =  tensor(190843.3906, grad_fn=<SubBackward0>)\n",
      "loss =  tensor(190663.9531, grad_fn=<SubBackward0>)\n",
      "loss =  tensor(190474.5000, grad_fn=<SubBackward0>)\n",
      "loss =  tensor(190291.0312, grad_fn=<SubBackward0>)\n",
      "loss =  tensor(190100.5781, grad_fn=<SubBackward0>)\n",
      "loss =  tensor(189932.1719, grad_fn=<SubBackward0>)\n",
      "loss =  tensor(189744.0625, grad_fn=<SubBackward0>)\n",
      "loss =  tensor(189566.6719, grad_fn=<SubBackward0>)\n",
      "loss =  tensor(189386.4531, grad_fn=<SubBackward0>)\n",
      "loss =  tensor(189211.7344, grad_fn=<SubBackward0>)\n",
      "loss =  tensor(189040.2500, grad_fn=<SubBackward0>)\n",
      "loss =  tensor(188854.8594, grad_fn=<SubBackward0>)\n",
      "loss =  tensor(188683., grad_fn=<SubBackward0>)\n",
      "loss =  tensor(188512.2969, grad_fn=<SubBackward0>)\n",
      "loss =  tensor(188339.6875, grad_fn=<SubBackward0>)\n",
      "loss =  tensor(188166.1875, grad_fn=<SubBackward0>)\n",
      "loss =  tensor(187998.6250, grad_fn=<SubBackward0>)\n",
      "loss =  tensor(187830.4375, grad_fn=<SubBackward0>)\n",
      "loss =  tensor(187654.6406, grad_fn=<SubBackward0>)\n",
      "loss =  tensor(187497.3438, grad_fn=<SubBackward0>)\n",
      "loss =  tensor(187326.3906, grad_fn=<SubBackward0>)\n",
      "loss =  tensor(187160.0938, grad_fn=<SubBackward0>)\n",
      "loss =  tensor(187005.2969, grad_fn=<SubBackward0>)\n",
      "loss =  tensor(186841.8281, grad_fn=<SubBackward0>)\n",
      "loss =  tensor(186680.9531, grad_fn=<SubBackward0>)\n",
      "loss =  tensor(186519.2500, grad_fn=<SubBackward0>)\n",
      "loss =  tensor(186357.4062, grad_fn=<SubBackward0>)\n",
      "loss =  tensor(186195.6562, grad_fn=<SubBackward0>)\n",
      "loss =  tensor(186034.5781, grad_fn=<SubBackward0>)\n",
      "loss =  tensor(185887.1250, grad_fn=<SubBackward0>)\n",
      "loss =  tensor(185728.4062, grad_fn=<SubBackward0>)\n",
      "loss =  tensor(185569.5938, grad_fn=<SubBackward0>)\n",
      "loss =  tensor(185411.6719, grad_fn=<SubBackward0>)\n",
      "loss =  tensor(185256.5469, grad_fn=<SubBackward0>)\n",
      "loss =  tensor(185108.8281, grad_fn=<SubBackward0>)\n",
      "loss =  tensor(184952.0781, grad_fn=<SubBackward0>)\n",
      "loss =  tensor(184806.2188, grad_fn=<SubBackward0>)\n",
      "loss =  tensor(184647.3125, grad_fn=<SubBackward0>)\n",
      "loss =  tensor(184502.5469, grad_fn=<SubBackward0>)\n",
      "loss =  tensor(184351.4375, grad_fn=<SubBackward0>)\n",
      "loss =  tensor(184197.9844, grad_fn=<SubBackward0>)\n",
      "loss =  tensor(184058.9531, grad_fn=<SubBackward0>)\n",
      "loss =  tensor(183899.7188, grad_fn=<SubBackward0>)\n",
      "loss =  tensor(183757.2344, grad_fn=<SubBackward0>)\n",
      "loss =  tensor(183612.1875, grad_fn=<SubBackward0>)\n",
      "loss =  tensor(183471.6250, grad_fn=<SubBackward0>)\n",
      "loss =  tensor(183323.2500, grad_fn=<SubBackward0>)\n",
      "loss =  tensor(183185.3438, grad_fn=<SubBackward0>)\n",
      "loss =  tensor(183036.9219, grad_fn=<SubBackward0>)\n",
      "loss =  tensor(182893.8438, grad_fn=<SubBackward0>)\n",
      "loss =  tensor(182747.9062, grad_fn=<SubBackward0>)\n",
      "loss =  tensor(182610.5625, grad_fn=<SubBackward0>)\n",
      "loss =  tensor(182468.5000, grad_fn=<SubBackward0>)\n",
      "loss =  tensor(182333.4375, grad_fn=<SubBackward0>)\n",
      "loss =  tensor(182188.7500, grad_fn=<SubBackward0>)\n",
      "loss =  tensor(182053.6406, grad_fn=<SubBackward0>)\n",
      "loss =  tensor(181917.3750, grad_fn=<SubBackward0>)\n",
      "loss =  tensor(181778.2812, grad_fn=<SubBackward0>)\n",
      "loss =  tensor(181637.6250, grad_fn=<SubBackward0>)\n",
      "loss =  tensor(181501.6094, grad_fn=<SubBackward0>)\n",
      "loss =  tensor(181366.3125, grad_fn=<SubBackward0>)\n",
      "loss =  tensor(181232.4531, grad_fn=<SubBackward0>)\n",
      "loss =  tensor(181095.2812, grad_fn=<SubBackward0>)\n",
      "loss =  tensor(180959.7188, grad_fn=<SubBackward0>)\n",
      "loss =  tensor(180822.6094, grad_fn=<SubBackward0>)\n",
      "loss =  tensor(180691.9531, grad_fn=<SubBackward0>)\n",
      "loss =  tensor(180556.7656, grad_fn=<SubBackward0>)\n",
      "loss =  tensor(180424.6406, grad_fn=<SubBackward0>)\n",
      "loss =  tensor(180291.2344, grad_fn=<SubBackward0>)\n",
      "loss =  tensor(180164.8438, grad_fn=<SubBackward0>)\n",
      "loss =  tensor(180029.7188, grad_fn=<SubBackward0>)\n",
      "loss =  tensor(179892.6094, grad_fn=<SubBackward0>)\n"
     ]
    }
   ],
   "source": [
    "for n in range(100):\n",
    "    model.pfStep()"
   ]
  },
  {
   "cell_type": "code",
   "execution_count": null,
   "metadata": {},
   "outputs": [],
   "source": []
  },
  {
   "cell_type": "code",
   "execution_count": null,
   "metadata": {},
   "outputs": [],
   "source": []
  },
  {
   "cell_type": "code",
   "execution_count": null,
   "metadata": {},
   "outputs": [],
   "source": []
  },
  {
   "cell_type": "code",
   "execution_count": null,
   "metadata": {},
   "outputs": [],
   "source": []
  },
  {
   "cell_type": "code",
   "execution_count": null,
   "metadata": {},
   "outputs": [],
   "source": []
  },
  {
   "cell_type": "code",
   "execution_count": null,
   "metadata": {},
   "outputs": [],
   "source": []
  },
  {
   "cell_type": "code",
   "execution_count": null,
   "metadata": {},
   "outputs": [],
   "source": []
  },
  {
   "cell_type": "code",
   "execution_count": null,
   "metadata": {},
   "outputs": [],
   "source": []
  },
  {
   "cell_type": "code",
   "execution_count": null,
   "metadata": {},
   "outputs": [],
   "source": []
  },
  {
   "cell_type": "code",
   "execution_count": null,
   "metadata": {},
   "outputs": [],
   "source": []
  },
  {
   "cell_type": "code",
   "execution_count": null,
   "metadata": {},
   "outputs": [],
   "source": []
  },
  {
   "cell_type": "code",
   "execution_count": null,
   "metadata": {},
   "outputs": [],
   "source": []
  },
  {
   "cell_type": "code",
   "execution_count": null,
   "metadata": {},
   "outputs": [],
   "source": []
  },
  {
   "cell_type": "code",
   "execution_count": null,
   "metadata": {},
   "outputs": [],
   "source": []
  },
  {
   "cell_type": "code",
   "execution_count": null,
   "metadata": {},
   "outputs": [],
   "source": []
  },
  {
   "cell_type": "code",
   "execution_count": null,
   "metadata": {},
   "outputs": [],
   "source": []
  },
  {
   "cell_type": "code",
   "execution_count": null,
   "metadata": {},
   "outputs": [],
   "source": []
  },
  {
   "cell_type": "code",
   "execution_count": null,
   "metadata": {},
   "outputs": [],
   "source": []
  },
  {
   "cell_type": "code",
   "execution_count": null,
   "metadata": {},
   "outputs": [],
   "source": []
  },
  {
   "cell_type": "code",
   "execution_count": null,
   "metadata": {},
   "outputs": [],
   "source": []
  },
  {
   "cell_type": "code",
   "execution_count": null,
   "metadata": {},
   "outputs": [],
   "source": []
  },
  {
   "cell_type": "code",
   "execution_count": null,
   "metadata": {},
   "outputs": [],
   "source": []
  },
  {
   "cell_type": "code",
   "execution_count": null,
   "metadata": {},
   "outputs": [],
   "source": []
  },
  {
   "cell_type": "code",
   "execution_count": null,
   "metadata": {},
   "outputs": [],
   "source": []
  },
  {
   "cell_type": "code",
   "execution_count": null,
   "metadata": {},
   "outputs": [],
   "source": []
  },
  {
   "cell_type": "code",
   "execution_count": null,
   "metadata": {},
   "outputs": [],
   "source": []
  },
  {
   "cell_type": "code",
   "execution_count": null,
   "metadata": {},
   "outputs": [],
   "source": []
  },
  {
   "cell_type": "code",
   "execution_count": null,
   "metadata": {},
   "outputs": [],
   "source": []
  },
  {
   "cell_type": "code",
   "execution_count": null,
   "metadata": {},
   "outputs": [],
   "source": []
  },
  {
   "cell_type": "code",
   "execution_count": null,
   "metadata": {},
   "outputs": [],
   "source": []
  },
  {
   "cell_type": "code",
   "execution_count": null,
   "metadata": {},
   "outputs": [],
   "source": []
  },
  {
   "cell_type": "code",
   "execution_count": null,
   "metadata": {},
   "outputs": [],
   "source": []
  },
  {
   "cell_type": "code",
   "execution_count": null,
   "metadata": {},
   "outputs": [],
   "source": []
  },
  {
   "cell_type": "code",
   "execution_count": null,
   "metadata": {},
   "outputs": [],
   "source": []
  },
  {
   "cell_type": "code",
   "execution_count": null,
   "metadata": {},
   "outputs": [],
   "source": []
  },
  {
   "cell_type": "code",
   "execution_count": null,
   "metadata": {},
   "outputs": [],
   "source": []
  },
  {
   "cell_type": "code",
   "execution_count": null,
   "metadata": {},
   "outputs": [],
   "source": []
  },
  {
   "cell_type": "code",
   "execution_count": null,
   "metadata": {},
   "outputs": [],
   "source": []
  },
  {
   "cell_type": "code",
   "execution_count": null,
   "metadata": {},
   "outputs": [],
   "source": []
  },
  {
   "cell_type": "code",
   "execution_count": null,
   "metadata": {},
   "outputs": [],
   "source": []
  },
  {
   "cell_type": "code",
   "execution_count": null,
   "metadata": {},
   "outputs": [],
   "source": []
  },
  {
   "cell_type": "code",
   "execution_count": null,
   "metadata": {},
   "outputs": [],
   "source": []
  },
  {
   "cell_type": "code",
   "execution_count": null,
   "metadata": {},
   "outputs": [],
   "source": []
  }
 ],
 "metadata": {
  "kernelspec": {
   "display_name": "PyCharm (generative_DR_ROM)",
   "language": "python",
   "name": "pycharm-712517ba"
  },
  "language_info": {
   "codemirror_mode": {
    "name": "ipython",
    "version": 3
   },
   "file_extension": ".py",
   "mimetype": "text/x-python",
   "name": "python",
   "nbconvert_exporter": "python",
   "pygments_lexer": "ipython3",
   "version": "3.7.5"
  }
 },
 "nbformat": 4,
 "nbformat_minor": 2
}

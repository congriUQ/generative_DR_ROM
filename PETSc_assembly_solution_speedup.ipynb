{
 "cells": [
  {
   "cell_type": "code",
   "execution_count": 1,
   "metadata": {},
   "outputs": [],
   "source": [
    "from poisson_fem.mesh import PoissonFEM\n",
    "import numpy as np\n",
    "import scipy.sparse as sps\n",
    "import scipy.sparse.linalg as lg\n",
    "import time\n",
    "import petsc4py\n",
    "import sys\n",
    "petsc4py.init(sys.argv)\n",
    "from petsc4py import PETSc"
   ]
  },
  {
   "cell_type": "code",
   "execution_count": 2,
   "metadata": {},
   "outputs": [],
   "source": [
    "mesh = PoissonFEM.RectangularMesh(np.ones(16)/16)\n",
    "# mesh.plot()"
   ]
  },
  {
   "cell_type": "code",
   "execution_count": 3,
   "metadata": {},
   "outputs": [],
   "source": [
    "def origin(x):\n",
    "    return np.abs(x[0]) < np.finfo(float).eps and np.abs(x[1]) < np.finfo(float).eps\n",
    "mesh.setEssentialBoundary(origin)"
   ]
  },
  {
   "cell_type": "code",
   "execution_count": 4,
   "metadata": {
    "scrolled": true
   },
   "outputs": [
    {
     "name": "stdout",
     "output_type": "stream",
     "text": [
      "indptr =  [   0    5   11   17   23   29   35   41   47   53   59   65   71   77\n",
      "   83   89   93   98  106  115  124  133  142  151  160  169  178  187\n",
      "  196  205  214  223  232  238  244  253  262  271  280  289  298  307\n",
      "  316  325  334  343  352  361  370  379  385  391  400  409  418  427\n",
      "  436  445  454  463  472  481  490  499  508  517  526  532  538  547\n",
      "  556  565  574  583  592  601  610  619  628  637  646  655  664  673\n",
      "  679  685  694  703  712  721  730  739  748  757  766  775  784  793\n",
      "  802  811  820  826  832  841  850  859  868  877  886  895  904  913\n",
      "  922  931  940  949  958  967  973  979  988  997 1006 1015 1024 1033\n",
      " 1042 1051 1060 1069 1078 1087 1096 1105 1114 1120 1126 1135 1144 1153\n",
      " 1162 1171 1180 1189 1198 1207 1216 1225 1234 1243 1252 1261 1267 1273\n",
      " 1282 1291 1300 1309 1318 1327 1336 1345 1354 1363 1372 1381 1390 1399\n",
      " 1408 1414 1420 1429 1438 1447 1456 1465 1474 1483 1492 1501 1510 1519\n",
      " 1528 1537 1546 1555 1561 1567 1576 1585 1594 1603 1612 1621 1630 1639\n",
      " 1648 1657 1666 1675 1684 1693 1702 1708 1714 1723 1732 1741 1750 1759\n",
      " 1768 1777 1786 1795 1804 1813 1822 1831 1840 1849 1855 1861 1870 1879\n",
      " 1888 1897 1906 1915 1924 1933 1942 1951 1960 1969 1978 1987 1996 2002\n",
      " 2008 2017 2026 2035 2044 2053 2062 2071 2080 2089 2098 2107 2116 2125\n",
      " 2134 2143 2149 2155 2164 2173 2182 2191 2200 2209 2218 2227 2236 2245\n",
      " 2254 2263 2272 2281 2290 2296 2300 2306 2312 2318 2324 2330 2336 2342\n",
      " 2348 2354 2360 2366 2372 2378 2384 2390 2394]\n",
      "indice =  [  0   1  16 ... 270 286 287]\n"
     ]
    }
   ],
   "source": [
    "# Precomputations\n",
    "Ke = mesh.compGlobStiffStencil()\n",
    "K0 = PETSc.Mat().createAIJ(size=(mesh.nEq, mesh.nEq), nnz=2394)\n",
    "lmbda = PETSc.Vec().createSeq(mesh.nCells)\n",
    "Kvec = PETSc.Vec().createSeq(mesh.nEq**2)\n",
    "x = PETSc.Vec().createSeq(mesh.nEq)\n",
    "rhs = PETSc.Vec().createSeq(mesh.nEq)\n",
    "\n",
    "# Get sparsity pattern of stiffness matrix vector\n",
    "lmbda.setValues(range(mesh.nCells), np.ones(mesh.nCells))\n",
    "Ke.mult(lmbda, Kvec)\n",
    "nonzero_K = np.nonzero(Kvec.array)\n",
    "Ktmp = sps.csr_matrix(np.reshape(Kvec.array, (mesh.nEq, mesh.nEq), order='F'))\n",
    "indptr = Ktmp.indptr.copy()\n",
    "print('indptr = ', indptr)\n",
    "indices = Ktmp.indices.copy()\n",
    "print('indice = ', indices)\n",
    "\n",
    "# Set up solver\n",
    "ksp = PETSc.KSP().create()\n",
    "ksp.setType('preonly')\n",
    "pc = ksp.getPC()\n",
    "pc.setType('cholesky')\n",
    "ksp.setFromOptions() #???\n",
    "\n",
    "# for scipy comparison\n",
    "Kes = Ke.getValuesCSR()\n",
    "Kes = sps.csr_matrix((Kes[2], Kes[1], Kes[0]))"
   ]
  },
  {
   "cell_type": "code",
   "execution_count": 5,
   "metadata": {},
   "outputs": [],
   "source": [
    "N = 1e3"
   ]
  },
  {
   "cell_type": "code",
   "execution_count": 6,
   "metadata": {},
   "outputs": [
    {
     "name": "stdout",
     "output_type": "stream",
     "text": [
      "PETSc time =  0.0002727508544921875\n"
     ]
    }
   ],
   "source": [
    "start = time.time()\n",
    "for n in range(int(N)):\n",
    "    # Stiffness matrix assembly, lmbda = [1, 1, ..., 1]\n",
    "    lmbda.setValues(range(mesh.nCells), np.ones(mesh.nCells))\n",
    "    rhs.setValues(range(mesh.nEq), np.ones(mesh.nEq))\n",
    "    Ke.mult(lmbda, Kvec)\n",
    "#     K = sps.csr_matrix(np.reshape(Kvec.array, (mesh.nEq, mesh.nEq), order='F'))\n",
    "    K0.setValuesCSR(indptr, indices, Kvec.getValues(nonzero_K))\n",
    "    K0.assemblyBegin()\n",
    "    K0.assemblyEnd()\n",
    "\n",
    "    # solving\n",
    "    ksp.setOperators(K0)\n",
    "    ksp.solve(rhs, x)\n",
    "petsc_time = (time.time() - start)/N\n",
    "print('PETSc time = ', petsc_time)"
   ]
  },
  {
   "cell_type": "code",
   "execution_count": 7,
   "metadata": {},
   "outputs": [
    {
     "name": "stdout",
     "output_type": "stream",
     "text": [
      "scipy time =  0.00097763991355896\n"
     ]
    }
   ],
   "source": [
    "start = time.time()\n",
    "for n in range(int(N)):\n",
    "    Kvecs = Kes @ np.ones(mesh.nCells)\n",
    "#     K1 = sps.csr_matrix(np.reshape(Kvecs, (mesh.nEq, mesh.nEq), order='F'))\n",
    "    K1 = sps.csr_matrix((Kvecs[nonzero_K], indices, indptr))\n",
    "    x1 = lg.spsolve(K1, np.ones(mesh.nEq))\n",
    "scipy_time = (time.time() - start)/N\n",
    "print('scipy time = ', scipy_time)"
   ]
  },
  {
   "cell_type": "code",
   "execution_count": 8,
   "metadata": {},
   "outputs": [
    {
     "name": "stdout",
     "output_type": "stream",
     "text": [
      "result difference =  5.032371223168723e-14\n",
      "PETSc speedup =  3.5843697552447553\n"
     ]
    }
   ],
   "source": [
    "diff = np.linalg.norm(x.array - x1)/np.linalg.norm(x1)\n",
    "print('result difference = ', diff)\n",
    "print('PETSc speedup = ', scipy_time/petsc_time)"
   ]
  },
  {
   "cell_type": "code",
   "execution_count": null,
   "metadata": {},
   "outputs": [],
   "source": []
  },
  {
   "cell_type": "code",
   "execution_count": null,
   "metadata": {},
   "outputs": [],
   "source": []
  },
  {
   "cell_type": "code",
   "execution_count": null,
   "metadata": {},
   "outputs": [],
   "source": []
  },
  {
   "cell_type": "code",
   "execution_count": null,
   "metadata": {},
   "outputs": [],
   "source": []
  }
 ],
 "metadata": {
  "kernelspec": {
   "display_name": "PyCharm (generative_DR_ROM)",
   "language": "python",
   "name": "pycharm-712517ba"
  },
  "language_info": {
   "codemirror_mode": {
    "name": "ipython",
    "version": 3
   },
   "file_extension": ".py",
   "mimetype": "text/x-python",
   "name": "python",
   "nbconvert_exporter": "python",
   "pygments_lexer": "ipython3",
   "version": "3.7.5"
  }
 },
 "nbformat": 4,
 "nbformat_minor": 2
}

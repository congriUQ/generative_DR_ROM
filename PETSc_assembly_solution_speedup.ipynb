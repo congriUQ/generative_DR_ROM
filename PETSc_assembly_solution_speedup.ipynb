{
 "cells": [
  {
   "cell_type": "code",
   "execution_count": 1,
   "metadata": {},
   "outputs": [],
   "source": [
    "from poisson_fem import PoissonFEM\n",
    "import ROM\n",
    "import numpy as np\n",
    "import scipy.sparse as sps\n",
    "import scipy.sparse.linalg as lg\n",
    "import time\n",
    "import petsc4py\n",
    "import sys\n",
    "petsc4py.init(sys.argv)\n",
    "from petsc4py import PETSc"
   ]
  },
  {
   "cell_type": "code",
   "execution_count": 2,
   "metadata": {},
   "outputs": [],
   "source": [
    "lin_dim_rom = 16\n",
    "mesh = PoissonFEM.RectangularMesh(np.ones(lin_dim_rom)/lin_dim_rom)\n",
    "# mesh.plot()"
   ]
  },
  {
   "cell_type": "code",
   "execution_count": 3,
   "metadata": {},
   "outputs": [],
   "source": [
    "def origin(x):\n",
    "    return np.abs(x[0]) < np.finfo(float).eps and np.abs(x[1]) < np.finfo(float).eps\n",
    "def essBoundaryFun(x):\n",
    "    return 1.0\n",
    "mesh.setEssentialBoundary(origin, essBoundaryFun)"
   ]
  },
  {
   "cell_type": "code",
   "execution_count": 4,
   "metadata": {},
   "outputs": [],
   "source": [
    "def domainBoundary(x):\n",
    "    # unit square\n",
    "    return np.abs(x[0]) < np.finfo(float).eps or np.abs(x[1]) < np.finfo(float).eps or \\\n",
    "            np.abs(x[0]) > 1.0 - np.finfo(float).eps or np.abs(x[1]) > 1.0 - np.finfo(float).eps\n",
    "mesh.setNaturalBoundary(domainBoundary)"
   ]
  },
  {
   "cell_type": "code",
   "execution_count": 5,
   "metadata": {},
   "outputs": [],
   "source": [
    "#Define boundary flux field\n",
    "def flux(x):\n",
    "    a = np.array([1, 2, 3])\n",
    "    q = np.array([a[0] + a[2]*x[1], a[1] + a[2]*x[0]])\n",
    "    return q"
   ]
  },
  {
   "cell_type": "code",
   "execution_count": 6,
   "metadata": {},
   "outputs": [],
   "source": [
    "rhs = PoissonFEM.RightHandSide(mesh)\n",
    "rhs.setNaturalRHS(mesh, flux)"
   ]
  },
  {
   "cell_type": "code",
   "execution_count": 7,
   "metadata": {},
   "outputs": [],
   "source": [
    "# Set up solver\n",
    "ksp = PETSc.KSP().create()\n",
    "ksp.setType('preonly')\n",
    "pc = ksp.getPC()\n",
    "pc.setType('cholesky')\n",
    "ksp.setFromOptions() #???"
   ]
  },
  {
   "cell_type": "code",
   "execution_count": 8,
   "metadata": {},
   "outputs": [],
   "source": [
    "funSpace = PoissonFEM.FunctionSpace(mesh)\n",
    "K = PoissonFEM.StiffnessMatrix(mesh, funSpace, ksp)"
   ]
  },
  {
   "cell_type": "code",
   "execution_count": 9,
   "metadata": {},
   "outputs": [],
   "source": [
    "rhs.setRhsStencil(mesh, K)"
   ]
  },
  {
   "cell_type": "code",
   "execution_count": 10,
   "metadata": {},
   "outputs": [],
   "source": [
    "# Preallocate\n",
    "x = PETSc.Vec().createSeq(mesh.nEq)"
   ]
  },
  {
   "cell_type": "code",
   "execution_count": 11,
   "metadata": {},
   "outputs": [],
   "source": [
    "# define rom\n",
    "rom = ROM.ROM(mesh, K, rhs)"
   ]
  },
  {
   "cell_type": "code",
   "execution_count": 12,
   "metadata": {},
   "outputs": [],
   "source": [
    "N = 1e4"
   ]
  },
  {
   "cell_type": "code",
   "execution_count": 13,
   "metadata": {},
   "outputs": [
    {
     "name": "stdout",
     "output_type": "stream",
     "text": [
      "PETSc time =  0.0002430138111114502\n"
     ]
    }
   ],
   "source": [
    "lmbda = PETSc.Vec().createSeq(mesh.nCells)\n",
    "start = time.time()\n",
    "for n in range(int(N)):\n",
    "    lmbda.setValues(range(mesh.nCells), np.ones(lin_dim_rom**2))\n",
    "    \n",
    "    # solve implies stiffness/ rhs assembly and solution\n",
    "    rom.solve(lmbda)\n",
    "petsc_time = (time.time() - start)/N\n",
    "print('PETSc time = ', petsc_time)"
   ]
  },
  {
   "cell_type": "code",
   "execution_count": 14,
   "metadata": {},
   "outputs": [],
   "source": [
    "# for scipy comparison\n",
    "Kes = K.globStiffStencil.getValuesCSR()\n",
    "Kes = sps.csr_matrix((Kes[2], Kes[1], Kes[0]))"
   ]
  },
  {
   "cell_type": "code",
   "execution_count": 15,
   "metadata": {},
   "outputs": [
    {
     "name": "stdout",
     "output_type": "stream",
     "text": [
      "scipy time =  0.0009657128810882568\n"
     ]
    }
   ],
   "source": [
    "start = time.time()\n",
    "for n in range(int(N)):\n",
    "    Kvecs = Kes @ lmbda.array\n",
    "    K1 = sps.csr_matrix((Kvecs[K.vec_nonzero], K.indices, K.indptr))\n",
    "    rhs.assemble(lmbda)   # for fair comparison\n",
    "    x1 = lg.spsolve(K1, rhs.vector.array)\n",
    "scipy_time = (time.time() - start)/N\n",
    "print('scipy time = ', scipy_time)"
   ]
  },
  {
   "cell_type": "code",
   "execution_count": 16,
   "metadata": {},
   "outputs": [
    {
     "name": "stdout",
     "output_type": "stream",
     "text": [
      "result difference =  4.734148133499661e-14\n",
      "PETSc speedup =  3.973901222615552\n"
     ]
    }
   ],
   "source": [
    "diff = np.linalg.norm(rom.solution.array - x1)/np.linalg.norm(x1)\n",
    "print('result difference = ', diff)\n",
    "print('PETSc speedup = ', scipy_time/petsc_time)"
   ]
  },
  {
   "cell_type": "code",
   "execution_count": 17,
   "metadata": {},
   "outputs": [
    {
     "data": {
      "image/png": "[encoded data removed]",
      "text/plain": [
       "<Figure size 432x288 with 1 Axes>"
      ]
     },
     "metadata": {
      "needs_background": "light"
     },
     "output_type": "display_data"
    }
   ],
   "source": [
    "# plot\n",
    "rom.plotSolution()"
   ]
  },
  {
   "cell_type": "code",
   "execution_count": 18,
   "metadata": {},
   "outputs": [
    {
     "name": "stdout",
     "output_type": "stream",
     "text": [
      "Adjoint time =  1.0555148124694825e-05\n"
     ]
    }
   ],
   "source": [
    "start = time.time()\n",
    "for n in range(int(N)):    \n",
    "    # solveAdjoint implies adjoint solution only. No assembly implied!!\n",
    "    rom.solveAdjoint(rom.rhs.vector)\n",
    "adjoint_time = (time.time() - start)/N\n",
    "print('Adjoint time = ', adjoint_time)"
   ]
  },
  {
   "cell_type": "code",
   "execution_count": 19,
   "metadata": {},
   "outputs": [
    {
     "name": "stdout",
     "output_type": "stream",
     "text": [
      "Adjoint difference ==  0.0\n"
     ]
    }
   ],
   "source": [
    "diff = np.linalg.norm(rom.adjointSolution.array - rom.solution.array)/\\\n",
    "        np.linalg.norm(rom.solution.array)   # needs to be 0 if K is symmetric\n",
    "print('Adjoint difference == ', diff)"
   ]
  },
  {
   "cell_type": "code",
   "execution_count": 20,
   "metadata": {},
   "outputs": [],
   "source": [
    "rhsAdj = PETSc.Vec().createSeq(rom.mesh.nEq)\n",
    "rhsAdj.setValues(range(rom.mesh.nEq), np.arange(1.0, rom.mesh.nEq + 1))\n",
    "rom.solveAdjoint(rhsAdj)"
   ]
  },
  {
   "cell_type": "code",
   "execution_count": 21,
   "metadata": {},
   "outputs": [
    {
     "name": "stdout",
     "output_type": "stream",
     "text": [
      "Assembly time =  0.00012413864135742188\n"
     ]
    }
   ],
   "source": [
    "#assembly only\n",
    "start = time.time()\n",
    "for n in range(int(N)):    \n",
    "    rom.stiffnessMatrix.assemble(lmbda)\n",
    "assemble_time = (time.time() - start)/N\n",
    "print('Assembly time = ', assemble_time)"
   ]
  },
  {
   "cell_type": "code",
   "execution_count": 22,
   "metadata": {},
   "outputs": [
    {
     "name": "stdout",
     "output_type": "stream",
     "text": [
      "setOperator time =  2.6199817657470703e-07\n"
     ]
    }
   ],
   "source": [
    "#setOperators only\n",
    "start = time.time()\n",
    "for n in range(int(N)):    \n",
    "    rom.stiffnessMatrix.solver.setOperators(rom.stiffnessMatrix.matrix)\n",
    "setOperator_time = (time.time() - start)/N\n",
    "print('setOperator time = ', setOperator_time)"
   ]
  },
  {
   "cell_type": "code",
   "execution_count": null,
   "metadata": {},
   "outputs": [],
   "source": []
  },
  {
   "cell_type": "code",
   "execution_count": null,
   "metadata": {},
   "outputs": [],
   "source": []
  }
 ],
 "metadata": {
  "kernelspec": {
   "display_name": "PyCharm (generative_DR_ROM)",
   "language": "python",
   "name": "pycharm-712517ba"
  },
  "language_info": {
   "codemirror_mode": {
    "name": "ipython",
    "version": 3
   },
   "file_extension": ".py",
   "mimetype": "text/x-python",
   "name": "python",
   "nbconvert_exporter": "python",
   "pygments_lexer": "ipython3",
   "version": "3.7.5"
  }
 },
 "nbformat": 4,
 "nbformat_minor": 2
}

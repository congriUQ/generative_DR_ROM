{
 "cells": [
  {
   "cell_type": "code",
   "execution_count": 1,
   "metadata": {},
   "outputs": [],
   "source": [
    "from poisson_fem.mesh import PoissonFEM\n",
    "import numpy as np\n",
    "import scipy.sparse as sps\n",
    "import scipy.sparse.linalg as lg\n",
    "import time\n",
    "import petsc4py\n",
    "import sys\n",
    "petsc4py.init(sys.argv)\n",
    "from petsc4py import PETSc"
   ]
  },
  {
   "cell_type": "code",
   "execution_count": 2,
   "metadata": {},
   "outputs": [],
   "source": [
    "mesh = PoissonFEM.RectangularMesh(np.ones(16)/16)\n",
    "# mesh.plot()"
   ]
  },
  {
   "cell_type": "code",
   "execution_count": 3,
   "metadata": {},
   "outputs": [],
   "source": [
    "def origin(x):\n",
    "    return np.abs(x[0]) < np.finfo(float).eps and np.abs(x[1]) < np.finfo(float).eps\n",
    "mesh.setEssentialBoundary(origin)"
   ]
  },
  {
   "cell_type": "code",
   "execution_count": 4,
   "metadata": {
    "scrolled": true
   },
   "outputs": [],
   "source": [
    "# Precomputations\n",
    "Ke = mesh.compGlobStiffStencil()\n",
    "K0 = PETSc.Mat().createAIJ(size=(mesh.nEq, mesh.nEq), nnz=2394)\n",
    "lmbda = PETSc.Vec().createSeq(mesh.nCells)\n",
    "Kvec = PETSc.Vec().createSeq(mesh.nEq**2)\n",
    "x = PETSc.Vec().createSeq(mesh.nEq)\n",
    "rhs = PETSc.Vec().createSeq(mesh.nEq)\n",
    "\n",
    "# Get sparsity pattern of stiffness matrix vector\n",
    "lmbda.setValues(range(mesh.nCells), np.ones(mesh.nCells))\n",
    "Ke.mult(lmbda, Kvec)\n",
    "nonzero_K = np.nonzero(Kvec.array)\n",
    "Ktmp = sps.csr_matrix(np.reshape(Kvec.array, (mesh.nEq, mesh.nEq), order='F'))\n",
    "indptr = Ktmp.indptr.copy()\n",
    "indices = Ktmp.indices.copy()\n",
    "\n",
    "# Set up solver\n",
    "ksp = PETSc.KSP().create()\n",
    "ksp.setType('preonly')\n",
    "pc = ksp.getPC()\n",
    "pc.setType('cholesky')\n",
    "ksp.setFromOptions() #???\n",
    "\n",
    "# for scipy comparison\n",
    "Kes = Ke.getValuesCSR()\n",
    "Kes = sps.csr_matrix((Kes[2], Kes[1], Kes[0]))"
   ]
  },
  {
   "cell_type": "code",
   "execution_count": 5,
   "metadata": {},
   "outputs": [],
   "source": [
    "N = 1e3"
   ]
  },
  {
   "cell_type": "code",
   "execution_count": 6,
   "metadata": {},
   "outputs": [
    {
     "name": "stdout",
     "output_type": "stream",
     "text": [
      "PETSc time =  0.0002717530727386475\n"
     ]
    }
   ],
   "source": [
    "start = time.time()\n",
    "for n in range(int(N)):\n",
    "    # Stiffness matrix assembly, lmbda = [1, 1, ..., 1]\n",
    "    lmbda.setValues(range(mesh.nCells), np.ones(mesh.nCells))\n",
    "    rhs.setValues(range(mesh.nEq), np.ones(mesh.nEq))\n",
    "    Ke.mult(lmbda, Kvec)\n",
    "#     K = sps.csr_matrix(np.reshape(Kvec.array, (mesh.nEq, mesh.nEq), order='F'))\n",
    "    K0.setValuesCSR(indptr, indices, Kvec.getValues(nonzero_K))\n",
    "    K0.assemblyBegin()\n",
    "    K0.assemblyEnd()\n",
    "\n",
    "    # solving\n",
    "    ksp.setOperators(K0)\n",
    "    ksp.solve(rhs, x)\n",
    "petsc_time = (time.time() - start)/N\n",
    "print('PETSc time = ', petsc_time)"
   ]
  },
  {
   "cell_type": "code",
   "execution_count": 7,
   "metadata": {},
   "outputs": [
    {
     "name": "stdout",
     "output_type": "stream",
     "text": [
      "scipy time =  0.0017897694110870362\n"
     ]
    }
   ],
   "source": [
    "start = time.time()\n",
    "for n in range(int(N)):\n",
    "    Kvecs = Kes @ np.ones(mesh.nCells)\n",
    "    K1 = sps.csr_matrix(np.reshape(Kvec.array, (mesh.nEq, mesh.nEq), order='F'))\n",
    "    x1 = lg.spsolve(K1, np.ones(mesh.nEq))\n",
    "scipy_time = (time.time() - start)/N\n",
    "print('scipy time = ', scipy_time)"
   ]
  },
  {
   "cell_type": "code",
   "execution_count": 8,
   "metadata": {},
   "outputs": [
    {
     "name": "stdout",
     "output_type": "stream",
     "text": [
      "result difference =  5.895038462914976e-14\n",
      "PETSc speedup =  6.586013519737852\n"
     ]
    }
   ],
   "source": [
    "diff = np.linalg.norm(x.array - x1)/np.linalg.norm(x1)\n",
    "print('result difference = ', diff)\n",
    "print('PETSc speedup = ', scipy_time/petsc_time)"
   ]
  },
  {
   "cell_type": "code",
   "execution_count": null,
   "metadata": {},
   "outputs": [],
   "source": []
  },
  {
   "cell_type": "code",
   "execution_count": null,
   "metadata": {},
   "outputs": [],
   "source": []
  },
  {
   "cell_type": "code",
   "execution_count": null,
   "metadata": {},
   "outputs": [],
   "source": []
  },
  {
   "cell_type": "code",
   "execution_count": null,
   "metadata": {},
   "outputs": [],
   "source": []
  }
 ],
 "metadata": {
  "kernelspec": {
   "display_name": "PyCharm (generative_DR_ROM)",
   "language": "python",
   "name": "pycharm-712517ba"
  },
  "language_info": {
   "codemirror_mode": {
    "name": "ipython",
    "version": 3
   },
   "file_extension": ".py",
   "mimetype": "text/x-python",
   "name": "python",
   "nbconvert_exporter": "python",
   "pygments_lexer": "ipython3",
   "version": "3.7.5"
  }
 },
 "nbformat": 4,
 "nbformat_minor": 2
}

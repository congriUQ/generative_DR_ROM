{
 "cells": [
  {
   "cell_type": "code",
   "execution_count": 1,
   "metadata": {},
   "outputs": [],
   "source": [
    "from poisson_fem import PoissonFEM\n",
    "import ROM\n",
    "import numpy as np\n",
    "import scipy.sparse as sps\n",
    "import scipy.sparse.linalg as lg\n",
    "import time\n",
    "import petsc4py\n",
    "import sys\n",
    "petsc4py.init(sys.argv)\n",
    "from petsc4py import PETSc"
   ]
  },
  {
   "cell_type": "code",
   "execution_count": 2,
   "metadata": {},
   "outputs": [],
   "source": [
    "lin_dim_rom = 16\n",
    "mesh = PoissonFEM.RectangularMesh(np.ones(lin_dim_rom)/lin_dim_rom)\n",
    "# mesh.plot()"
   ]
  },
  {
   "cell_type": "code",
   "execution_count": 3,
   "metadata": {},
   "outputs": [],
   "source": [
    "def origin(x):\n",
    "    return np.abs(x[0]) < np.finfo(float).eps and np.abs(x[1]) < np.finfo(float).eps\n",
    "def essBoundaryFun(x):\n",
    "    return 1.0\n",
    "mesh.setEssentialBoundary(origin, essBoundaryFun)"
   ]
  },
  {
   "cell_type": "code",
   "execution_count": 4,
   "metadata": {},
   "outputs": [],
   "source": [
    "def domainBoundary(x):\n",
    "    # unit square\n",
    "    return np.abs(x[0]) < np.finfo(float).eps or np.abs(x[1]) < np.finfo(float).eps or \\\n",
    "            np.abs(x[0]) > 1.0 - np.finfo(float).eps or np.abs(x[1]) > 1.0 - np.finfo(float).eps\n",
    "mesh.setNaturalBoundary(domainBoundary)"
   ]
  },
  {
   "cell_type": "code",
   "execution_count": 5,
   "metadata": {},
   "outputs": [],
   "source": [
    "#Define boundary flux field\n",
    "def flux(x):\n",
    "    a = np.array([1, 2, 3])\n",
    "    q = np.array([a[0] + a[2]*x[1], a[1] + a[2]*x[0]])\n",
    "    return q"
   ]
  },
  {
   "cell_type": "code",
   "execution_count": 6,
   "metadata": {},
   "outputs": [],
   "source": [
    "rhs = PoissonFEM.RightHandSide(mesh)\n",
    "rhs.setNaturalRHS(mesh, flux)"
   ]
  },
  {
   "cell_type": "code",
   "execution_count": 7,
   "metadata": {},
   "outputs": [],
   "source": [
    "# Set up solver\n",
    "ksp = PETSc.KSP().create()\n",
    "ksp.setType('preonly')\n",
    "pc = ksp.getPC()\n",
    "pc.setType('cholesky')\n",
    "ksp.setFromOptions() #???"
   ]
  },
  {
   "cell_type": "code",
   "execution_count": 8,
   "metadata": {},
   "outputs": [],
   "source": [
    "funSpace = PoissonFEM.FunctionSpace(mesh)\n",
    "K = PoissonFEM.StiffnessMatrix(mesh, funSpace, ksp)"
   ]
  },
  {
   "cell_type": "code",
   "execution_count": 9,
   "metadata": {},
   "outputs": [],
   "source": [
    "rhs.setRhsStencil(mesh, K)"
   ]
  },
  {
   "cell_type": "code",
   "execution_count": 10,
   "metadata": {},
   "outputs": [],
   "source": [
    "# Preallocate\n",
    "x = PETSc.Vec().createSeq(mesh.nEq)"
   ]
  },
  {
   "cell_type": "code",
   "execution_count": 11,
   "metadata": {},
   "outputs": [],
   "source": [
    "# define rom\n",
    "rom = ROM.ROM(mesh, K, rhs)"
   ]
  },
  {
   "cell_type": "code",
   "execution_count": 12,
   "metadata": {},
   "outputs": [],
   "source": [
    "N = 1e4"
   ]
  },
  {
   "cell_type": "code",
   "execution_count": 13,
   "metadata": {},
   "outputs": [
    {
     "name": "stdout",
     "output_type": "stream",
     "text": [
      "PETSc time =  0.00021687884330749512\n"
     ]
    }
   ],
   "source": [
    "lmbda = PETSc.Vec().createSeq(mesh.nCells)\n",
    "x = np.ones(lin_dim_rom**2)\n",
    "start = time.time()\n",
    "for n in range(int(N)):\n",
    "#     lmbda.setValues(range(mesh.nCells), np.ones(lin_dim_rom**2))\n",
    "#     lmbda.array = x\n",
    "    lmbda.createWithArray(x)\n",
    "    \n",
    "    # solve implies stiffness/ rhs assembly and solution\n",
    "    rom.solve(lmbda)\n",
    "petsc_time = (time.time() - start)/N\n",
    "print('PETSc time = ', petsc_time)"
   ]
  },
  {
   "cell_type": "code",
   "execution_count": 14,
   "metadata": {},
   "outputs": [],
   "source": [
    "# for scipy comparison\n",
    "Kes = K.globStiffStencil.getValuesCSR()\n",
    "Kes = sps.csr_matrix((Kes[2], Kes[1], Kes[0]))"
   ]
  },
  {
   "cell_type": "code",
   "execution_count": 15,
   "metadata": {},
   "outputs": [
    {
     "name": "stdout",
     "output_type": "stream",
     "text": [
      "scipy time =  0.0009717262029647827\n"
     ]
    }
   ],
   "source": [
    "start = time.time()\n",
    "for n in range(int(N)):\n",
    "    Kvecs = Kes @ lmbda.array\n",
    "    K1 = sps.csr_matrix((Kvecs[K.vec_nonzero], K.indices, K.indptr))\n",
    "    rhs.assemble(lmbda)   # for fair comparison\n",
    "    x1 = lg.spsolve(K1, rhs.vector.array)\n",
    "scipy_time = (time.time() - start)/N\n",
    "print('scipy time = ', scipy_time)"
   ]
  },
  {
   "cell_type": "code",
   "execution_count": 16,
   "metadata": {},
   "outputs": [
    {
     "name": "stdout",
     "output_type": "stream",
     "text": [
      "result difference =  4.734148133499661e-14\n",
      "PETSc speedup =  4.4805025153470135\n"
     ]
    }
   ],
   "source": [
    "diff = np.linalg.norm(rom.solution.array - x1)/np.linalg.norm(x1)\n",
    "print('result difference = ', diff)\n",
    "print('PETSc speedup = ', scipy_time/petsc_time)"
   ]
  },
  {
   "cell_type": "code",
   "execution_count": 17,
   "metadata": {},
   "outputs": [
    {
     "data": {
      "image/png": "[encoded data removed]",
      "text/plain": [
       "<Figure size 432x288 with 1 Axes>"
      ]
     },
     "metadata": {
      "needs_background": "light"
     },
     "output_type": "display_data"
    }
   ],
   "source": [
    "# plot\n",
    "rom.plotSolution()"
   ]
  },
  {
   "cell_type": "code",
   "execution_count": 18,
   "metadata": {},
   "outputs": [
    {
     "name": "stdout",
     "output_type": "stream",
     "text": [
      "Adjoint time =  9.410595893859863e-06\n"
     ]
    }
   ],
   "source": [
    "start = time.time()\n",
    "for n in range(int(N)):    \n",
    "    # solveAdjoint implies adjoint solution only. No assembly implied!!\n",
    "    rom.solveAdjoint(rom.rhs.vector)\n",
    "adjoint_time = (time.time() - start)/N\n",
    "print('Adjoint time = ', adjoint_time)"
   ]
  },
  {
   "cell_type": "code",
   "execution_count": 19,
   "metadata": {},
   "outputs": [
    {
     "name": "stdout",
     "output_type": "stream",
     "text": [
      "Adjoint difference ==  0.0\n"
     ]
    }
   ],
   "source": [
    "diff = np.linalg.norm(rom.adjointSolution.array - rom.solution.array)/\\\n",
    "        np.linalg.norm(rom.solution.array)   # needs to be 0 if K is symmetric\n",
    "print('Adjoint difference == ', diff)"
   ]
  },
  {
   "cell_type": "code",
   "execution_count": 20,
   "metadata": {},
   "outputs": [],
   "source": [
    "rhsAdj = PETSc.Vec().createSeq(rom.mesh.nEq)\n",
    "rhsAdj.setValues(range(rom.mesh.nEq), np.arange(1.0, rom.mesh.nEq + 1))\n",
    "rom.solveAdjoint(rhsAdj)"
   ]
  },
  {
   "cell_type": "code",
   "execution_count": 21,
   "metadata": {},
   "outputs": [
    {
     "name": "stdout",
     "output_type": "stream",
     "text": [
      "Assembly time =  0.00012485754489898683\n"
     ]
    }
   ],
   "source": [
    "#assembly only\n",
    "start = time.time()\n",
    "for n in range(int(N)):    \n",
    "    rom.stiffnessMatrix.assemble(lmbda)\n",
    "assemble_time = (time.time() - start)/N\n",
    "print('Assembly time = ', assemble_time)"
   ]
  },
  {
   "cell_type": "code",
   "execution_count": 22,
   "metadata": {},
   "outputs": [
    {
     "name": "stdout",
     "output_type": "stream",
     "text": [
      "setOperator time =  5.234241485595703e-07\n"
     ]
    }
   ],
   "source": [
    "#setOperators only\n",
    "start = time.time()\n",
    "for n in range(int(N)):    \n",
    "    rom.stiffnessMatrix.solver.setOperators(rom.stiffnessMatrix.matrix)\n",
    "setOperator_time = (time.time() - start)/N\n",
    "print('setOperator time = ', setOperator_time)"
   ]
  },
  {
   "cell_type": "code",
   "execution_count": 23,
   "metadata": {},
   "outputs": [
    {
     "data": {
      "text/plain": [
       "array([1.0625    , 1.125     , 1.1875    , 1.25      , 1.3125    ,\n",
       "       1.375     , 1.4375    , 1.5       , 1.5625    , 1.625     ,\n",
       "       1.6875    , 1.75      , 1.8125    , 1.875     , 1.9375    ,\n",
       "       2.        , 1.125     , 1.19921875, 1.2734375 , 1.34765625,\n",
       "       1.421875  , 1.49609375, 1.5703125 , 1.64453125, 1.71875   ,\n",
       "       1.79296875, 1.8671875 , 1.94140625, 2.015625  , 2.08984375,\n",
       "       2.1640625 , 2.23828125, 2.3125    , 1.25      , 1.3359375 ,\n",
       "       1.421875  , 1.5078125 , 1.59375   , 1.6796875 , 1.765625  ,\n",
       "       1.8515625 , 1.9375    , 2.0234375 , 2.109375  , 2.1953125 ,\n",
       "       2.28125   , 2.3671875 , 2.453125  , 2.5390625 , 2.625     ,\n",
       "       1.375     , 1.47265625, 1.5703125 , 1.66796875, 1.765625  ,\n",
       "       1.86328125, 1.9609375 , 2.05859375, 2.15625   , 2.25390625,\n",
       "       2.3515625 , 2.44921875, 2.546875  , 2.64453125, 2.7421875 ,\n",
       "       2.83984375, 2.9375    , 1.5       , 1.609375  , 1.71875   ,\n",
       "       1.828125  , 1.9375    , 2.046875  , 2.15625   , 2.265625  ,\n",
       "       2.375     , 2.484375  , 2.59375   , 2.703125  , 2.8125    ,\n",
       "       2.921875  , 3.03125   , 3.140625  , 3.25      , 1.625     ,\n",
       "       1.74609375, 1.8671875 , 1.98828125, 2.109375  , 2.23046875,\n",
       "       2.3515625 , 2.47265625, 2.59375   , 2.71484375, 2.8359375 ,\n",
       "       2.95703125, 3.078125  , 3.19921875, 3.3203125 , 3.44140625,\n",
       "       3.5625    , 1.75      , 1.8828125 , 2.015625  , 2.1484375 ,\n",
       "       2.28125   , 2.4140625 , 2.546875  , 2.6796875 , 2.8125    ,\n",
       "       2.9453125 , 3.078125  , 3.2109375 , 3.34375   , 3.4765625 ,\n",
       "       3.609375  , 3.7421875 , 3.875     , 1.875     , 2.01953125,\n",
       "       2.1640625 , 2.30859375, 2.453125  , 2.59765625, 2.7421875 ,\n",
       "       2.88671875, 3.03125   , 3.17578125, 3.3203125 , 3.46484375,\n",
       "       3.609375  , 3.75390625, 3.8984375 , 4.04296875, 4.1875    ,\n",
       "       2.        , 2.15625   , 2.3125    , 2.46875   , 2.625     ,\n",
       "       2.78125   , 2.9375    , 3.09375   , 3.25      , 3.40625   ,\n",
       "       3.5625    , 3.71875   , 3.875     , 4.03125   , 4.1875    ,\n",
       "       4.34375   , 4.5       , 2.125     , 2.29296875, 2.4609375 ,\n",
       "       2.62890625, 2.796875  , 2.96484375, 3.1328125 , 3.30078125,\n",
       "       3.46875   , 3.63671875, 3.8046875 , 3.97265625, 4.140625  ,\n",
       "       4.30859375, 4.4765625 , 4.64453125, 4.8125    , 2.25      ,\n",
       "       2.4296875 , 2.609375  , 2.7890625 , 2.96875   , 3.1484375 ,\n",
       "       3.328125  , 3.5078125 , 3.6875    , 3.8671875 , 4.046875  ,\n",
       "       4.2265625 , 4.40625   , 4.5859375 , 4.765625  , 4.9453125 ,\n",
       "       5.125     , 2.375     , 2.56640625, 2.7578125 , 2.94921875,\n",
       "       3.140625  , 3.33203125, 3.5234375 , 3.71484375, 3.90625   ,\n",
       "       4.09765625, 4.2890625 , 4.48046875, 4.671875  , 4.86328125,\n",
       "       5.0546875 , 5.24609375, 5.4375    , 2.5       , 2.703125  ,\n",
       "       2.90625   , 3.109375  , 3.3125    , 3.515625  , 3.71875   ,\n",
       "       3.921875  , 4.125     , 4.328125  , 4.53125   , 4.734375  ,\n",
       "       4.9375    , 5.140625  , 5.34375   , 5.546875  , 5.75      ,\n",
       "       2.625     , 2.83984375, 3.0546875 , 3.26953125, 3.484375  ,\n",
       "       3.69921875, 3.9140625 , 4.12890625, 4.34375   , 4.55859375,\n",
       "       4.7734375 , 4.98828125, 5.203125  , 5.41796875, 5.6328125 ,\n",
       "       5.84765625, 6.0625    , 2.75      , 2.9765625 , 3.203125  ,\n",
       "       3.4296875 , 3.65625   , 3.8828125 , 4.109375  , 4.3359375 ,\n",
       "       4.5625    , 4.7890625 , 5.015625  , 5.2421875 , 5.46875   ,\n",
       "       5.6953125 , 5.921875  , 6.1484375 , 6.375     , 2.875     ,\n",
       "       3.11328125, 3.3515625 , 3.58984375, 3.828125  , 4.06640625,\n",
       "       4.3046875 , 4.54296875, 4.78125   , 5.01953125, 5.2578125 ,\n",
       "       5.49609375, 5.734375  , 5.97265625, 6.2109375 , 6.44921875,\n",
       "       6.6875    , 3.        , 3.25      , 3.5       , 3.75      ,\n",
       "       4.        , 4.25      , 4.5       , 4.75      , 5.        ,\n",
       "       5.25      , 5.5       , 5.75      , 6.        , 6.25      ,\n",
       "       6.5       , 6.75      , 7.        ])"
      ]
     },
     "execution_count": 23,
     "metadata": {},
     "output_type": "execute_result"
    }
   ],
   "source": [
    "rom.solution.array"
   ]
  },
  {
   "cell_type": "code",
   "execution_count": 28,
   "metadata": {},
   "outputs": [
    {
     "data": {
      "text/plain": [
       "<petsc4py.PETSc.Vec at 0x7f39d4bc3c50>"
      ]
     },
     "execution_count": 28,
     "metadata": {},
     "output_type": "execute_result"
    }
   ],
   "source": [
    "lmbda.createWithArray(np.exp(lmbda))"
   ]
  },
  {
   "cell_type": "code",
   "execution_count": 29,
   "metadata": {},
   "outputs": [
    {
     "data": {
      "text/plain": [
       "array([2.71828183, 2.71828183, 2.71828183, 2.71828183, 2.71828183,\n",
       "       2.71828183, 2.71828183, 2.71828183, 2.71828183, 2.71828183,\n",
       "       2.71828183, 2.71828183, 2.71828183, 2.71828183, 2.71828183,\n",
       "       2.71828183, 2.71828183, 2.71828183, 2.71828183, 2.71828183,\n",
       "       2.71828183, 2.71828183, 2.71828183, 2.71828183, 2.71828183,\n",
       "       2.71828183, 2.71828183, 2.71828183, 2.71828183, 2.71828183,\n",
       "       2.71828183, 2.71828183, 2.71828183, 2.71828183, 2.71828183,\n",
       "       2.71828183, 2.71828183, 2.71828183, 2.71828183, 2.71828183,\n",
       "       2.71828183, 2.71828183, 2.71828183, 2.71828183, 2.71828183,\n",
       "       2.71828183, 2.71828183, 2.71828183, 2.71828183, 2.71828183,\n",
       "       2.71828183, 2.71828183, 2.71828183, 2.71828183, 2.71828183,\n",
       "       2.71828183, 2.71828183, 2.71828183, 2.71828183, 2.71828183,\n",
       "       2.71828183, 2.71828183, 2.71828183, 2.71828183, 2.71828183,\n",
       "       2.71828183, 2.71828183, 2.71828183, 2.71828183, 2.71828183,\n",
       "       2.71828183, 2.71828183, 2.71828183, 2.71828183, 2.71828183,\n",
       "       2.71828183, 2.71828183, 2.71828183, 2.71828183, 2.71828183,\n",
       "       2.71828183, 2.71828183, 2.71828183, 2.71828183, 2.71828183,\n",
       "       2.71828183, 2.71828183, 2.71828183, 2.71828183, 2.71828183,\n",
       "       2.71828183, 2.71828183, 2.71828183, 2.71828183, 2.71828183,\n",
       "       2.71828183, 2.71828183, 2.71828183, 2.71828183, 2.71828183,\n",
       "       2.71828183, 2.71828183, 2.71828183, 2.71828183, 2.71828183,\n",
       "       2.71828183, 2.71828183, 2.71828183, 2.71828183, 2.71828183,\n",
       "       2.71828183, 2.71828183, 2.71828183, 2.71828183, 2.71828183,\n",
       "       2.71828183, 2.71828183, 2.71828183, 2.71828183, 2.71828183,\n",
       "       2.71828183, 2.71828183, 2.71828183, 2.71828183, 2.71828183,\n",
       "       2.71828183, 2.71828183, 2.71828183, 2.71828183, 2.71828183,\n",
       "       2.71828183, 2.71828183, 2.71828183, 2.71828183, 2.71828183,\n",
       "       2.71828183, 2.71828183, 2.71828183, 2.71828183, 2.71828183,\n",
       "       2.71828183, 2.71828183, 2.71828183, 2.71828183, 2.71828183,\n",
       "       2.71828183, 2.71828183, 2.71828183, 2.71828183, 2.71828183,\n",
       "       2.71828183, 2.71828183, 2.71828183, 2.71828183, 2.71828183,\n",
       "       2.71828183, 2.71828183, 2.71828183, 2.71828183, 2.71828183,\n",
       "       2.71828183, 2.71828183, 2.71828183, 2.71828183, 2.71828183,\n",
       "       2.71828183, 2.71828183, 2.71828183, 2.71828183, 2.71828183,\n",
       "       2.71828183, 2.71828183, 2.71828183, 2.71828183, 2.71828183,\n",
       "       2.71828183, 2.71828183, 2.71828183, 2.71828183, 2.71828183,\n",
       "       2.71828183, 2.71828183, 2.71828183, 2.71828183, 2.71828183,\n",
       "       2.71828183, 2.71828183, 2.71828183, 2.71828183, 2.71828183,\n",
       "       2.71828183, 2.71828183, 2.71828183, 2.71828183, 2.71828183,\n",
       "       2.71828183, 2.71828183, 2.71828183, 2.71828183, 2.71828183,\n",
       "       2.71828183, 2.71828183, 2.71828183, 2.71828183, 2.71828183,\n",
       "       2.71828183, 2.71828183, 2.71828183, 2.71828183, 2.71828183,\n",
       "       2.71828183, 2.71828183, 2.71828183, 2.71828183, 2.71828183,\n",
       "       2.71828183, 2.71828183, 2.71828183, 2.71828183, 2.71828183,\n",
       "       2.71828183, 2.71828183, 2.71828183, 2.71828183, 2.71828183,\n",
       "       2.71828183, 2.71828183, 2.71828183, 2.71828183, 2.71828183,\n",
       "       2.71828183, 2.71828183, 2.71828183, 2.71828183, 2.71828183,\n",
       "       2.71828183, 2.71828183, 2.71828183, 2.71828183, 2.71828183,\n",
       "       2.71828183, 2.71828183, 2.71828183, 2.71828183, 2.71828183,\n",
       "       2.71828183, 2.71828183, 2.71828183, 2.71828183, 2.71828183,\n",
       "       2.71828183, 2.71828183, 2.71828183, 2.71828183, 2.71828183,\n",
       "       2.71828183])"
      ]
     },
     "execution_count": 29,
     "metadata": {},
     "output_type": "execute_result"
    }
   ],
   "source": [
    "lmbda.array"
   ]
  },
  {
   "cell_type": "code",
   "execution_count": null,
   "metadata": {},
   "outputs": [],
   "source": []
  },
  {
   "cell_type": "code",
   "execution_count": null,
   "metadata": {},
   "outputs": [],
   "source": []
  },
  {
   "cell_type": "code",
   "execution_count": null,
   "metadata": {},
   "outputs": [],
   "source": []
  },
  {
   "cell_type": "code",
   "execution_count": null,
   "metadata": {},
   "outputs": [],
   "source": []
  },
  {
   "cell_type": "code",
   "execution_count": null,
   "metadata": {},
   "outputs": [],
   "source": []
  },
  {
   "cell_type": "code",
   "execution_count": null,
   "metadata": {},
   "outputs": [],
   "source": []
  }
 ],
 "metadata": {
  "kernelspec": {
   "display_name": "PyCharm (generative_DR_ROM)",
   "language": "python",
   "name": "pycharm-712517ba"
  },
  "language_info": {
   "codemirror_mode": {
    "name": "ipython",
    "version": 3
   },
   "file_extension": ".py",
   "mimetype": "text/x-python",
   "name": "python",
   "nbconvert_exporter": "python",
   "pygments_lexer": "ipython3",
   "version": "3.7.5"
  }
 },
 "nbformat": 4,
 "nbformat_minor": 2
}

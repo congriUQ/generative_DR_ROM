{
 "cells": [
  {
   "cell_type": "code",
   "execution_count": 1,
   "metadata": {
    "pycharm": {
     "is_executing": false
    }
   },
   "outputs": [],
   "source": [
    "from poisson_fem.mesh import PoissonFEM\n",
    "import numpy as np\n",
    "from pprint import pprint"
   ]
  },
  {
   "cell_type": "code",
   "execution_count": 2,
   "metadata": {
    "pycharm": {
     "is_executing": false
    }
   },
   "outputs": [],
   "source": [
    "mesh = PoissonFEM.RectangularMesh(np.ones(4)/4)"
   ]
  },
  {
   "cell_type": "code",
   "execution_count": 3,
   "metadata": {
    "pycharm": {
     "is_executing": false
    }
   },
   "outputs": [
    {
     "data": {
      "image/png": "[encoded data removed]",
      "text/plain": [
       "<Figure size 432x288 with 1 Axes>"
      ]
     },
     "metadata": {
      "needs_background": "light"
     },
     "output_type": "display_data"
    }
   ],
   "source": [
    "mesh.plot()"
   ]
  },
  {
   "cell_type": "code",
   "execution_count": 4,
   "metadata": {
    "pycharm": {
     "is_executing": false
    }
   },
   "outputs": [],
   "source": [
    "def origin(x):\n",
    "    return np.abs(x[0]) < np.finfo(float).eps and np.abs(x[1]) < np.finfo(float).eps"
   ]
  },
  {
   "cell_type": "code",
   "execution_count": 5,
   "metadata": {
    "pycharm": {
     "is_executing": false
    }
   },
   "outputs": [],
   "source": [
    "mesh.setEssentialBoundary(origin)"
   ]
  },
  {
   "cell_type": "code",
   "execution_count": null,
   "metadata": {
    "pycharm": {
     "is_executing": false
    }
   },
   "outputs": [],
   "source": []
  },
  {
   "cell_type": "code",
   "execution_count": 6,
   "metadata": {
    "pycharm": {
     "is_executing": false
    }
   },
   "outputs": [
    {
     "name": "stdout",
     "output_type": "stream",
     "text": [
      "locIndices0 =  [1 2 3 1 2 3 1 2 3 0 1 2 3 0 1 2 3 0 1 2 3 0 1 2 3 0 1 2 3 0 1 2 3 0 1 2 3\n",
      " 0 1 2 3 0 1 2 3 0 1 2 3 0 1 2 3 0 1 2 3 0 1 2 3 0 1 2 3 0 1 2 3 0 1 2 3 0\n",
      " 1 2 3 0 1 2 3 0 1 2 3 0 1 2 3 0 1 2 3 0 1 2 3 0 1 2 3 0 1 2 3 0 1 2 3 0 1\n",
      " 2 3 0 1 2 3 0 1 2 3 0 1 2 3 0 1 2 3 0 1 2 3 0 1 2 3 0 1 2 3 0 1 2 3 0 1 2\n",
      " 3 0 1 2 3 0 1 2 3 0 1 2 3 0 1 2 3 0 1 2 3 0 1 2 3 0 1 2 3 0 1 2 3 0 1 2 3\n",
      " 0 1 2 3 0 1 2 3 0 1 2 3 0 1 2 3 0 1 2 3 0 1 2 3 0 1 2 3 0 1 2 3 0 1 2 3 0\n",
      " 1 2 3 0 1 2 3 0 1 2 3 0 1 2 3 0 1 2 3 0 1 2 3 0 1 2 3]\n",
      "locIndices1 =  [1 1 1 2 2 2 3 3 3 0 0 0 0 1 1 1 1 2 2 2 2 3 3 3 3 0 0 0 0 1 1 1 1 2 2 2 2\n",
      " 3 3 3 3 0 0 0 0 1 1 1 1 2 2 2 2 3 3 3 3 0 0 0 0 1 1 1 1 2 2 2 2 3 3 3 3 0\n",
      " 0 0 0 1 1 1 1 2 2 2 2 3 3 3 3 0 0 0 0 1 1 1 1 2 2 2 2 3 3 3 3 0 0 0 0 1 1\n",
      " 1 1 2 2 2 2 3 3 3 3 0 0 0 0 1 1 1 1 2 2 2 2 3 3 3 3 0 0 0 0 1 1 1 1 2 2 2\n",
      " 2 3 3 3 3 0 0 0 0 1 1 1 1 2 2 2 2 3 3 3 3 0 0 0 0 1 1 1 1 2 2 2 2 3 3 3 3\n",
      " 0 0 0 0 1 1 1 1 2 2 2 2 3 3 3 3 0 0 0 0 1 1 1 1 2 2 2 2 3 3 3 3 0 0 0 0 1\n",
      " 1 1 1 2 2 2 2 3 3 3 3 0 0 0 0 1 1 1 1 2 2 2 2 3 3 3 3]\n"
     ]
    }
   ],
   "source": [
    "eqInd, kIndex = mesh.compEquationIndices()"
   ]
  },
  {
   "cell_type": "code",
   "execution_count": 7,
   "metadata": {
    "pycharm": {
     "is_executing": false
    }
   },
   "outputs": [
    {
     "data": {
      "text/plain": [
       "int"
      ]
     },
     "execution_count": 7,
     "metadata": {},
     "output_type": "execute_result"
    }
   ],
   "source": [
    "i = 0\n",
    "i+=1\n",
    "type(i)"
   ]
  },
  {
   "cell_type": "code",
   "execution_count": 8,
   "metadata": {
    "pycharm": {
     "is_executing": false
    }
   },
   "outputs": [
    {
     "data": {
      "text/plain": [
       "[array([ 0,  5,  4,  0,  5,  4,  0,  5,  4,  0,  1,  6,  5,  0,  1,  6,  5,\n",
       "         0,  1,  6,  5,  0,  1,  6,  5,  1,  2,  7,  6,  1,  2,  7,  6,  1,\n",
       "         2,  7,  6,  1,  2,  7,  6,  2,  3,  8,  7,  2,  3,  8,  7,  2,  3,\n",
       "         8,  7,  2,  3,  8,  7,  4,  5, 10,  9,  4,  5, 10,  9,  4,  5, 10,\n",
       "         9,  4,  5, 10,  9,  5,  6, 11, 10,  5,  6, 11, 10,  5,  6, 11, 10,\n",
       "         5,  6, 11, 10,  6,  7, 12, 11,  6,  7, 12, 11,  6,  7, 12, 11,  6,\n",
       "         7, 12, 11,  7,  8, 13, 12,  7,  8, 13, 12,  7,  8, 13, 12,  7,  8,\n",
       "        13, 12,  9, 10, 15, 14,  9, 10, 15, 14,  9, 10, 15, 14,  9, 10, 15,\n",
       "        14, 10, 11, 16, 15, 10, 11, 16, 15, 10, 11, 16, 15, 10, 11, 16, 15,\n",
       "        11, 12, 17, 16, 11, 12, 17, 16, 11, 12, 17, 16, 11, 12, 17, 16, 12,\n",
       "        13, 18, 17, 12, 13, 18, 17, 12, 13, 18, 17, 12, 13, 18, 17, 14, 15,\n",
       "        20, 19, 14, 15, 20, 19, 14, 15, 20, 19, 14, 15, 20, 19, 15, 16, 21,\n",
       "        20, 15, 16, 21, 20, 15, 16, 21, 20, 15, 16, 21, 20, 16, 17, 22, 21,\n",
       "        16, 17, 22, 21, 16, 17, 22, 21, 16, 17, 22, 21, 17, 18, 23, 22, 17,\n",
       "        18, 23, 22, 17, 18, 23, 22, 17, 18, 23, 22], dtype=uint32),\n",
       " array([ 0,  0,  0,  5,  5,  5,  4,  4,  4,  0,  0,  0,  0,  1,  1,  1,  1,\n",
       "         6,  6,  6,  6,  5,  5,  5,  5,  1,  1,  1,  1,  2,  2,  2,  2,  7,\n",
       "         7,  7,  7,  6,  6,  6,  6,  2,  2,  2,  2,  3,  3,  3,  3,  8,  8,\n",
       "         8,  8,  7,  7,  7,  7,  4,  4,  4,  4,  5,  5,  5,  5, 10, 10, 10,\n",
       "        10,  9,  9,  9,  9,  5,  5,  5,  5,  6,  6,  6,  6, 11, 11, 11, 11,\n",
       "        10, 10, 10, 10,  6,  6,  6,  6,  7,  7,  7,  7, 12, 12, 12, 12, 11,\n",
       "        11, 11, 11,  7,  7,  7,  7,  8,  8,  8,  8, 13, 13, 13, 13, 12, 12,\n",
       "        12, 12,  9,  9,  9,  9, 10, 10, 10, 10, 15, 15, 15, 15, 14, 14, 14,\n",
       "        14, 10, 10, 10, 10, 11, 11, 11, 11, 16, 16, 16, 16, 15, 15, 15, 15,\n",
       "        11, 11, 11, 11, 12, 12, 12, 12, 17, 17, 17, 17, 16, 16, 16, 16, 12,\n",
       "        12, 12, 12, 13, 13, 13, 13, 18, 18, 18, 18, 17, 17, 17, 17, 14, 14,\n",
       "        14, 14, 15, 15, 15, 15, 20, 20, 20, 20, 19, 19, 19, 19, 15, 15, 15,\n",
       "        15, 16, 16, 16, 16, 21, 21, 21, 21, 20, 20, 20, 20, 16, 16, 16, 16,\n",
       "        17, 17, 17, 17, 22, 22, 22, 22, 21, 21, 21, 21, 17, 17, 17, 17, 18,\n",
       "        18, 18, 18, 23, 23, 23, 23, 22, 22, 22, 22], dtype=uint32)]"
      ]
     },
     "execution_count": 8,
     "metadata": {},
     "output_type": "execute_result"
    }
   ],
   "source": [
    "eqInd"
   ]
  },
  {
   "cell_type": "code",
   "execution_count": 9,
   "metadata": {
    "pycharm": {
     "is_executing": false,
     "name": "#%%\n"
    }
   },
   "outputs": [
    {
     "data": {
      "text/plain": [
       "array([  5,   9,  13,   6,  10,  14,   7,  11,  15,  16,  20,  24,  28,\n",
       "        17,  21,  25,  29,  18,  22,  26,  30,  19,  23,  27,  31,  32,\n",
       "        36,  40,  44,  33,  37,  41,  45,  34,  38,  42,  46,  35,  39,\n",
       "        43,  47,  48,  52,  56,  60,  49,  53,  57,  61,  50,  54,  58,\n",
       "        62,  51,  55,  59,  63,  64,  68,  72,  76,  65,  69,  73,  77,\n",
       "        66,  70,  74,  78,  67,  71,  75,  79,  80,  84,  88,  92,  81,\n",
       "        85,  89,  93,  82,  86,  90,  94,  83,  87,  91,  95,  96, 100,\n",
       "       104, 108,  97, 101, 105, 109,  98, 102, 106, 110,  99, 103, 107,\n",
       "       111, 112, 116, 120, 124, 113, 117, 121, 125, 114, 118, 122, 126,\n",
       "       115, 119, 123, 127, 128, 132, 136, 140, 129, 133, 137, 141, 130,\n",
       "       134, 138, 142, 131, 135, 139, 143, 144, 148, 152, 156, 145, 149,\n",
       "       153, 157, 146, 150, 154, 158, 147, 151, 155, 159, 160, 164, 168,\n",
       "       172, 161, 165, 169, 173, 162, 166, 170, 174, 163, 167, 171, 175,\n",
       "       176, 180, 184, 188, 177, 181, 185, 189, 178, 182, 186, 190, 179,\n",
       "       183, 187, 191, 192, 196, 200, 204, 193, 197, 201, 205, 194, 198,\n",
       "       202, 206, 195, 199, 203, 207, 208, 212, 216, 220, 209, 213, 217,\n",
       "       221, 210, 214, 218, 222, 211, 215, 219, 223, 224, 228, 232, 236,\n",
       "       225, 229, 233, 237, 226, 230, 234, 238, 227, 231, 235, 239, 240,\n",
       "       244, 248, 252, 241, 245, 249, 253, 242, 246, 250, 254, 243, 247,\n",
       "       251, 255])"
      ]
     },
     "execution_count": 9,
     "metadata": {},
     "output_type": "execute_result"
    }
   ],
   "source": [
    "kIndex"
   ]
  },
  {
   "cell_type": "code",
   "execution_count": 10,
   "metadata": {},
   "outputs": [
    {
     "data": {
      "text/plain": [
       "False"
      ]
     },
     "execution_count": 10,
     "metadata": {},
     "output_type": "execute_result"
    }
   ],
   "source": [
    "mesh.vertices[1].boundaryType"
   ]
  },
  {
   "cell_type": "code",
   "execution_count": 3,
   "metadata": {},
   "outputs": [
    {
     "data": {
      "text/plain": [
       "53062310.787429534"
      ]
     },
     "execution_count": 3,
     "metadata": {},
     "output_type": "execute_result"
    }
   ],
   "source": [
    "import numpy as np\n",
    "np.sqrt(10*256*256) * (10 + 256*256)"
   ]
  },
  {
   "cell_type": "code",
   "execution_count": null,
   "metadata": {},
   "outputs": [],
   "source": []
  },
  {
   "cell_type": "code",
   "execution_count": null,
   "metadata": {},
   "outputs": [],
   "source": []
  },
  {
   "cell_type": "code",
   "execution_count": null,
   "metadata": {},
   "outputs": [],
   "source": []
  }
 ],
 "metadata": {
  "kernelspec": {
   "display_name": "Python 3",
   "language": "python",
   "name": "python3"
  },
  "language_info": {
   "codemirror_mode": {
    "name": "ipython",
    "version": 3
   },
   "file_extension": ".py",
   "mimetype": "text/x-python",
   "name": "python",
   "nbconvert_exporter": "python",
   "pygments_lexer": "ipython3",
   "version": "3.7.5"
  },
  "pycharm": {
   "stem_cell": {
    "cell_type": "raw",
    "metadata": {
     "collapsed": false
    },
    "source": []
   }
  }
 },
 "nbformat": 4,
 "nbformat_minor": 1
}
